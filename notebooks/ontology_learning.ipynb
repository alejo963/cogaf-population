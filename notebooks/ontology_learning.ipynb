{
 "cells": [
  {
   "cell_type": "markdown",
   "metadata": {},
   "source": [
    "# Ontology population: Rule-based instance retrieval from text\n"
   ]
  },
  {
   "cell_type": "code",
   "execution_count": 1,
   "metadata": {},
   "outputs": [],
   "source": [
    "import pandas as pd\n",
    "from modules.text_processing import load_text_files, normalize, get_event"
   ]
  },
  {
   "cell_type": "markdown",
   "metadata": {},
   "source": [
    "## Load and normalize texts\n"
   ]
  },
  {
   "cell_type": "code",
   "execution_count": 2,
   "metadata": {},
   "outputs": [
    {
     "data": {
      "text/html": [
       "<div>\n",
       "<style scoped>\n",
       "    .dataframe tbody tr th:only-of-type {\n",
       "        vertical-align: middle;\n",
       "    }\n",
       "\n",
       "    .dataframe tbody tr th {\n",
       "        vertical-align: top;\n",
       "    }\n",
       "\n",
       "    .dataframe thead th {\n",
       "        text-align: right;\n",
       "    }\n",
       "</style>\n",
       "<table border=\"1\" class=\"dataframe\">\n",
       "  <thead>\n",
       "    <tr style=\"text-align: right;\">\n",
       "      <th></th>\n",
       "      <th>file</th>\n",
       "      <th>text</th>\n",
       "    </tr>\n",
       "  </thead>\n",
       "  <tbody>\n",
       "    <tr>\n",
       "      <th>0</th>\n",
       "      <td>leccion_aprendida_explo_sub_carbon_el_zulia_nt...</td>\n",
       "      <td>LECCIÓN APRENDIDA\\n\\n¿QUÉ PASÓ?\\n\\nSe presentó...</td>\n",
       "    </tr>\n",
       "    <tr>\n",
       "      <th>1</th>\n",
       "      <td>leccion_aprendida_explo_sub_carbon_cucunuba_cu...</td>\n",
       "      <td>LECCIÓN\\tAPRENDIDA\\n\\n¿QUÉ PASÓ?\\n\\nEl día 4 d...</td>\n",
       "    </tr>\n",
       "    <tr>\n",
       "      <th>2</th>\n",
       "      <td>leccion_aprendida_explo_sub_carbon_cucunuba_cu...</td>\n",
       "      <td>LECCIÓN\\tAPRENDIDA\\n\\n¿QUÉ PASÓ?\\n\\nEl día 30 ...</td>\n",
       "    </tr>\n",
       "    <tr>\n",
       "      <th>3</th>\n",
       "      <td>leccion_aprendida_explo_sub_carbon_buenos_aire...</td>\n",
       "      <td>LECCIÓN APRENDIDA\\n\\n¿QUÉ PASÓ?\\n\\nSe presentó...</td>\n",
       "    </tr>\n",
       "    <tr>\n",
       "      <th>4</th>\n",
       "      <td>leccion_aprendida_derrumbre_cali_valle_cauca_2...</td>\n",
       "      <td>¿QUÉ PASÓ?\\n\\nSe presentó un accidente minero ...</td>\n",
       "    </tr>\n",
       "  </tbody>\n",
       "</table>\n",
       "</div>"
      ],
      "text/plain": [
       "                                                file  \\\n",
       "0  leccion_aprendida_explo_sub_carbon_el_zulia_nt...   \n",
       "1  leccion_aprendida_explo_sub_carbon_cucunuba_cu...   \n",
       "2  leccion_aprendida_explo_sub_carbon_cucunuba_cu...   \n",
       "3  leccion_aprendida_explo_sub_carbon_buenos_aire...   \n",
       "4  leccion_aprendida_derrumbre_cali_valle_cauca_2...   \n",
       "\n",
       "                                                text  \n",
       "0  LECCIÓN APRENDIDA\\n\\n¿QUÉ PASÓ?\\n\\nSe presentó...  \n",
       "1  LECCIÓN\\tAPRENDIDA\\n\\n¿QUÉ PASÓ?\\n\\nEl día 4 d...  \n",
       "2  LECCIÓN\\tAPRENDIDA\\n\\n¿QUÉ PASÓ?\\n\\nEl día 30 ...  \n",
       "3  LECCIÓN APRENDIDA\\n\\n¿QUÉ PASÓ?\\n\\nSe presentó...  \n",
       "4  ¿QUÉ PASÓ?\\n\\nSe presentó un accidente minero ...  "
      ]
     },
     "execution_count": 2,
     "metadata": {},
     "output_type": "execute_result"
    }
   ],
   "source": [
    "text_list = load_text_files('./../data/text/raw/')\n",
    "\n",
    "df = pd.DataFrame({\"file\": text_list.keys(), \"text\": text_list.values()})\n",
    "df.head()"
   ]
  },
  {
   "cell_type": "code",
   "execution_count": 3,
   "metadata": {},
   "outputs": [
    {
     "data": {
      "text/html": [
       "<div>\n",
       "<style scoped>\n",
       "    .dataframe tbody tr th:only-of-type {\n",
       "        vertical-align: middle;\n",
       "    }\n",
       "\n",
       "    .dataframe tbody tr th {\n",
       "        vertical-align: top;\n",
       "    }\n",
       "\n",
       "    .dataframe thead th {\n",
       "        text-align: right;\n",
       "    }\n",
       "</style>\n",
       "<table border=\"1\" class=\"dataframe\">\n",
       "  <thead>\n",
       "    <tr style=\"text-align: right;\">\n",
       "      <th></th>\n",
       "      <th>file</th>\n",
       "      <th>text</th>\n",
       "      <th>norm_text</th>\n",
       "    </tr>\n",
       "  </thead>\n",
       "  <tbody>\n",
       "    <tr>\n",
       "      <th>0</th>\n",
       "      <td>leccion_aprendida_explo_sub_carbon_el_zulia_nt...</td>\n",
       "      <td>LECCIÓN APRENDIDA\\n\\n¿QUÉ PASÓ?\\n\\nSe presentó...</td>\n",
       "      <td>LECCIÓN APRENDIDA ¿QUÉ PASÓ? Se presentó un ac...</td>\n",
       "    </tr>\n",
       "    <tr>\n",
       "      <th>1</th>\n",
       "      <td>leccion_aprendida_explo_sub_carbon_cucunuba_cu...</td>\n",
       "      <td>LECCIÓN\\tAPRENDIDA\\n\\n¿QUÉ PASÓ?\\n\\nEl día 4 d...</td>\n",
       "      <td>LECCIÓN APRENDIDA ¿QUÉ PASÓ? El día 4 de abril...</td>\n",
       "    </tr>\n",
       "    <tr>\n",
       "      <th>2</th>\n",
       "      <td>leccion_aprendida_explo_sub_carbon_cucunuba_cu...</td>\n",
       "      <td>LECCIÓN\\tAPRENDIDA\\n\\n¿QUÉ PASÓ?\\n\\nEl día 30 ...</td>\n",
       "      <td>LECCIÓN APRENDIDA ¿QUÉ PASÓ? El día 30 de mayo...</td>\n",
       "    </tr>\n",
       "    <tr>\n",
       "      <th>3</th>\n",
       "      <td>leccion_aprendida_explo_sub_carbon_buenos_aire...</td>\n",
       "      <td>LECCIÓN APRENDIDA\\n\\n¿QUÉ PASÓ?\\n\\nSe presentó...</td>\n",
       "      <td>LECCIÓN APRENDIDA ¿QUÉ PASÓ? Se presentó un ac...</td>\n",
       "    </tr>\n",
       "    <tr>\n",
       "      <th>4</th>\n",
       "      <td>leccion_aprendida_derrumbre_cali_valle_cauca_2...</td>\n",
       "      <td>¿QUÉ PASÓ?\\n\\nSe presentó un accidente minero ...</td>\n",
       "      <td>¿QUÉ PASÓ? Se presentó un accidente minero cua...</td>\n",
       "    </tr>\n",
       "  </tbody>\n",
       "</table>\n",
       "</div>"
      ],
      "text/plain": [
       "                                                file  \\\n",
       "0  leccion_aprendida_explo_sub_carbon_el_zulia_nt...   \n",
       "1  leccion_aprendida_explo_sub_carbon_cucunuba_cu...   \n",
       "2  leccion_aprendida_explo_sub_carbon_cucunuba_cu...   \n",
       "3  leccion_aprendida_explo_sub_carbon_buenos_aire...   \n",
       "4  leccion_aprendida_derrumbre_cali_valle_cauca_2...   \n",
       "\n",
       "                                                text  \\\n",
       "0  LECCIÓN APRENDIDA\\n\\n¿QUÉ PASÓ?\\n\\nSe presentó...   \n",
       "1  LECCIÓN\\tAPRENDIDA\\n\\n¿QUÉ PASÓ?\\n\\nEl día 4 d...   \n",
       "2  LECCIÓN\\tAPRENDIDA\\n\\n¿QUÉ PASÓ?\\n\\nEl día 30 ...   \n",
       "3  LECCIÓN APRENDIDA\\n\\n¿QUÉ PASÓ?\\n\\nSe presentó...   \n",
       "4  ¿QUÉ PASÓ?\\n\\nSe presentó un accidente minero ...   \n",
       "\n",
       "                                           norm_text  \n",
       "0  LECCIÓN APRENDIDA ¿QUÉ PASÓ? Se presentó un ac...  \n",
       "1  LECCIÓN APRENDIDA ¿QUÉ PASÓ? El día 4 de abril...  \n",
       "2  LECCIÓN APRENDIDA ¿QUÉ PASÓ? El día 30 de mayo...  \n",
       "3  LECCIÓN APRENDIDA ¿QUÉ PASÓ? Se presentó un ac...  \n",
       "4  ¿QUÉ PASÓ? Se presentó un accidente minero cua...  "
      ]
     },
     "execution_count": 3,
     "metadata": {},
     "output_type": "execute_result"
    }
   ],
   "source": [
    "df['norm_text'] = [normalize(text, False, False) for text in df.text]\n",
    "df.head()"
   ]
  },
  {
   "cell_type": "markdown",
   "metadata": {},
   "source": [
    "## Extract components with rule-based matching"
   ]
  },
  {
   "cell_type": "code",
   "execution_count": 4,
   "metadata": {},
   "outputs": [
    {
     "data": {
      "text/plain": [
       "'¿QUÉ PASÓ? Se presentó un accidente minero en el frente del Inclinado 1 aproximadamente a 335m desde superficie, cuando un trabajador minero es atrapado por roca y carbón provenientes del respaldo superior (techo inmediato) ocasionándole lesiones múltiples que le originaron la muerte.'"
      ]
     },
     "execution_count": 4,
     "metadata": {},
     "output_type": "execute_result"
    }
   ],
   "source": [
    "event_desc = get_event(df.norm_text[0])\n",
    "event_desc"
   ]
  },
  {
   "cell_type": "code",
   "execution_count": 5,
   "metadata": {},
   "outputs": [
    {
     "data": {
      "text/plain": [
       "'DESCRIPCIÓN DEL ACCIDENTE: Al final de la jornada, el trabajador procedía a realizar la limpieza de la sierra de péndulo (para corte de madera de balsa) por la parte posterior, sin tener en cuenta que la máquina a pesar de estar apagada, el disco de la sierra seguía girando y este hizo contacto con los dedos de la mano izquierda del trabajador.'"
      ]
     },
     "execution_count": 5,
     "metadata": {},
     "output_type": "execute_result"
    }
   ],
   "source": [
    "get_event(df[df.file == \"Cortes-1.txt\"].norm_text[28])"
   ]
  }
 ],
 "metadata": {
  "kernelspec": {
   "display_name": "base",
   "language": "python",
   "name": "python3"
  },
  "language_info": {
   "codemirror_mode": {
    "name": "ipython",
    "version": 3
   },
   "file_extension": ".py",
   "mimetype": "text/x-python",
   "name": "python",
   "nbconvert_exporter": "python",
   "pygments_lexer": "ipython3",
   "version": "3.11.7"
  }
 },
 "nbformat": 4,
 "nbformat_minor": 2
}
