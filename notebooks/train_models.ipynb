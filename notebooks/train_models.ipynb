{
 "cells": [
  {
   "cell_type": "markdown",
   "metadata": {},
   "source": [
    "# Model training"
   ]
  },
  {
   "cell_type": "code",
   "execution_count": 157,
   "metadata": {},
   "outputs": [],
   "source": [
    "import torch\n",
    "from torch import nn\n",
    "import pandas as pd"
   ]
  },
  {
   "cell_type": "code",
   "execution_count": 158,
   "metadata": {},
   "outputs": [
    {
     "data": {
      "text/plain": [
       "'cuda'"
      ]
     },
     "execution_count": 158,
     "metadata": {},
     "output_type": "execute_result"
    }
   ],
   "source": [
    "# Setup device agnostic code\n",
    "device = \"cuda\" if torch.cuda.is_available() else \"cpu\"\n",
    "device"
   ]
  },
  {
   "cell_type": "code",
   "execution_count": 159,
   "metadata": {},
   "outputs": [
    {
     "data": {
      "text/plain": [
       "((145, 2593), (145, 61))"
      ]
     },
     "execution_count": 159,
     "metadata": {},
     "output_type": "execute_result"
    }
   ],
   "source": [
    "# Load data\n",
    "\n",
    "X_train = pd.read_csv(\"./../data/features/in_features_train.csv\")\n",
    "X_train_pca = pd.read_csv(\"./../data/features/pca_in_features_train.csv\")\n",
    "\n",
    "X_train.shape, X_train_pca.shape"
   ]
  },
  {
   "cell_type": "code",
   "execution_count": 160,
   "metadata": {},
   "outputs": [
    {
     "data": {
      "text/plain": [
       "((145,), (145,))"
      ]
     },
     "execution_count": 160,
     "metadata": {},
     "output_type": "execute_result"
    }
   ],
   "source": [
    "y_train = pd.read_csv(\"./../data/features/out_features_train.csv\").label\n",
    "y_train_pca = pd.read_csv(\"./../data/features/pca_out_features_train.csv\").label\n",
    "\n",
    "y_train.shape, y_train_pca.shape"
   ]
  },
  {
   "cell_type": "code",
   "execution_count": 161,
   "metadata": {},
   "outputs": [
    {
     "data": {
      "text/plain": [
       "((16, 2593), (16, 61))"
      ]
     },
     "execution_count": 161,
     "metadata": {},
     "output_type": "execute_result"
    }
   ],
   "source": [
    "X_test = pd.read_csv(\"./../data/features/in_features_test.csv\")\n",
    "X_test_pca = pd.read_csv(\"./../data/features/pca_in_features_test.csv\")\n",
    "\n",
    "X_test.shape, X_test_pca.shape"
   ]
  },
  {
   "cell_type": "code",
   "execution_count": 162,
   "metadata": {},
   "outputs": [
    {
     "data": {
      "text/plain": [
       "(16,)"
      ]
     },
     "execution_count": 162,
     "metadata": {},
     "output_type": "execute_result"
    }
   ],
   "source": [
    "y_test = pd.read_csv(\"./../data/features/out_features_test.csv\").label\n",
    "\n",
    "y_test.shape"
   ]
  },
  {
   "cell_type": "markdown",
   "metadata": {},
   "source": [
    "## Support Vector Machine (SVM)"
   ]
  },
  {
   "cell_type": "markdown",
   "metadata": {},
   "source": [
    "### Non PCA features"
   ]
  },
  {
   "cell_type": "code",
   "execution_count": 163,
   "metadata": {},
   "outputs": [],
   "source": [
    "from sklearn.svm import SVC\n",
    "from sklearn.model_selection import GridSearchCV, KFold\n",
    "\n",
    "svm = SVC(kernel='rbf', C=10, gamma=0.01)\n",
    "# p_grid = {\"C\": [1, 10, 20, 50, 100], \"gamma\": [0.01, 0.1, 0.2, 0.4, 0.6, 0.8]}\n",
    "# cv = KFold(n_splits=5, shuffle=True)\n",
    "\n",
    "# clf = GridSearchCV(estimator=svm, param_grid=p_grid, cv=cv, scoring=\"f1_macro\")\n",
    "# clf.fit(X_train, y_train)\n",
    "\n",
    "clf = svm.fit(X_train, y_train)"
   ]
  },
  {
   "cell_type": "code",
   "execution_count": 164,
   "metadata": {},
   "outputs": [
    {
     "data": {
      "text/plain": [
       "array([0, 0, 0, 0, 2, 0, 0, 2, 1, 2, 0, 0, 1, 0, 0, 0], dtype=int64)"
      ]
     },
     "execution_count": 164,
     "metadata": {},
     "output_type": "execute_result"
    }
   ],
   "source": [
    "y_pred = clf.predict(X_test)\n",
    "y_pred"
   ]
  },
  {
   "cell_type": "code",
   "execution_count": 165,
   "metadata": {},
   "outputs": [
    {
     "data": {
      "text/plain": [
       "array([2, 2, 0, 0, 0, 2, 0, 1, 3, 1, 2, 0, 1, 0, 0, 0], dtype=int64)"
      ]
     },
     "execution_count": 165,
     "metadata": {},
     "output_type": "execute_result"
    }
   ],
   "source": [
    "y_test.to_numpy()"
   ]
  },
  {
   "cell_type": "code",
   "execution_count": 166,
   "metadata": {},
   "outputs": [
    {
     "name": "stdout",
     "output_type": "stream",
     "text": [
      "Accuracy:  0.8689655172413793  | F1-score:  0.8692980296196385  | Precision:  0.8928321678321678  | Recall:  0.8689655172413794\n"
     ]
    }
   ],
   "source": [
    "from modules.engine import get_metrics\n",
    "svm_train_metrics = get_metrics(y_train, clf.predict(X_train))"
   ]
  },
  {
   "cell_type": "code",
   "execution_count": 167,
   "metadata": {},
   "outputs": [
    {
     "name": "stdout",
     "output_type": "stream",
     "text": [
      "Accuracy:  0.5  | F1-score:  0.28421052631578947  | Precision:  0.28409090909090906  | Recall:  0.3020833333333333\n"
     ]
    }
   ],
   "source": [
    "# Evaluate\n",
    "svm_test_metrics = get_metrics(y_test, y_pred)"
   ]
  },
  {
   "cell_type": "code",
   "execution_count": 168,
   "metadata": {},
   "outputs": [
    {
     "data": {
      "text/plain": [
       "{'C': 10,\n",
       " 'break_ties': False,\n",
       " 'cache_size': 200,\n",
       " 'class_weight': None,\n",
       " 'coef0': 0.0,\n",
       " 'decision_function_shape': 'ovr',\n",
       " 'degree': 3,\n",
       " 'gamma': 0.01,\n",
       " 'kernel': 'rbf',\n",
       " 'max_iter': -1,\n",
       " 'probability': False,\n",
       " 'random_state': None,\n",
       " 'shrinking': True,\n",
       " 'tol': 0.001,\n",
       " 'verbose': False}"
      ]
     },
     "execution_count": 168,
     "metadata": {},
     "output_type": "execute_result"
    }
   ],
   "source": [
    "clf.get_params()"
   ]
  },
  {
   "cell_type": "code",
   "execution_count": 169,
   "metadata": {},
   "outputs": [
    {
     "data": {
      "text/plain": [
       "['models\\\\svm.pk']"
      ]
     },
     "execution_count": 169,
     "metadata": {},
     "output_type": "execute_result"
    }
   ],
   "source": [
    "import joblib\n",
    "from pathlib import Path\n",
    "\n",
    "\n",
    "# Create models directory (if it doesn't already exist), see: https://docs.python.org/3/library/pathlib.html#pathlib.Path.mkdir\n",
    "MODEL_PATH = Path(\"models\")\n",
    "MODEL_PATH.mkdir(parents=True, # create parent directories if needed\n",
    "                 exist_ok=True # if models directory already exists, don't error\n",
    ")\n",
    "\n",
    "# Create model save path\n",
    "MODEL_NAME = \"svm.pk\"\n",
    "MODEL_SAVE_PATH = MODEL_PATH / MODEL_NAME\n",
    "\n",
    "joblib.dump(clf, MODEL_SAVE_PATH)"
   ]
  },
  {
   "cell_type": "markdown",
   "metadata": {},
   "source": [
    "### PCA features\n"
   ]
  },
  {
   "cell_type": "code",
   "execution_count": 170,
   "metadata": {},
   "outputs": [],
   "source": [
    "svm = SVC(kernel='rbf', C=20, gamma=0.01)\n",
    "# p_grid = {\"C\": [1, 10, 100], \"gamma\": [0.01, 0.1]}\n",
    "# cv = KFold(n_splits=5, shuffle=True)\n",
    "\n",
    "# clf_pca = GridSearchCV(estimator=svm, param_grid=p_grid, cv=cv, scoring=\"f1_macro\")\n",
    "# clf_pca.fit(X_train_pca, y_train)\n",
    "\n",
    "clf_pca = svm.fit(X_train_pca, y_train_pca)"
   ]
  },
  {
   "cell_type": "code",
   "execution_count": 171,
   "metadata": {},
   "outputs": [],
   "source": [
    "y_pred = clf_pca.predict(X_test_pca)"
   ]
  },
  {
   "cell_type": "code",
   "execution_count": 172,
   "metadata": {},
   "outputs": [
    {
     "data": {
      "text/plain": [
       "array([2, 2, 0, 0, 0, 2, 0, 1, 3, 1, 2, 0, 1, 0, 0, 0], dtype=int64)"
      ]
     },
     "execution_count": 172,
     "metadata": {},
     "output_type": "execute_result"
    }
   ],
   "source": [
    "y_test.to_numpy()"
   ]
  },
  {
   "cell_type": "code",
   "execution_count": 173,
   "metadata": {},
   "outputs": [
    {
     "name": "stdout",
     "output_type": "stream",
     "text": [
      "Accuracy:  0.9793103448275862  | F1-score:  0.9791873019779139  | Precision:  0.9792939244663383  | Recall:  0.9793103448275862\n"
     ]
    }
   ],
   "source": [
    "svm_pca_train_metrics = get_metrics(y_train, clf_pca.predict(X_train_pca))"
   ]
  },
  {
   "cell_type": "code",
   "execution_count": 174,
   "metadata": {},
   "outputs": [
    {
     "name": "stdout",
     "output_type": "stream",
     "text": [
      "Accuracy:  0.5  | F1-score:  0.27777777777777773  | Precision:  0.2583333333333333  | Recall:  0.3020833333333333\n"
     ]
    }
   ],
   "source": [
    "# Evaluate\n",
    "svm_pca_test_metrics = get_metrics(y_test, y_pred)"
   ]
  },
  {
   "cell_type": "markdown",
   "metadata": {},
   "source": [
    "## Linear model"
   ]
  },
  {
   "cell_type": "markdown",
   "metadata": {},
   "source": [
    "## Non-PCA"
   ]
  },
  {
   "cell_type": "code",
   "execution_count": 175,
   "metadata": {},
   "outputs": [
    {
     "data": {
      "text/plain": [
       "(2593, 5)"
      ]
     },
     "execution_count": 175,
     "metadata": {},
     "output_type": "execute_result"
    }
   ],
   "source": [
    "X_train = torch.from_numpy(X_train.to_numpy()).type(torch.float)\n",
    "X_test = torch.from_numpy(X_test.to_numpy()).type(torch.float)\n",
    "\n",
    "classes = y_train.unique()\n",
    "\n",
    "y_train = torch.from_numpy(y_train.to_numpy()).type(torch.LongTensor)\n",
    "y_test = torch.from_numpy(y_test.to_numpy()).type(torch.LongTensor)\n",
    "\n",
    "in_features, out_features = X_train.shape[1], len(classes)\n",
    "in_features, out_features"
   ]
  },
  {
   "cell_type": "code",
   "execution_count": 176,
   "metadata": {},
   "outputs": [],
   "source": [
    "from modules.model_builder import BaseModel\n",
    "\n",
    "model_0 = BaseModel(in_features, 50, out_features).to(device)"
   ]
  },
  {
   "cell_type": "code",
   "execution_count": 177,
   "metadata": {},
   "outputs": [
    {
     "name": "stdout",
     "output_type": "stream",
     "text": [
      "Epoch: 0\n",
      "Accuracy:  0.1875  | F1-score:  0.07894736842105263  | Precision:  0.25  | Recall:  0.046875\n",
      "Train Loss: 1.6108087301254272 | Test loss: 1.623828649520874\n",
      "---------------------------------------------------------\n",
      "Epoch: 100\n",
      "Accuracy:  0.1875  | F1-score:  0.07894736842105263  | Precision:  0.25  | Recall:  0.046875\n",
      "Train Loss: 1.5959746837615967 | Test loss: 1.6063408851623535\n",
      "---------------------------------------------------------\n",
      "Epoch: 200\n",
      "Accuracy:  0.1875  | F1-score:  0.07894736842105263  | Precision:  0.25  | Recall:  0.046875\n",
      "Train Loss: 1.5590177774429321 | Test loss: 1.5907176733016968\n",
      "---------------------------------------------------------\n",
      "Epoch: 300\n",
      "Accuracy:  0.1875  | F1-score:  0.07894736842105263  | Precision:  0.25  | Recall:  0.046875\n",
      "Train Loss: 1.404052972793579 | Test loss: 1.5330580472946167\n",
      "---------------------------------------------------------\n",
      "Epoch: 400\n",
      "Accuracy:  0.125  | F1-score:  0.07142857142857144  | Precision:  0.16666666666666666  | Recall:  0.045454545454545456\n",
      "Train Loss: 1.1694483757019043 | Test loss: 1.4491347074508667\n",
      "---------------------------------------------------------\n",
      "Epoch: 500\n",
      "Accuracy:  0.3125  | F1-score:  0.27692307692307694  | Precision:  0.29166666666666663  | Recall:  0.55\n",
      "Train Loss: 1.092389702796936 | Test loss: 1.413175344467163\n",
      "---------------------------------------------------------\n",
      "Epoch: 600\n",
      "Accuracy:  0.375  | F1-score:  0.2987012987012987  | Precision:  0.32291666666666663  | Recall:  0.3958333333333333\n",
      "Train Loss: 1.0210151672363281 | Test loss: 1.3857823610305786\n",
      "---------------------------------------------------------\n",
      "Epoch: 700\n",
      "Accuracy:  0.25  | F1-score:  0.175  | Precision:  0.17708333333333331  | Recall:  0.2232142857142857\n",
      "Train Loss: 0.8797019720077515 | Test loss: 1.3361014127731323\n",
      "---------------------------------------------------------\n",
      "Epoch: 800\n",
      "Accuracy:  0.4375  | F1-score:  0.3142857142857143  | Precision:  0.3333333333333333  | Recall:  0.3125\n",
      "Train Loss: 0.6826975345611572 | Test loss: 1.269457221031189\n",
      "---------------------------------------------------------\n",
      "Epoch: 900\n",
      "Accuracy:  0.625  | F1-score:  0.4375  | Precision:  0.4583333333333333  | Recall:  0.4375\n",
      "Train Loss: 0.5073099732398987 | Test loss: 1.22733473777771\n",
      "---------------------------------------------------------\n"
     ]
    }
   ],
   "source": [
    "from modules.engine import train, save_model\n",
    "\n",
    "epochs = 1000\n",
    "lr = 0.1\n",
    "\n",
    "loss_fn = nn.CrossEntropyLoss()\n",
    "optimizer_class = torch.optim.SGD\n",
    "\n",
    "\n",
    "train(model_0, X_train, X_test, y_train, y_test,\n",
    "      loss_fn, optimizer_class, epochs, lr, device, verbose=True)"
   ]
  },
  {
   "cell_type": "code",
   "execution_count": 178,
   "metadata": {},
   "outputs": [],
   "source": [
    "model_0.eval()\n",
    "with torch.inference_mode():\n",
    "    y_train_logits = model_0(X_train.to(device))\n",
    "    y_train_pred = y_train_logits.argmax(dim=1).to(\"cpu\")\n",
    "    y_test_logits = model_0(X_test.to(device))\n",
    "    y_test_pred = y_test_logits.argmax(dim=1).to(\"cpu\")"
   ]
  },
  {
   "cell_type": "code",
   "execution_count": 179,
   "metadata": {},
   "outputs": [
    {
     "name": "stdout",
     "output_type": "stream",
     "text": [
      "Accuracy:  0.9586206896551724  | F1-score:  0.9582324455205811  | Precision:  0.9585185185185185  | Recall:  0.9586206896551724\n"
     ]
    }
   ],
   "source": [
    "\n",
    "mlp_train_metrics = get_metrics(y_train, y_train_pred)"
   ]
  },
  {
   "cell_type": "code",
   "execution_count": 180,
   "metadata": {},
   "outputs": [
    {
     "name": "stdout",
     "output_type": "stream",
     "text": [
      "Accuracy:  0.625  | F1-score:  0.4375  | Precision:  0.4375  | Recall:  0.4583333333333333\n"
     ]
    }
   ],
   "source": [
    "\n",
    "mlp_test_metrics = get_metrics(y_test, y_test_pred)"
   ]
  },
  {
   "cell_type": "code",
   "execution_count": 181,
   "metadata": {},
   "outputs": [
    {
     "name": "stdout",
     "output_type": "stream",
     "text": [
      "Saving model to: models\\mlp.pth\n"
     ]
    }
   ],
   "source": [
    "save_model(model_0, \"mlp.pth\")"
   ]
  },
  {
   "cell_type": "markdown",
   "metadata": {},
   "source": [
    "## PCA Model"
   ]
  },
  {
   "cell_type": "code",
   "execution_count": 182,
   "metadata": {},
   "outputs": [],
   "source": [
    "X_train_pca = torch.from_numpy(X_train_pca.to_numpy()).type(torch.float)\n",
    "X_test_pca = torch.from_numpy(X_test_pca.to_numpy()).type(torch.float)\n",
    "\n",
    "y_train_pca = torch.from_numpy(y_train_pca.to_numpy()).type(torch.LongTensor)\n",
    "\n"
   ]
  },
  {
   "cell_type": "code",
   "execution_count": 183,
   "metadata": {},
   "outputs": [
    {
     "data": {
      "text/plain": [
       "(61, 5)"
      ]
     },
     "execution_count": 183,
     "metadata": {},
     "output_type": "execute_result"
    }
   ],
   "source": [
    "in_features_pca = X_train_pca.shape[1]\n",
    "in_features_pca, out_features"
   ]
  },
  {
   "cell_type": "code",
   "execution_count": 184,
   "metadata": {},
   "outputs": [
    {
     "name": "stdout",
     "output_type": "stream",
     "text": [
      "Epoch: 0\n",
      "Accuracy:  0.0625  | F1-score:  0.029411764705882353  | Precision:  0.25  | Recall:  0.015625\n",
      "Train Loss: 1.6110073328018188 | Test loss: 1.656752347946167\n",
      "---------------------------------------------------------\n",
      "Epoch: 100\n",
      "Accuracy:  0.0625  | F1-score:  0.026666666666666665  | Precision:  0.2  | Recall:  0.014285714285714285\n",
      "Train Loss: 1.5775744915008545 | Test loss: 1.6162941455841064\n",
      "---------------------------------------------------------\n",
      "Epoch: 200\n",
      "Accuracy:  0.0625  | F1-score:  0.025  | Precision:  0.2  | Recall:  0.013333333333333332\n",
      "Train Loss: 1.4547386169433594 | Test loss: 1.5853816270828247\n",
      "---------------------------------------------------------\n",
      "Epoch: 300\n",
      "Accuracy:  0.1875  | F1-score:  0.13333333333333333  | Precision:  0.3125  | Recall:  0.26785714285714285\n",
      "Train Loss: 1.1879066228866577 | Test loss: 1.4788564443588257\n",
      "---------------------------------------------------------\n",
      "Epoch: 400\n",
      "Accuracy:  0.1875  | F1-score:  0.125  | Precision:  0.09375  | Recall:  0.1875\n",
      "Train Loss: 1.081526517868042 | Test loss: 1.4134745597839355\n",
      "---------------------------------------------------------\n",
      "Epoch: 500\n",
      "Accuracy:  0.5  | F1-score:  0.3111111111111111  | Precision:  0.35416666666666663  | Recall:  0.2976190476190476\n",
      "Train Loss: 0.9764589667320251 | Test loss: 1.356792688369751\n",
      "---------------------------------------------------------\n",
      "Epoch: 600\n",
      "Accuracy:  0.4375  | F1-score:  0.23809523809523808  | Precision:  0.2708333333333333  | Recall:  0.2125\n",
      "Train Loss: 0.8058041334152222 | Test loss: 1.287157416343689\n",
      "---------------------------------------------------------\n",
      "Epoch: 700\n",
      "Accuracy:  0.5  | F1-score:  0.26587301587301587  | Precision:  0.3020833333333333  | Recall:  0.2375\n",
      "Train Loss: 0.6291937828063965 | Test loss: 1.2497068643569946\n",
      "---------------------------------------------------------\n",
      "Epoch: 800\n",
      "Accuracy:  0.5  | F1-score:  0.3263888888888889  | Precision:  0.3333333333333333  | Recall:  0.3208333333333333\n",
      "Train Loss: 0.46698707342147827 | Test loss: 1.2422125339508057\n",
      "---------------------------------------------------------\n",
      "Epoch: 900\n",
      "Accuracy:  0.5  | F1-score:  0.3320261437908497  | Precision:  0.3333333333333333  | Recall:  0.3416666666666666\n",
      "Train Loss: 0.33195486664772034 | Test loss: 1.2797940969467163\n",
      "---------------------------------------------------------\n"
     ]
    }
   ],
   "source": [
    "model_0_pca = BaseModel(in_features_pca, 50, out_features).to(device)\n",
    "\n",
    "loss_fn = nn.CrossEntropyLoss()\n",
    "optimizer_class = torch.optim.SGD\n",
    "\n",
    "train(model_0_pca, X_train_pca, X_test_pca, y_train, y_test,\n",
    "      loss_fn, optimizer_class, epochs, lr, device, verbose=True)"
   ]
  },
  {
   "cell_type": "code",
   "execution_count": 185,
   "metadata": {},
   "outputs": [],
   "source": [
    "model_0_pca.eval()\n",
    "with torch.inference_mode():\n",
    "    y_train_logits = model_0_pca(X_train_pca.to(device))\n",
    "    y_train_pred = y_train_logits.argmax(dim=1).to(\"cpu\")\n",
    "    y_test_logits = model_0_pca(X_test_pca.to(device))\n",
    "    y_test_pred = y_test_logits.argmax(dim=1).to(\"cpu\")"
   ]
  },
  {
   "cell_type": "code",
   "execution_count": 186,
   "metadata": {},
   "outputs": [
    {
     "name": "stdout",
     "output_type": "stream",
     "text": [
      "Accuracy:  0.9586206896551724  | F1-score:  0.9585714285714285  | Precision:  0.9593787335722819  | Recall:  0.9586206896551724\n"
     ]
    }
   ],
   "source": [
    "mlp_pca_train_metrics = get_metrics(y_train, y_train_pred)"
   ]
  },
  {
   "cell_type": "code",
   "execution_count": 187,
   "metadata": {},
   "outputs": [
    {
     "name": "stdout",
     "output_type": "stream",
     "text": [
      "Accuracy:  0.5  | F1-score:  0.3320261437908497  | Precision:  0.3416666666666666  | Recall:  0.3333333333333333\n"
     ]
    }
   ],
   "source": [
    "mlp_pca_test_metrics = get_metrics(y_test, y_test_pred)"
   ]
  },
  {
   "cell_type": "code",
   "execution_count": 188,
   "metadata": {},
   "outputs": [
    {
     "name": "stdout",
     "output_type": "stream",
     "text": [
      "Saving model to: models\\mlp_pca.pth\n"
     ]
    }
   ],
   "source": [
    "save_model(model_0_pca, \"mlp_pca.pth\")"
   ]
  },
  {
   "cell_type": "markdown",
   "metadata": {},
   "source": [
    "## Convolution Model"
   ]
  },
  {
   "cell_type": "markdown",
   "metadata": {},
   "source": [
    "### Non-PCA"
   ]
  },
  {
   "cell_type": "code",
   "execution_count": 189,
   "metadata": {},
   "outputs": [],
   "source": [
    "X_train = X_train.unsqueeze(1)\n",
    "X_test = X_test.unsqueeze(1)"
   ]
  },
  {
   "cell_type": "code",
   "execution_count": 190,
   "metadata": {},
   "outputs": [
    {
     "data": {
      "text/plain": [
       "(1, 2593)"
      ]
     },
     "execution_count": 190,
     "metadata": {},
     "output_type": "execute_result"
    }
   ],
   "source": [
    "in_channels, in_length = X_train.shape[1:]\n",
    "in_channels, in_length"
   ]
  },
  {
   "cell_type": "code",
   "execution_count": 191,
   "metadata": {},
   "outputs": [],
   "source": [
    "from modules.model_builder import ConvModel\n",
    "\n",
    "model_1 = ConvModel(in_channels, in_length, 50, out_features).to(device)"
   ]
  },
  {
   "cell_type": "code",
   "execution_count": 192,
   "metadata": {},
   "outputs": [
    {
     "name": "stdout",
     "output_type": "stream",
     "text": [
      "Epoch: 0\n",
      "Accuracy:  0.0625  | F1-score:  0.04166666666666667  | Precision:  0.25  | Recall:  0.022727272727272728\n",
      "Train Loss: 1.6095938682556152 | Test loss: 1.6094975471496582\n",
      "---------------------------------------------------------\n",
      "Epoch: 100\n",
      "Accuracy:  0.3125  | F1-score:  0.2142857142857143  | Precision:  0.20833333333333331  | Recall:  0.22916666666666666\n",
      "Train Loss: 1.6079154014587402 | Test loss: 1.6090625524520874\n",
      "---------------------------------------------------------\n",
      "Epoch: 200\n",
      "Accuracy:  0.375  | F1-score:  0.25  | Precision:  0.23958333333333331  | Recall:  0.27083333333333337\n",
      "Train Loss: 1.6053909063339233 | Test loss: 1.6084882020950317\n",
      "---------------------------------------------------------\n",
      "Epoch: 300\n",
      "Accuracy:  0.375  | F1-score:  0.25  | Precision:  0.23958333333333331  | Recall:  0.27083333333333337\n",
      "Train Loss: 1.597730278968811 | Test loss: 1.6066805124282837\n",
      "---------------------------------------------------------\n",
      "Epoch: 400\n",
      "Accuracy:  0.3125  | F1-score:  0.2252747252747253  | Precision:  0.20833333333333331  | Recall:  0.2625\n",
      "Train Loss: 1.5494892597198486 | Test loss: 1.5954148769378662\n",
      "---------------------------------------------------------\n",
      "Epoch: 500\n",
      "Accuracy:  0.1875  | F1-score:  0.07894736842105263  | Precision:  0.25  | Recall:  0.046875\n",
      "Train Loss: 1.6082876920700073 | Test loss: 1.6134778261184692\n",
      "---------------------------------------------------------\n",
      "Epoch: 600\n",
      "Accuracy:  0.5  | F1-score:  0.2556390977443609  | Precision:  0.3020833333333333  | Recall:  0.2215909090909091\n",
      "Train Loss: 1.6061186790466309 | Test loss: 1.6084747314453125\n",
      "---------------------------------------------------------\n",
      "Epoch: 700\n",
      "Accuracy:  0.5  | F1-score:  0.2773109243697479  | Precision:  0.3020833333333333  | Recall:  0.2569444444444444\n",
      "Train Loss: 1.5992579460144043 | Test loss: 1.6069766283035278\n",
      "---------------------------------------------------------\n",
      "Epoch: 800\n",
      "Accuracy:  0.4375  | F1-score:  0.2714285714285714  | Precision:  0.2708333333333333  | Recall:  0.2767857142857143\n",
      "Train Loss: 1.547338843345642 | Test loss: 1.595033049583435\n",
      "---------------------------------------------------------\n",
      "Epoch: 900\n",
      "Accuracy:  0.4375  | F1-score:  0.25892857142857145  | Precision:  0.2708333333333333  | Recall:  0.25\n",
      "Train Loss: 0.24280431866645813 | Test loss: 1.3289902210235596\n",
      "---------------------------------------------------------\n"
     ]
    }
   ],
   "source": [
    "train(model_1, X_train, X_test, y_train, y_test,\n",
    "      loss_fn, optimizer_class, epochs, lr, device, verbose=True)"
   ]
  },
  {
   "cell_type": "code",
   "execution_count": 193,
   "metadata": {},
   "outputs": [],
   "source": [
    "model_1.eval()\n",
    "with torch.inference_mode():\n",
    "    y_train_logits = model_1(X_train.to(device))\n",
    "    y_train_pred = y_train_logits.argmax(dim=1).to(\"cpu\")\n",
    "    y_test_logits = model_1(X_test.to(device))\n",
    "    y_test_pred = y_test_logits.argmax(dim=1).to(\"cpu\")"
   ]
  },
  {
   "cell_type": "code",
   "execution_count": 194,
   "metadata": {},
   "outputs": [
    {
     "name": "stdout",
     "output_type": "stream",
     "text": [
      "Accuracy:  1.0  | F1-score:  1.0  | Precision:  1.0  | Recall:  1.0\n"
     ]
    }
   ],
   "source": [
    "cnn_train_metrics = get_metrics(y_train, y_train_pred)"
   ]
  },
  {
   "cell_type": "code",
   "execution_count": 195,
   "metadata": {},
   "outputs": [
    {
     "name": "stdout",
     "output_type": "stream",
     "text": [
      "Accuracy:  0.375  | F1-score:  0.15789473684210525  | Precision:  0.13636363636363635  | Recall:  0.1875\n"
     ]
    }
   ],
   "source": [
    "cnn_test_metrics = get_metrics(y_test, y_test_pred)"
   ]
  },
  {
   "cell_type": "code",
   "execution_count": 196,
   "metadata": {},
   "outputs": [
    {
     "name": "stdout",
     "output_type": "stream",
     "text": [
      "Saving model to: models\\cnn.pth\n"
     ]
    }
   ],
   "source": [
    "save_model(model_1, \"cnn.pth\")"
   ]
  },
  {
   "cell_type": "markdown",
   "metadata": {},
   "source": [
    "### PCA"
   ]
  },
  {
   "cell_type": "code",
   "execution_count": 197,
   "metadata": {},
   "outputs": [],
   "source": [
    "X_train_pca = X_train_pca.unsqueeze(1)\n",
    "X_test_pca = X_test_pca.unsqueeze(1)"
   ]
  },
  {
   "cell_type": "code",
   "execution_count": 198,
   "metadata": {},
   "outputs": [
    {
     "data": {
      "text/plain": [
       "(1, 61)"
      ]
     },
     "execution_count": 198,
     "metadata": {},
     "output_type": "execute_result"
    }
   ],
   "source": [
    "in_channels, in_length = X_train_pca.shape[1:]\n",
    "in_channels, in_length"
   ]
  },
  {
   "cell_type": "code",
   "execution_count": 199,
   "metadata": {},
   "outputs": [],
   "source": [
    "model_1_pca = ConvModel(in_channels, in_length, 70, out_features).to(device)"
   ]
  },
  {
   "cell_type": "code",
   "execution_count": 200,
   "metadata": {},
   "outputs": [
    {
     "name": "stdout",
     "output_type": "stream",
     "text": [
      "Epoch: 0\n",
      "Accuracy:  0.0625  | F1-score:  0.029411764705882353  | Precision:  0.25  | Recall:  0.015625\n",
      "Train Loss: 1.6099714040756226 | Test loss: 1.6121324300765991\n",
      "---------------------------------------------------------\n",
      "Epoch: 100\n",
      "Accuracy:  0.375  | F1-score:  0.12631578947368421  | Precision:  0.15  | Recall:  0.10909090909090909\n",
      "Train Loss: 1.6065244674682617 | Test loss: 1.6091439723968506\n",
      "---------------------------------------------------------\n",
      "Epoch: 200\n",
      "Accuracy:  0.3125  | F1-score:  0.1  | Precision:  0.125  | Recall:  0.08333333333333334\n",
      "Train Loss: 1.6015512943267822 | Test loss: 1.6084609031677246\n",
      "---------------------------------------------------------\n",
      "Epoch: 300\n",
      "Accuracy:  0.375  | F1-score:  0.11428571428571428  | Precision:  0.15  | Recall:  0.09230769230769231\n",
      "Train Loss: 1.5867409706115723 | Test loss: 1.6067832708358765\n",
      "---------------------------------------------------------\n",
      "Epoch: 400\n",
      "Accuracy:  0.3125  | F1-score:  0.15714285714285717  | Precision:  0.16666666666666666  | Recall:  0.15\n",
      "Train Loss: 1.4957952499389648 | Test loss: 1.5880151987075806\n",
      "---------------------------------------------------------\n",
      "Epoch: 500\n",
      "Accuracy:  0.4375  | F1-score:  0.2928921568627451  | Precision:  0.3020833333333333  | Recall:  0.2847222222222222\n",
      "Train Loss: 0.9949100017547607 | Test loss: 1.3488118648529053\n",
      "---------------------------------------------------------\n",
      "Epoch: 600\n",
      "Accuracy:  0.5625  | F1-score:  0.27380952380952384  | Precision:  0.3333333333333333  | Recall:  0.23717948717948717\n",
      "Train Loss: 0.6223065853118896 | Test loss: 1.183351755142212\n",
      "---------------------------------------------------------\n",
      "Epoch: 700\n",
      "Accuracy:  0.3125  | F1-score:  0.2285714285714286  | Precision:  0.23958333333333331  | Recall:  0.22916666666666666\n",
      "Train Loss: 0.31421294808387756 | Test loss: 1.3795785903930664\n",
      "---------------------------------------------------------\n",
      "Epoch: 800\n",
      "Accuracy:  0.4375  | F1-score:  0.24122807017543857  | Precision:  0.2708333333333333  | Recall:  0.21969696969696967\n",
      "Train Loss: 0.125644251704216 | Test loss: 1.5726834535598755\n",
      "---------------------------------------------------------\n",
      "Epoch: 900\n",
      "Accuracy:  0.5  | F1-score:  0.3214285714285714  | Precision:  0.3333333333333333  | Recall:  0.31666666666666665\n",
      "Train Loss: 0.03937670961022377 | Test loss: 1.9016433954238892\n",
      "---------------------------------------------------------\n"
     ]
    }
   ],
   "source": [
    "train(model_1_pca, X_train_pca, X_test_pca, y_train_pca, y_test,\n",
    "      loss_fn, optimizer_class, epochs, lr, device, verbose=True)"
   ]
  },
  {
   "cell_type": "code",
   "execution_count": 201,
   "metadata": {},
   "outputs": [],
   "source": [
    "model_1_pca.eval()\n",
    "with torch.inference_mode():\n",
    "    y_train_logits = model_1_pca(X_train_pca.to(device))\n",
    "    y_train_pred = y_train_logits.argmax(dim=1).to(\"cpu\")\n",
    "    y_test_logits = model_1_pca(X_test_pca.to(device))\n",
    "    y_test_pred = y_test_logits.argmax(dim=1).to(\"cpu\")"
   ]
  },
  {
   "cell_type": "code",
   "execution_count": 202,
   "metadata": {},
   "outputs": [
    {
     "name": "stdout",
     "output_type": "stream",
     "text": [
      "Accuracy:  1.0  | F1-score:  1.0  | Precision:  1.0  | Recall:  1.0\n"
     ]
    }
   ],
   "source": [
    "cnn_pca_train_metrics = get_metrics(y_train_pca, y_train_pred)"
   ]
  },
  {
   "cell_type": "code",
   "execution_count": 203,
   "metadata": {},
   "outputs": [
    {
     "name": "stdout",
     "output_type": "stream",
     "text": [
      "Accuracy:  0.5  | F1-score:  0.3214285714285714  | Precision:  0.31666666666666665  | Recall:  0.3333333333333333\n"
     ]
    }
   ],
   "source": [
    "cnn_pca_test_metrics = get_metrics(y_test, y_test_pred)"
   ]
  },
  {
   "cell_type": "code",
   "execution_count": 204,
   "metadata": {},
   "outputs": [
    {
     "name": "stdout",
     "output_type": "stream",
     "text": [
      "Saving model to: models\\cnn_pca.pth\n"
     ]
    }
   ],
   "source": [
    "save_model(model_1_pca, \"cnn_pca.pth\")"
   ]
  },
  {
   "cell_type": "markdown",
   "metadata": {},
   "source": [
    "## Summary"
   ]
  },
  {
   "cell_type": "code",
   "execution_count": 205,
   "metadata": {},
   "outputs": [],
   "source": [
    "models_test_perf = [(\"SVM\", *svm_train_metrics, *svm_test_metrics), \n",
    "                    (\"SVM+PCA\", *svm_pca_train_metrics, *svm_pca_test_metrics), \n",
    "                    (\"MLP\", *mlp_train_metrics, *mlp_test_metrics), \n",
    "                    (\"MLP+PCA\", *mlp_pca_train_metrics, *mlp_pca_test_metrics), \n",
    "                    (\"CNN\", *cnn_train_metrics, *cnn_test_metrics), \n",
    "                    (\"CNN+PCA\" ,*cnn_pca_train_metrics, *cnn_pca_test_metrics)]"
   ]
  },
  {
   "cell_type": "code",
   "execution_count": 206,
   "metadata": {},
   "outputs": [
    {
     "data": {
      "text/html": [
       "<div>\n",
       "<style scoped>\n",
       "    .dataframe tbody tr th:only-of-type {\n",
       "        vertical-align: middle;\n",
       "    }\n",
       "\n",
       "    .dataframe tbody tr th {\n",
       "        vertical-align: top;\n",
       "    }\n",
       "\n",
       "    .dataframe thead th {\n",
       "        text-align: right;\n",
       "    }\n",
       "</style>\n",
       "<table border=\"1\" class=\"dataframe\">\n",
       "  <thead>\n",
       "    <tr style=\"text-align: right;\">\n",
       "      <th></th>\n",
       "      <th>model</th>\n",
       "      <th>train_accuracy</th>\n",
       "      <th>train_f1_score</th>\n",
       "      <th>train_precision</th>\n",
       "      <th>train_recall</th>\n",
       "      <th>test_accuracy</th>\n",
       "      <th>test_f1_score</th>\n",
       "      <th>test_precision</th>\n",
       "      <th>test_recall</th>\n",
       "    </tr>\n",
       "  </thead>\n",
       "  <tbody>\n",
       "    <tr>\n",
       "      <th>0</th>\n",
       "      <td>SVM</td>\n",
       "      <td>0.868966</td>\n",
       "      <td>0.869298</td>\n",
       "      <td>0.892832</td>\n",
       "      <td>0.868966</td>\n",
       "      <td>0.500</td>\n",
       "      <td>0.284211</td>\n",
       "      <td>0.284091</td>\n",
       "      <td>0.302083</td>\n",
       "    </tr>\n",
       "    <tr>\n",
       "      <th>1</th>\n",
       "      <td>SVM+PCA</td>\n",
       "      <td>0.979310</td>\n",
       "      <td>0.979187</td>\n",
       "      <td>0.979294</td>\n",
       "      <td>0.979310</td>\n",
       "      <td>0.500</td>\n",
       "      <td>0.277778</td>\n",
       "      <td>0.258333</td>\n",
       "      <td>0.302083</td>\n",
       "    </tr>\n",
       "    <tr>\n",
       "      <th>2</th>\n",
       "      <td>MLP</td>\n",
       "      <td>0.958621</td>\n",
       "      <td>0.958232</td>\n",
       "      <td>0.958519</td>\n",
       "      <td>0.958621</td>\n",
       "      <td>0.625</td>\n",
       "      <td>0.437500</td>\n",
       "      <td>0.437500</td>\n",
       "      <td>0.458333</td>\n",
       "    </tr>\n",
       "    <tr>\n",
       "      <th>3</th>\n",
       "      <td>MLP+PCA</td>\n",
       "      <td>0.958621</td>\n",
       "      <td>0.958571</td>\n",
       "      <td>0.959379</td>\n",
       "      <td>0.958621</td>\n",
       "      <td>0.500</td>\n",
       "      <td>0.332026</td>\n",
       "      <td>0.341667</td>\n",
       "      <td>0.333333</td>\n",
       "    </tr>\n",
       "    <tr>\n",
       "      <th>4</th>\n",
       "      <td>CNN</td>\n",
       "      <td>1.000000</td>\n",
       "      <td>1.000000</td>\n",
       "      <td>1.000000</td>\n",
       "      <td>1.000000</td>\n",
       "      <td>0.375</td>\n",
       "      <td>0.157895</td>\n",
       "      <td>0.136364</td>\n",
       "      <td>0.187500</td>\n",
       "    </tr>\n",
       "    <tr>\n",
       "      <th>5</th>\n",
       "      <td>CNN+PCA</td>\n",
       "      <td>1.000000</td>\n",
       "      <td>1.000000</td>\n",
       "      <td>1.000000</td>\n",
       "      <td>1.000000</td>\n",
       "      <td>0.500</td>\n",
       "      <td>0.321429</td>\n",
       "      <td>0.316667</td>\n",
       "      <td>0.333333</td>\n",
       "    </tr>\n",
       "  </tbody>\n",
       "</table>\n",
       "</div>"
      ],
      "text/plain": [
       "     model  train_accuracy  train_f1_score  train_precision  train_recall  \\\n",
       "0      SVM        0.868966        0.869298         0.892832      0.868966   \n",
       "1  SVM+PCA        0.979310        0.979187         0.979294      0.979310   \n",
       "2      MLP        0.958621        0.958232         0.958519      0.958621   \n",
       "3  MLP+PCA        0.958621        0.958571         0.959379      0.958621   \n",
       "4      CNN        1.000000        1.000000         1.000000      1.000000   \n",
       "5  CNN+PCA        1.000000        1.000000         1.000000      1.000000   \n",
       "\n",
       "   test_accuracy  test_f1_score  test_precision  test_recall  \n",
       "0          0.500       0.284211        0.284091     0.302083  \n",
       "1          0.500       0.277778        0.258333     0.302083  \n",
       "2          0.625       0.437500        0.437500     0.458333  \n",
       "3          0.500       0.332026        0.341667     0.333333  \n",
       "4          0.375       0.157895        0.136364     0.187500  \n",
       "5          0.500       0.321429        0.316667     0.333333  "
      ]
     },
     "execution_count": 206,
     "metadata": {},
     "output_type": "execute_result"
    }
   ],
   "source": [
    "eval_df = pd.DataFrame(models_test_perf,\n",
    "                                columns=('model',\n",
    "                                         'train_accuracy',\n",
    "                                         'train_f1_score',\n",
    "                                         'train_precision',\n",
    "                                         'train_recall',\n",
    "                                         'test_accuracy',\n",
    "                                         'test_f1_score',\n",
    "                                         'test_precision',\n",
    "                                         'test_recall'))\n",
    "eval_df"
   ]
  },
  {
   "cell_type": "code",
   "execution_count": 210,
   "metadata": {},
   "outputs": [
    {
     "data": {
      "image/png": "[encoded data removed]",
      "text/plain": [
       "<Figure size 640x480 with 1 Axes>"
      ]
     },
     "metadata": {},
     "output_type": "display_data"
    }
   ],
   "source": [
    "import matplotlib.pyplot as plt\n",
    "import numpy as np\n",
    "\n",
    "scores = {\n",
    "    'Accuracy': eval_df.test_accuracy,\n",
    "    'F1 Score': eval_df.test_f1_score,\n",
    "    'Precision': eval_df.test_precision,\n",
    "    'Recall': eval_df.test_recall,\n",
    "}\n",
    "\n",
    "models = eval_df.model\n",
    "\n",
    "x = np.arange(len(models))  # the label locations\n",
    "width = 0.2  # the width of the bars\n",
    "multiplier = 0\n",
    "\n",
    "fig, ax = plt.subplots(layout='constrained')\n",
    "\n",
    "for attribute, measurement in scores.items():\n",
    "    offset = width * multiplier\n",
    "    rects = ax.bar(x + offset, measurement, width, label=attribute, zorder=2)\n",
    "    multiplier += 1\n",
    "\n",
    "# Add some text for labels, title and custom x-axis tick labels, etc.\n",
    "ax.set_ylabel('value')\n",
    "ax.set_title('Test scores grouped by model')\n",
    "ax.set_xticks(x + width + 0.1, models)\n",
    "ax.grid(True, axis=\"y\", linestyle=\":\", zorder=0)\n",
    "ax.legend(loc='upper left', ncols=6)\n",
    "ax.set_ylim(0, 0.7)\n",
    "\n",
    "plt.show()"
   ]
  },
  {
   "cell_type": "code",
   "execution_count": 209,
   "metadata": {},
   "outputs": [
    {
     "data": {
      "image/png": "[encoded data removed]",
      "text/plain": [
       "<Figure size 640x480 with 1 Axes>"
      ]
     },
     "metadata": {},
     "output_type": "display_data"
    }
   ],
   "source": [
    "import matplotlib.pyplot as plt\n",
    "import numpy as np\n",
    "\n",
    "metrics = (\"Accuracy\", \"F1 Score\", \"Precision\", \"Recall\")\n",
    "scores = {\n",
    "    eval_df.loc[0].to_numpy()[0]: list(eval_df.loc[0].to_numpy()[5:]),\n",
    "    eval_df.loc[1].to_numpy()[0]: list(eval_df.loc[1].to_numpy()[5:]),\n",
    "    eval_df.loc[2].to_numpy()[0]: list(eval_df.loc[2].to_numpy()[5:]),\n",
    "    eval_df.loc[3].to_numpy()[0]: list(eval_df.loc[3].to_numpy()[5:]),\n",
    "    eval_df.loc[4].to_numpy()[0]: list(eval_df.loc[4].to_numpy()[5:]),\n",
    "    eval_df.loc[5].to_numpy()[0]: list(eval_df.loc[5].to_numpy()[5:]),\n",
    "}\n",
    "\n",
    "x = np.arange(len(metrics))  # the label locations\n",
    "width = 0.1  # the width of the bars\n",
    "multiplier = 0\n",
    "\n",
    "fig, ax = plt.subplots(layout='constrained')\n",
    "\n",
    "for attribute, measurement in scores.items():\n",
    "    offset = width * multiplier\n",
    "    rects = ax.bar(x + offset, measurement, width, label=attribute, zorder=2)\n",
    "    # ax.bar_label(rects, padding=3)\n",
    "    multiplier += 1\n",
    "\n",
    "# Add some text for labels, title and custom x-axis tick labels, etc.\n",
    "ax.set_ylabel('value')\n",
    "ax.set_title('Test scores grouped by metric')\n",
    "ax.set_xticks(x + 0.1 + width, metrics)\n",
    "ax.grid(True, axis=\"y\", linestyle=\":\", zorder=0)\n",
    "ax.legend(loc='upper left', ncols=4)\n",
    "ax.set_ylim(0, 0.7)\n",
    "\n",
    "plt.show()"
   ]
  },
  {
   "cell_type": "code",
   "execution_count": null,
   "metadata": {},
   "outputs": [],
   "source": []
  }
 ],
 "metadata": {
  "kernelspec": {
   "display_name": "base",
   "language": "python",
   "name": "python3"
  },
  "language_info": {
   "codemirror_mode": {
    "name": "ipython",
    "version": 3
   },
   "file_extension": ".py",
   "mimetype": "text/x-python",
   "name": "python",
   "nbconvert_exporter": "python",
   "pygments_lexer": "ipython3",
   "version": "3.11.5"
  }
 },
 "nbformat": 4,
 "nbformat_minor": 2
}
