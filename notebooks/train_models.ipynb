{
 "cells": [
  {
   "cell_type": "markdown",
   "metadata": {},
   "source": [
    "# Model training"
   ]
  },
  {
   "cell_type": "code",
   "execution_count": 1,
   "metadata": {},
   "outputs": [],
   "source": [
    "import torch\n",
    "from torch import nn\n",
    "import pandas as pd"
   ]
  },
  {
   "cell_type": "code",
   "execution_count": 2,
   "metadata": {},
   "outputs": [
    {
     "data": {
      "text/plain": [
       "'cuda'"
      ]
     },
     "execution_count": 2,
     "metadata": {},
     "output_type": "execute_result"
    }
   ],
   "source": [
    "# Setup device agnostic code\n",
    "device = \"cuda\" if torch.cuda.is_available() else \"cpu\"\n",
    "device"
   ]
  },
  {
   "cell_type": "code",
   "execution_count": 3,
   "metadata": {},
   "outputs": [
    {
     "data": {
      "text/plain": [
       "((145, 2593), (145, 61))"
      ]
     },
     "execution_count": 3,
     "metadata": {},
     "output_type": "execute_result"
    }
   ],
   "source": [
    "# Load data\n",
    "\n",
    "X_train = pd.read_csv(\"./../data/features/in_features_train.csv\")\n",
    "X_train_pca = pd.read_csv(\"./../data/features/pca_in_features_train.csv\")\n",
    "\n",
    "X_train.shape, X_train_pca.shape"
   ]
  },
  {
   "cell_type": "code",
   "execution_count": 4,
   "metadata": {},
   "outputs": [
    {
     "data": {
      "text/plain": [
       "((145,), (145,))"
      ]
     },
     "execution_count": 4,
     "metadata": {},
     "output_type": "execute_result"
    }
   ],
   "source": [
    "y_train = pd.read_csv(\"./../data/features/out_features_train.csv\").label\n",
    "y_train_pca = pd.read_csv(\"./../data/features/pca_out_features_train.csv\").label\n",
    "\n",
    "y_train.shape, y_train_pca.shape"
   ]
  },
  {
   "cell_type": "code",
   "execution_count": 5,
   "metadata": {},
   "outputs": [
    {
     "data": {
      "text/plain": [
       "((16, 2593), (16, 61))"
      ]
     },
     "execution_count": 5,
     "metadata": {},
     "output_type": "execute_result"
    }
   ],
   "source": [
    "X_test = pd.read_csv(\"./../data/features/in_features_test.csv\")\n",
    "X_test_pca = pd.read_csv(\"./../data/features/pca_in_features_test.csv\")\n",
    "\n",
    "X_test.shape, X_test_pca.shape"
   ]
  },
  {
   "cell_type": "code",
   "execution_count": 6,
   "metadata": {},
   "outputs": [
    {
     "data": {
      "text/plain": [
       "(16,)"
      ]
     },
     "execution_count": 6,
     "metadata": {},
     "output_type": "execute_result"
    }
   ],
   "source": [
    "y_test = pd.read_csv(\"./../data/features/out_features_test.csv\").label\n",
    "\n",
    "y_test.shape"
   ]
  },
  {
   "cell_type": "markdown",
   "metadata": {},
   "source": [
    "## Support Vector Machine (SVM)"
   ]
  },
  {
   "cell_type": "markdown",
   "metadata": {},
   "source": [
    "### Non PCA features"
   ]
  },
  {
   "cell_type": "code",
   "execution_count": 7,
   "metadata": {},
   "outputs": [],
   "source": [
    "from sklearn.svm import SVC\n",
    "from sklearn.model_selection import GridSearchCV, KFold\n",
    "\n",
    "svm = SVC(kernel='rbf', C=10, gamma=0.01)\n",
    "# p_grid = {\"C\": [1, 10, 20, 50, 100], \"gamma\": [0.01, 0.1, 0.2, 0.4, 0.6, 0.8]}\n",
    "# cv = KFold(n_splits=5, shuffle=True)\n",
    "\n",
    "# clf = GridSearchCV(estimator=svm, param_grid=p_grid, cv=cv, scoring=\"f1_macro\")\n",
    "# clf.fit(X_train, y_train)\n",
    "\n",
    "clf = svm.fit(X_train, y_train)"
   ]
  },
  {
   "cell_type": "code",
   "execution_count": 8,
   "metadata": {},
   "outputs": [
    {
     "data": {
      "text/plain": [
       "array([0, 0, 0, 0, 2, 0, 0, 2, 1, 2, 0, 0, 1, 0, 0, 0], dtype=int64)"
      ]
     },
     "execution_count": 8,
     "metadata": {},
     "output_type": "execute_result"
    }
   ],
   "source": [
    "y_pred = clf.predict(X_test)\n",
    "y_pred"
   ]
  },
  {
   "cell_type": "code",
   "execution_count": 9,
   "metadata": {},
   "outputs": [
    {
     "data": {
      "text/plain": [
       "array([2, 2, 0, 0, 0, 2, 0, 1, 3, 1, 2, 0, 1, 0, 0, 0], dtype=int64)"
      ]
     },
     "execution_count": 9,
     "metadata": {},
     "output_type": "execute_result"
    }
   ],
   "source": [
    "y_test.to_numpy()"
   ]
  },
  {
   "cell_type": "code",
   "execution_count": 10,
   "metadata": {},
   "outputs": [
    {
     "name": "stdout",
     "output_type": "stream",
     "text": [
      "Accuracy:  0.8689655172413793  | F1-score:  0.8692980296196385  | Precision:  0.8928321678321678  | Recall:  0.8689655172413794\n"
     ]
    }
   ],
   "source": [
    "from modules.engine import get_metrics\n",
    "svm_train_metrics = get_metrics(y_train, clf.predict(X_train))"
   ]
  },
  {
   "cell_type": "code",
   "execution_count": 11,
   "metadata": {},
   "outputs": [
    {
     "name": "stdout",
     "output_type": "stream",
     "text": [
      "Accuracy:  0.5  | F1-score:  0.28421052631578947  | Precision:  0.28409090909090906  | Recall:  0.3020833333333333\n"
     ]
    }
   ],
   "source": [
    "# Evaluate\n",
    "svm_test_metrics = get_metrics(y_test, y_pred)"
   ]
  },
  {
   "cell_type": "code",
   "execution_count": 12,
   "metadata": {},
   "outputs": [
    {
     "data": {
      "text/plain": [
       "{'C': 10,\n",
       " 'break_ties': False,\n",
       " 'cache_size': 200,\n",
       " 'class_weight': None,\n",
       " 'coef0': 0.0,\n",
       " 'decision_function_shape': 'ovr',\n",
       " 'degree': 3,\n",
       " 'gamma': 0.01,\n",
       " 'kernel': 'rbf',\n",
       " 'max_iter': -1,\n",
       " 'probability': False,\n",
       " 'random_state': None,\n",
       " 'shrinking': True,\n",
       " 'tol': 0.001,\n",
       " 'verbose': False}"
      ]
     },
     "execution_count": 12,
     "metadata": {},
     "output_type": "execute_result"
    }
   ],
   "source": [
    "clf.get_params()"
   ]
  },
  {
   "cell_type": "code",
   "execution_count": 13,
   "metadata": {},
   "outputs": [
    {
     "data": {
      "text/plain": [
       "['models\\\\svm.pk']"
      ]
     },
     "execution_count": 13,
     "metadata": {},
     "output_type": "execute_result"
    }
   ],
   "source": [
    "import joblib\n",
    "from pathlib import Path\n",
    "\n",
    "\n",
    "# Create models directory (if it doesn't already exist), see: https://docs.python.org/3/library/pathlib.html#pathlib.Path.mkdir\n",
    "MODEL_PATH = Path(\"models\")\n",
    "MODEL_PATH.mkdir(parents=True, # create parent directories if needed\n",
    "                 exist_ok=True # if models directory already exists, don't error\n",
    ")\n",
    "\n",
    "# Create model save path\n",
    "MODEL_NAME = \"svm.pk\"\n",
    "MODEL_SAVE_PATH = MODEL_PATH / MODEL_NAME\n",
    "\n",
    "joblib.dump(clf, MODEL_SAVE_PATH)"
   ]
  },
  {
   "cell_type": "markdown",
   "metadata": {},
   "source": [
    "### PCA features\n"
   ]
  },
  {
   "cell_type": "code",
   "execution_count": 14,
   "metadata": {},
   "outputs": [],
   "source": [
    "svm = SVC(kernel='rbf', C=20, gamma=0.01)\n",
    "# p_grid = {\"C\": [1, 10, 100], \"gamma\": [0.01, 0.1]}\n",
    "# cv = KFold(n_splits=5, shuffle=True)\n",
    "\n",
    "# clf_pca = GridSearchCV(estimator=svm, param_grid=p_grid, cv=cv, scoring=\"f1_macro\")\n",
    "# clf_pca.fit(X_train_pca, y_train)\n",
    "\n",
    "clf_pca = svm.fit(X_train_pca, y_train_pca)"
   ]
  },
  {
   "cell_type": "code",
   "execution_count": 15,
   "metadata": {},
   "outputs": [],
   "source": [
    "y_pred = clf_pca.predict(X_test_pca)"
   ]
  },
  {
   "cell_type": "code",
   "execution_count": 16,
   "metadata": {},
   "outputs": [
    {
     "data": {
      "text/plain": [
       "array([2, 2, 0, 0, 0, 2, 0, 1, 3, 1, 2, 0, 1, 0, 0, 0], dtype=int64)"
      ]
     },
     "execution_count": 16,
     "metadata": {},
     "output_type": "execute_result"
    }
   ],
   "source": [
    "y_test.to_numpy()"
   ]
  },
  {
   "cell_type": "code",
   "execution_count": 17,
   "metadata": {},
   "outputs": [
    {
     "name": "stdout",
     "output_type": "stream",
     "text": [
      "Accuracy:  0.9793103448275862  | F1-score:  0.9791873019779139  | Precision:  0.9792939244663383  | Recall:  0.9793103448275862\n"
     ]
    }
   ],
   "source": [
    "svm_pca_train_metrics = get_metrics(y_train, clf_pca.predict(X_train_pca))"
   ]
  },
  {
   "cell_type": "code",
   "execution_count": 18,
   "metadata": {},
   "outputs": [
    {
     "name": "stdout",
     "output_type": "stream",
     "text": [
      "Accuracy:  0.5  | F1-score:  0.27777777777777773  | Precision:  0.2583333333333333  | Recall:  0.3020833333333333\n"
     ]
    }
   ],
   "source": [
    "# Evaluate\n",
    "svm_pca_test_metrics = get_metrics(y_test, y_pred)"
   ]
  },
  {
   "cell_type": "markdown",
   "metadata": {},
   "source": [
    "## Linear model"
   ]
  },
  {
   "cell_type": "markdown",
   "metadata": {},
   "source": [
    "## Non-PCA"
   ]
  },
  {
   "cell_type": "code",
   "execution_count": 19,
   "metadata": {},
   "outputs": [
    {
     "data": {
      "text/plain": [
       "(2593, 5)"
      ]
     },
     "execution_count": 19,
     "metadata": {},
     "output_type": "execute_result"
    }
   ],
   "source": [
    "X_train = torch.from_numpy(X_train.to_numpy()).type(torch.float)\n",
    "X_test = torch.from_numpy(X_test.to_numpy()).type(torch.float)\n",
    "\n",
    "classes = y_train.unique()\n",
    "\n",
    "y_train = torch.from_numpy(y_train.to_numpy()).type(torch.LongTensor)\n",
    "y_test = torch.from_numpy(y_test.to_numpy()).type(torch.LongTensor)\n",
    "\n",
    "in_features, out_features = X_train.shape[1], len(classes)\n",
    "in_features, out_features"
   ]
  },
  {
   "cell_type": "code",
   "execution_count": 20,
   "metadata": {},
   "outputs": [],
   "source": [
    "from modules.model_builder import BaseModel\n",
    "\n",
    "model_0 = BaseModel(in_features, 50, out_features).to(device)"
   ]
  },
  {
   "cell_type": "code",
   "execution_count": 21,
   "metadata": {},
   "outputs": [
    {
     "name": "stdout",
     "output_type": "stream",
     "text": [
      "Epoch: 0\n",
      "Accuracy:  0.5  | F1-score:  0.16666666666666666  | Precision:  0.25  | Recall:  0.125\n",
      "Train Loss: 1.613455891609192 | Test loss: 1.6084201335906982\n",
      "---------------------------------------------------------\n",
      "Epoch: 100\n",
      "Accuracy:  0.0625  | F1-score:  0.1  | Precision:  0.08333333333333333  | Recall:  0.125\n",
      "Train Loss: 1.5938336849212646 | Test loss: 1.6074047088623047\n",
      "---------------------------------------------------------\n",
      "Epoch: 200\n",
      "Accuracy:  0.0625  | F1-score:  0.029411764705882353  | Precision:  0.25  | Recall:  0.015625\n",
      "Train Loss: 1.4286532402038574 | Test loss: 1.5732977390289307\n",
      "---------------------------------------------------------\n",
      "Epoch: 300\n",
      "Accuracy:  0.1875  | F1-score:  0.1625  | Precision:  0.14583333333333331  | Recall:  0.3\n",
      "Train Loss: 1.0482500791549683 | Test loss: 1.4468497037887573\n",
      "---------------------------------------------------------\n",
      "Epoch: 400\n",
      "Accuracy:  0.3125  | F1-score:  0.23737373737373738  | Precision:  0.23958333333333331  | Recall:  0.33125\n",
      "Train Loss: 0.7503707408905029 | Test loss: 1.405246615409851\n",
      "---------------------------------------------------------\n"
     ]
    }
   ],
   "source": [
    "from modules.engine import train, save_model\n",
    "\n",
    "loss_fn = nn.CrossEntropyLoss()\n",
    "optimizer_class = torch.optim.SGD\n",
    "\n",
    "train(model_0, X_train, X_test, y_train, y_test,\n",
    "      loss_fn, optimizer_class, epochs=500, lr=0.1, device=device, verbose=True)"
   ]
  },
  {
   "cell_type": "code",
   "execution_count": 22,
   "metadata": {},
   "outputs": [],
   "source": [
    "model_0.eval()\n",
    "with torch.inference_mode():\n",
    "    y_train_logits = model_0(X_train.to(device))\n",
    "    y_train_pred = y_train_logits.argmax(dim=1).to(\"cpu\")\n",
    "    y_test_logits = model_0(X_test.to(device))\n",
    "    y_test_pred = y_test_logits.argmax(dim=1).to(\"cpu\")"
   ]
  },
  {
   "cell_type": "code",
   "execution_count": 23,
   "metadata": {},
   "outputs": [
    {
     "name": "stdout",
     "output_type": "stream",
     "text": [
      "Accuracy:  0.9586206896551724  | F1-score:  0.9573531844499585  | Precision:  0.9628543499511242  | Recall:  0.9586206896551724\n"
     ]
    }
   ],
   "source": [
    "\n",
    "mlp_train_metrics = get_metrics(y_train, y_train_pred)"
   ]
  },
  {
   "cell_type": "code",
   "execution_count": 24,
   "metadata": {},
   "outputs": [
    {
     "name": "stdout",
     "output_type": "stream",
     "text": [
      "Accuracy:  0.5  | F1-score:  0.3263888888888889  | Precision:  0.3208333333333333  | Recall:  0.3333333333333333\n"
     ]
    }
   ],
   "source": [
    "\n",
    "mlp_test_metrics = get_metrics(y_test, y_test_pred)"
   ]
  },
  {
   "cell_type": "code",
   "execution_count": 25,
   "metadata": {},
   "outputs": [
    {
     "name": "stdout",
     "output_type": "stream",
     "text": [
      "Saving model to: models\\mlp.pth\n"
     ]
    }
   ],
   "source": [
    "save_model(model_0, \"mlp.pth\")"
   ]
  },
  {
   "cell_type": "markdown",
   "metadata": {},
   "source": [
    "## PCA Model"
   ]
  },
  {
   "cell_type": "code",
   "execution_count": 26,
   "metadata": {},
   "outputs": [],
   "source": [
    "X_train_pca = torch.from_numpy(X_train_pca.to_numpy()).type(torch.float)\n",
    "X_test_pca = torch.from_numpy(X_test_pca.to_numpy()).type(torch.float)\n",
    "\n",
    "y_train_pca = torch.from_numpy(y_train_pca.to_numpy()).type(torch.LongTensor)\n",
    "\n"
   ]
  },
  {
   "cell_type": "code",
   "execution_count": 27,
   "metadata": {},
   "outputs": [
    {
     "data": {
      "text/plain": [
       "(61, 5)"
      ]
     },
     "execution_count": 27,
     "metadata": {},
     "output_type": "execute_result"
    }
   ],
   "source": [
    "in_features_pca = X_train_pca.shape[1]\n",
    "in_features_pca, out_features"
   ]
  },
  {
   "cell_type": "code",
   "execution_count": 28,
   "metadata": {},
   "outputs": [
    {
     "name": "stdout",
     "output_type": "stream",
     "text": [
      "Epoch: 0\n",
      "Accuracy:  0.0625  | F1-score:  0.029411764705882353  | Precision:  0.25  | Recall:  0.015625\n",
      "Train Loss: 1.6204228401184082 | Test loss: 1.6019619703292847\n",
      "---------------------------------------------------------\n",
      "Epoch: 100\n",
      "Accuracy:  0.1875  | F1-score:  0.13333333333333333  | Precision:  0.22916666666666666  | Recall:  0.09722222222222221\n",
      "Train Loss: 1.5715495347976685 | Test loss: 1.5924378633499146\n",
      "---------------------------------------------------------\n",
      "Epoch: 200\n",
      "Accuracy:  0.25  | F1-score:  0.1437908496732026  | Precision:  0.28125  | Recall:  0.30357142857142855\n",
      "Train Loss: 1.2032582759857178 | Test loss: 1.4648252725601196\n",
      "---------------------------------------------------------\n",
      "Epoch: 300\n",
      "Accuracy:  0.4375  | F1-score:  0.26666666666666666  | Precision:  0.32291666666666663  | Recall:  0.25\n",
      "Train Loss: 0.9320446252822876 | Test loss: 1.3229973316192627\n",
      "---------------------------------------------------------\n",
      "Epoch: 400\n",
      "Accuracy:  0.375  | F1-score:  0.23809523809523808  | Precision:  0.23958333333333331  | Recall:  0.24107142857142858\n",
      "Train Loss: 0.49163082242012024 | Test loss: 1.1968154907226562\n",
      "---------------------------------------------------------\n"
     ]
    }
   ],
   "source": [
    "model_0_pca = BaseModel(in_features_pca, 50, out_features).to(device)\n",
    "\n",
    "loss_fn = nn.CrossEntropyLoss()\n",
    "optimizer_class = torch.optim.SGD\n",
    "\n",
    "train(model_0_pca, X_train_pca, X_test_pca, y_train, y_test,\n",
    "      loss_fn, optimizer_class, 500, 0.1, device, verbose=True)"
   ]
  },
  {
   "cell_type": "code",
   "execution_count": 29,
   "metadata": {},
   "outputs": [],
   "source": [
    "model_0_pca.eval()\n",
    "with torch.inference_mode():\n",
    "    y_train_logits = model_0_pca(X_train_pca.to(device))\n",
    "    y_train_pred = y_train_logits.argmax(dim=1).to(\"cpu\")\n",
    "    y_test_logits = model_0_pca(X_test_pca.to(device))\n",
    "    y_test_pred = y_test_logits.argmax(dim=1).to(\"cpu\")"
   ]
  },
  {
   "cell_type": "code",
   "execution_count": 30,
   "metadata": {},
   "outputs": [
    {
     "name": "stdout",
     "output_type": "stream",
     "text": [
      "Accuracy:  0.9724137931034482  | F1-score:  0.9723809523809525  | Precision:  0.9732377538829151  | Recall:  0.9724137931034484\n"
     ]
    }
   ],
   "source": [
    "mlp_pca_train_metrics = get_metrics(y_train, y_train_pred)"
   ]
  },
  {
   "cell_type": "code",
   "execution_count": 31,
   "metadata": {},
   "outputs": [
    {
     "name": "stdout",
     "output_type": "stream",
     "text": [
      "Accuracy:  0.5  | F1-score:  0.3320261437908497  | Precision:  0.3416666666666666  | Recall:  0.3333333333333333\n"
     ]
    }
   ],
   "source": [
    "mlp_pca_test_metrics = get_metrics(y_test, y_test_pred)"
   ]
  },
  {
   "cell_type": "code",
   "execution_count": 32,
   "metadata": {},
   "outputs": [
    {
     "name": "stdout",
     "output_type": "stream",
     "text": [
      "Saving model to: models\\mlp_pca.pth\n"
     ]
    }
   ],
   "source": [
    "save_model(model_0_pca, \"mlp_pca.pth\")"
   ]
  },
  {
   "cell_type": "markdown",
   "metadata": {},
   "source": [
    "## Convolution Model"
   ]
  },
  {
   "cell_type": "markdown",
   "metadata": {},
   "source": [
    "### Non-PCA"
   ]
  },
  {
   "cell_type": "code",
   "execution_count": 33,
   "metadata": {},
   "outputs": [],
   "source": [
    "X_train = X_train.unsqueeze(1)\n",
    "X_test = X_test.unsqueeze(1)"
   ]
  },
  {
   "cell_type": "code",
   "execution_count": 34,
   "metadata": {},
   "outputs": [
    {
     "data": {
      "text/plain": [
       "(1, 2593)"
      ]
     },
     "execution_count": 34,
     "metadata": {},
     "output_type": "execute_result"
    }
   ],
   "source": [
    "in_channels, in_length = X_train.shape[1:]\n",
    "in_channels, in_length"
   ]
  },
  {
   "cell_type": "code",
   "execution_count": 35,
   "metadata": {},
   "outputs": [],
   "source": [
    "from modules.model_builder import ConvModel\n",
    "\n",
    "model_1 = ConvModel(in_channels, in_length, 50, out_features).to(device)"
   ]
  },
  {
   "cell_type": "code",
   "execution_count": 36,
   "metadata": {},
   "outputs": [
    {
     "name": "stdout",
     "output_type": "stream",
     "text": [
      "Epoch: 0\n",
      "Accuracy:  0.5  | F1-score:  0.16666666666666666  | Precision:  0.25  | Recall:  0.125\n",
      "Train Loss: 1.6098040342330933 | Test loss: 1.6017546653747559\n",
      "---------------------------------------------------------\n",
      "Epoch: 100\n",
      "Accuracy:  0.25  | F1-score:  0.18681318681318682  | Precision:  0.17708333333333331  | Recall:  0.2125\n",
      "Train Loss: 1.6060540676116943 | Test loss: 1.6085776090621948\n",
      "---------------------------------------------------------\n",
      "Epoch: 200\n",
      "Accuracy:  0.375  | F1-score:  0.29166666666666663  | Precision:  0.3020833333333333  | Recall:  0.3333333333333333\n",
      "Train Loss: 1.5215259790420532 | Test loss: 1.5765130519866943\n",
      "---------------------------------------------------------\n",
      "Epoch: 300\n",
      "Accuracy:  0.5625  | F1-score:  0.30952380952380953  | Precision:  0.34375  | Recall:  0.30128205128205127\n",
      "Train Loss: 1.6092803478240967 | Test loss: 1.6093225479125977\n",
      "---------------------------------------------------------\n",
      "Epoch: 400\n",
      "Accuracy:  0.4375  | F1-score:  0.13333333333333336  | Precision:  0.175  | Recall:  0.10769230769230768\n",
      "Train Loss: 1.6089226007461548 | Test loss: 1.6092931032180786\n",
      "---------------------------------------------------------\n"
     ]
    }
   ],
   "source": [
    "train(model_1, X_train, X_test, y_train, y_test,\n",
    "      loss_fn, optimizer_class, 500, 0.1, device, verbose=True)"
   ]
  },
  {
   "cell_type": "code",
   "execution_count": 37,
   "metadata": {},
   "outputs": [],
   "source": [
    "model_1.eval()\n",
    "with torch.inference_mode():\n",
    "    y_train_logits = model_1(X_train.to(device))\n",
    "    y_train_pred = y_train_logits.argmax(dim=1).to(\"cpu\")\n",
    "    y_test_logits = model_1(X_test.to(device))\n",
    "    y_test_pred = y_test_logits.argmax(dim=1).to(\"cpu\")"
   ]
  },
  {
   "cell_type": "code",
   "execution_count": 38,
   "metadata": {},
   "outputs": [
    {
     "name": "stdout",
     "output_type": "stream",
     "text": [
      "Accuracy:  0.8275862068965517  | F1-score:  0.8106387371661317  | Precision:  0.8325847664006594  | Recall:  0.8275862068965518\n"
     ]
    }
   ],
   "source": [
    "cnn_train_metrics = get_metrics(y_train, y_train_pred)"
   ]
  },
  {
   "cell_type": "code",
   "execution_count": 39,
   "metadata": {},
   "outputs": [
    {
     "name": "stdout",
     "output_type": "stream",
     "text": [
      "Accuracy:  0.25  | F1-score:  0.2077922077922078  | Precision:  0.3125  | Recall:  0.17708333333333331\n"
     ]
    }
   ],
   "source": [
    "cnn_test_metrics = get_metrics(y_test, y_test_pred)"
   ]
  },
  {
   "cell_type": "code",
   "execution_count": 40,
   "metadata": {},
   "outputs": [
    {
     "name": "stdout",
     "output_type": "stream",
     "text": [
      "Saving model to: models\\cnn.pth\n"
     ]
    }
   ],
   "source": [
    "save_model(model_1, \"cnn.pth\")"
   ]
  },
  {
   "cell_type": "markdown",
   "metadata": {},
   "source": [
    "### PCA"
   ]
  },
  {
   "cell_type": "code",
   "execution_count": 41,
   "metadata": {},
   "outputs": [],
   "source": [
    "X_train_pca = X_train_pca.unsqueeze(1)\n",
    "X_test_pca = X_test_pca.unsqueeze(1)"
   ]
  },
  {
   "cell_type": "code",
   "execution_count": 42,
   "metadata": {},
   "outputs": [
    {
     "data": {
      "text/plain": [
       "(1, 61)"
      ]
     },
     "execution_count": 42,
     "metadata": {},
     "output_type": "execute_result"
    }
   ],
   "source": [
    "in_channels, in_length = X_train_pca.shape[1:]\n",
    "in_channels, in_length"
   ]
  },
  {
   "cell_type": "code",
   "execution_count": 43,
   "metadata": {},
   "outputs": [],
   "source": [
    "model_1_pca = ConvModel(in_channels, in_length, 70, out_features).to(device)"
   ]
  },
  {
   "cell_type": "code",
   "execution_count": 44,
   "metadata": {},
   "outputs": [
    {
     "name": "stdout",
     "output_type": "stream",
     "text": [
      "Epoch: 0\n",
      "Accuracy:  0.25  | F1-score:  0.1  | Precision:  0.25  | Recall:  0.0625\n",
      "Train Loss: 1.609517216682434 | Test loss: 1.5992591381072998\n",
      "---------------------------------------------------------\n"
     ]
    },
    {
     "name": "stdout",
     "output_type": "stream",
     "text": [
      "Epoch: 100\n",
      "Accuracy:  0.375  | F1-score:  0.12  | Precision:  0.15  | Recall:  0.1\n",
      "Train Loss: 1.602400779724121 | Test loss: 1.6084671020507812\n",
      "---------------------------------------------------------\n",
      "Epoch: 200\n",
      "Accuracy:  0.0625  | F1-score:  0.04444444444444444  | Precision:  0.025  | Recall:  0.2\n",
      "Train Loss: 1.4772064685821533 | Test loss: 1.5931000709533691\n",
      "---------------------------------------------------------\n",
      "Epoch: 300\n",
      "Accuracy:  0.3125  | F1-score:  0.2366071428571429  | Precision:  0.23958333333333331  | Recall:  0.23958333333333331\n",
      "Train Loss: 0.6558781266212463 | Test loss: 1.3878953456878662\n",
      "---------------------------------------------------------\n",
      "Epoch: 400\n",
      "Accuracy:  0.4375  | F1-score:  0.2293233082706767  | Precision:  0.2708333333333333  | Recall:  0.19886363636363635\n",
      "Train Loss: 0.1787809133529663 | Test loss: 1.8690922260284424\n",
      "---------------------------------------------------------\n"
     ]
    }
   ],
   "source": [
    "train(model_1_pca, X_train_pca, X_test_pca, y_train_pca, y_test,\n",
    "      loss_fn, optimizer_class, 500, 0.1, device, verbose=True)"
   ]
  },
  {
   "cell_type": "code",
   "execution_count": 45,
   "metadata": {},
   "outputs": [],
   "source": [
    "model_1_pca.eval()\n",
    "with torch.inference_mode():\n",
    "    y_train_logits = model_1_pca(X_train_pca.to(device))\n",
    "    y_train_pred = y_train_logits.argmax(dim=1).to(\"cpu\")\n",
    "    y_test_logits = model_1_pca(X_test_pca.to(device))\n",
    "    y_test_pred = y_test_logits.argmax(dim=1).to(\"cpu\")"
   ]
  },
  {
   "cell_type": "code",
   "execution_count": 46,
   "metadata": {},
   "outputs": [
    {
     "name": "stdout",
     "output_type": "stream",
     "text": [
      "Accuracy:  1.0  | F1-score:  1.0  | Precision:  1.0  | Recall:  1.0\n"
     ]
    }
   ],
   "source": [
    "cnn_pca_train_metrics = get_metrics(y_train_pca, y_train_pred)"
   ]
  },
  {
   "cell_type": "code",
   "execution_count": 47,
   "metadata": {},
   "outputs": [
    {
     "name": "stdout",
     "output_type": "stream",
     "text": [
      "Accuracy:  0.375  | F1-score:  0.20955882352941177  | Precision:  0.18888888888888888  | Recall:  0.23958333333333331\n"
     ]
    }
   ],
   "source": [
    "cnn_pca_test_metrics = get_metrics(y_test, y_test_pred)"
   ]
  },
  {
   "cell_type": "code",
   "execution_count": 48,
   "metadata": {},
   "outputs": [
    {
     "name": "stdout",
     "output_type": "stream",
     "text": [
      "Saving model to: models\\cnn_pca.pth\n"
     ]
    }
   ],
   "source": [
    "save_model(model_1_pca, \"cnn_pca.pth\")"
   ]
  },
  {
   "cell_type": "markdown",
   "metadata": {},
   "source": [
    "## Summary"
   ]
  },
  {
   "cell_type": "code",
   "execution_count": 49,
   "metadata": {},
   "outputs": [],
   "source": [
    "models_test_perf = [(\"SVM\", *svm_train_metrics, *svm_test_metrics), \n",
    "                    (\"SVM+PCA\", *svm_pca_train_metrics, *svm_pca_test_metrics), \n",
    "                    (\"MLP\", *mlp_train_metrics, *mlp_test_metrics), \n",
    "                    (\"MLP+PCA\", *mlp_pca_train_metrics, *mlp_pca_test_metrics), \n",
    "                    (\"CNN\", *cnn_train_metrics, *cnn_test_metrics), \n",
    "                    (\"CNN+PCA\" ,*cnn_pca_train_metrics, *cnn_pca_test_metrics)]"
   ]
  },
  {
   "cell_type": "code",
   "execution_count": 50,
   "metadata": {},
   "outputs": [
    {
     "data": {
      "text/html": [
       "<div>\n",
       "<style scoped>\n",
       "    .dataframe tbody tr th:only-of-type {\n",
       "        vertical-align: middle;\n",
       "    }\n",
       "\n",
       "    .dataframe tbody tr th {\n",
       "        vertical-align: top;\n",
       "    }\n",
       "\n",
       "    .dataframe thead th {\n",
       "        text-align: right;\n",
       "    }\n",
       "</style>\n",
       "<table border=\"1\" class=\"dataframe\">\n",
       "  <thead>\n",
       "    <tr style=\"text-align: right;\">\n",
       "      <th></th>\n",
       "      <th>model</th>\n",
       "      <th>train_accuracy</th>\n",
       "      <th>train_f1_score</th>\n",
       "      <th>train_precision</th>\n",
       "      <th>train_recall</th>\n",
       "      <th>test_accuracy</th>\n",
       "      <th>test_f1_score</th>\n",
       "      <th>test_precision</th>\n",
       "      <th>test_recall</th>\n",
       "    </tr>\n",
       "  </thead>\n",
       "  <tbody>\n",
       "    <tr>\n",
       "      <th>0</th>\n",
       "      <td>SVM</td>\n",
       "      <td>0.868966</td>\n",
       "      <td>0.869298</td>\n",
       "      <td>0.892832</td>\n",
       "      <td>0.868966</td>\n",
       "      <td>0.500</td>\n",
       "      <td>0.284211</td>\n",
       "      <td>0.284091</td>\n",
       "      <td>0.302083</td>\n",
       "    </tr>\n",
       "    <tr>\n",
       "      <th>1</th>\n",
       "      <td>SVM+PCA</td>\n",
       "      <td>0.979310</td>\n",
       "      <td>0.979187</td>\n",
       "      <td>0.979294</td>\n",
       "      <td>0.979310</td>\n",
       "      <td>0.500</td>\n",
       "      <td>0.277778</td>\n",
       "      <td>0.258333</td>\n",
       "      <td>0.302083</td>\n",
       "    </tr>\n",
       "    <tr>\n",
       "      <th>2</th>\n",
       "      <td>MLP</td>\n",
       "      <td>0.958621</td>\n",
       "      <td>0.957353</td>\n",
       "      <td>0.962854</td>\n",
       "      <td>0.958621</td>\n",
       "      <td>0.500</td>\n",
       "      <td>0.326389</td>\n",
       "      <td>0.320833</td>\n",
       "      <td>0.333333</td>\n",
       "    </tr>\n",
       "    <tr>\n",
       "      <th>3</th>\n",
       "      <td>MLP+PCA</td>\n",
       "      <td>0.972414</td>\n",
       "      <td>0.972381</td>\n",
       "      <td>0.973238</td>\n",
       "      <td>0.972414</td>\n",
       "      <td>0.500</td>\n",
       "      <td>0.332026</td>\n",
       "      <td>0.341667</td>\n",
       "      <td>0.333333</td>\n",
       "    </tr>\n",
       "    <tr>\n",
       "      <th>4</th>\n",
       "      <td>CNN</td>\n",
       "      <td>0.827586</td>\n",
       "      <td>0.810639</td>\n",
       "      <td>0.832585</td>\n",
       "      <td>0.827586</td>\n",
       "      <td>0.250</td>\n",
       "      <td>0.207792</td>\n",
       "      <td>0.312500</td>\n",
       "      <td>0.177083</td>\n",
       "    </tr>\n",
       "    <tr>\n",
       "      <th>5</th>\n",
       "      <td>CNN+PCA</td>\n",
       "      <td>1.000000</td>\n",
       "      <td>1.000000</td>\n",
       "      <td>1.000000</td>\n",
       "      <td>1.000000</td>\n",
       "      <td>0.375</td>\n",
       "      <td>0.209559</td>\n",
       "      <td>0.188889</td>\n",
       "      <td>0.239583</td>\n",
       "    </tr>\n",
       "  </tbody>\n",
       "</table>\n",
       "</div>"
      ],
      "text/plain": [
       "     model  train_accuracy  train_f1_score  train_precision  train_recall  \\\n",
       "0      SVM        0.868966        0.869298         0.892832      0.868966   \n",
       "1  SVM+PCA        0.979310        0.979187         0.979294      0.979310   \n",
       "2      MLP        0.958621        0.957353         0.962854      0.958621   \n",
       "3  MLP+PCA        0.972414        0.972381         0.973238      0.972414   \n",
       "4      CNN        0.827586        0.810639         0.832585      0.827586   \n",
       "5  CNN+PCA        1.000000        1.000000         1.000000      1.000000   \n",
       "\n",
       "   test_accuracy  test_f1_score  test_precision  test_recall  \n",
       "0          0.500       0.284211        0.284091     0.302083  \n",
       "1          0.500       0.277778        0.258333     0.302083  \n",
       "2          0.500       0.326389        0.320833     0.333333  \n",
       "3          0.500       0.332026        0.341667     0.333333  \n",
       "4          0.250       0.207792        0.312500     0.177083  \n",
       "5          0.375       0.209559        0.188889     0.239583  "
      ]
     },
     "execution_count": 50,
     "metadata": {},
     "output_type": "execute_result"
    }
   ],
   "source": [
    "eval_df = pd.DataFrame(models_test_perf,\n",
    "                                columns=('model',\n",
    "                                         'train_accuracy',\n",
    "                                         'train_f1_score',\n",
    "                                         'train_precision',\n",
    "                                         'train_recall',\n",
    "                                         'test_accuracy',\n",
    "                                         'test_f1_score',\n",
    "                                         'test_precision',\n",
    "                                         'test_recall'))\n",
    "eval_df"
   ]
  },
  {
   "cell_type": "code",
   "execution_count": 51,
   "metadata": {},
   "outputs": [
    {
     "data": {
      "text/plain": [
       "[0.9793103448275862,\n",
       " 0.9791873019779139,\n",
       " 0.9792939244663383,\n",
       " 0.9793103448275862]"
      ]
     },
     "execution_count": 51,
     "metadata": {},
     "output_type": "execute_result"
    }
   ],
   "source": [
    "list(eval_df.loc[1].to_numpy()[1:5])"
   ]
  },
  {
   "cell_type": "code",
   "execution_count": 52,
   "metadata": {},
   "outputs": [
    {
     "data": {
      "text/plain": [
       "{'SVM': [0.8689655172413793,\n",
       "  0.8692980296196385,\n",
       "  0.8928321678321678,\n",
       "  0.8689655172413794],\n",
       " 'SVM+PCA': [0.9793103448275862,\n",
       "  0.9791873019779139,\n",
       "  0.9792939244663383,\n",
       "  0.9793103448275862],\n",
       " 'MLP': [0.9586206896551724,\n",
       "  0.9573531844499585,\n",
       "  0.9628543499511242,\n",
       "  0.9586206896551724],\n",
       " 'MLP+PCA': [0.9724137931034482,\n",
       "  0.9723809523809525,\n",
       "  0.9732377538829151,\n",
       "  0.9724137931034484],\n",
       " 'CNN': [0.8275862068965517,\n",
       "  0.8106387371661317,\n",
       "  0.8325847664006594,\n",
       "  0.8275862068965518],\n",
       " 'CNN+PCA': [1.0, 1.0, 1.0, 1.0]}"
      ]
     },
     "execution_count": 52,
     "metadata": {},
     "output_type": "execute_result"
    }
   ],
   "source": [
    "{\n",
    "    eval_df.loc[0].to_numpy()[0]: list(eval_df.loc[0].to_numpy()[1:5]),\n",
    "    eval_df.loc[1].to_numpy()[0]: list(eval_df.loc[1].to_numpy()[1:5]),\n",
    "    eval_df.loc[2].to_numpy()[0]: list(eval_df.loc[2].to_numpy()[1:5]),\n",
    "    eval_df.loc[3].to_numpy()[0]: list(eval_df.loc[3].to_numpy()[1:5]),\n",
    "    eval_df.loc[4].to_numpy()[0]: list(eval_df.loc[4].to_numpy()[1:5]),\n",
    "    eval_df.loc[5].to_numpy()[0]: list(eval_df.loc[5].to_numpy()[1:5]),\n",
    "}\n"
   ]
  },
  {
   "cell_type": "code",
   "execution_count": 53,
   "metadata": {},
   "outputs": [
    {
     "data": {
      "image/png": "[encoded data removed]",
      "text/plain": [
       "<Figure size 640x480 with 1 Axes>"
      ]
     },
     "metadata": {},
     "output_type": "display_data"
    }
   ],
   "source": [
    "import matplotlib.pyplot as plt\n",
    "import numpy as np\n",
    "\n",
    "species = (\"Adelie\", \"Chinstrap\", \"Gentoo\")\n",
    "scores = {\n",
    "    'Accuracy': eval_df.test_accuracy,\n",
    "    'F1 Score': eval_df.test_f1_score,\n",
    "    'Precision': eval_df.test_precision,\n",
    "    'Recall': eval_df.test_recall,\n",
    "}\n",
    "\n",
    "models = eval_df.model\n",
    "\n",
    "x = np.arange(len(models))  # the label locations\n",
    "width = 0.2  # the width of the bars\n",
    "multiplier = 0\n",
    "\n",
    "fig, ax = plt.subplots(layout='constrained')\n",
    "\n",
    "for attribute, measurement in scores.items():\n",
    "    offset = width * multiplier\n",
    "    rects = ax.bar(x + offset, measurement, width, label=attribute)\n",
    "    multiplier += 1\n",
    "\n",
    "# Add some text for labels, title and custom x-axis tick labels, etc.\n",
    "ax.set_ylabel('value')\n",
    "ax.set_title('Scores grouped by model')\n",
    "ax.set_xticks(x + width + 0.1, models)\n",
    "ax.legend(loc='upper left', ncols=6)\n",
    "ax.set_ylim(0, 0.7)\n",
    "\n",
    "plt.show()"
   ]
  },
  {
   "cell_type": "code",
   "execution_count": 54,
   "metadata": {},
   "outputs": [
    {
     "data": {
      "image/png": "[encoded data removed]",
      "text/plain": [
       "<Figure size 640x480 with 1 Axes>"
      ]
     },
     "metadata": {},
     "output_type": "display_data"
    }
   ],
   "source": [
    "import matplotlib.pyplot as plt\n",
    "import numpy as np\n",
    "\n",
    "metrics = (\"Accuracy\", \"F1 Score\", \"Precision\", \"Recall\")\n",
    "scores = {\n",
    "    eval_df.loc[0].to_numpy()[0]: list(eval_df.loc[0].to_numpy()[5:]),\n",
    "    eval_df.loc[1].to_numpy()[0]: list(eval_df.loc[1].to_numpy()[5:]),\n",
    "    eval_df.loc[2].to_numpy()[0]: list(eval_df.loc[2].to_numpy()[5:]),\n",
    "    eval_df.loc[3].to_numpy()[0]: list(eval_df.loc[3].to_numpy()[5:]),\n",
    "    eval_df.loc[4].to_numpy()[0]: list(eval_df.loc[4].to_numpy()[5:]),\n",
    "    eval_df.loc[5].to_numpy()[0]: list(eval_df.loc[5].to_numpy()[5:]),\n",
    "}\n",
    "\n",
    "models = eval_df.model\n",
    "\n",
    "x = np.arange(len(metrics))  # the label locations\n",
    "width = 0.1  # the width of the bars\n",
    "multiplier = 0\n",
    "\n",
    "fig, ax = plt.subplots(layout='constrained')\n",
    "\n",
    "for attribute, measurement in scores.items():\n",
    "    offset = width * multiplier\n",
    "    rects = ax.bar(x + offset, measurement, width, label=attribute)\n",
    "    # ax.bar_label(rects, padding=3)\n",
    "    multiplier += 1\n",
    "\n",
    "# Add some text for labels, title and custom x-axis tick labels, etc.\n",
    "ax.set_ylabel('value')\n",
    "ax.set_title('Scores grouped by metric')\n",
    "ax.set_xticks(x + 0.1 + width, metrics)\n",
    "ax.legend(loc='upper left', ncols=4)\n",
    "ax.set_ylim(0, 0.7)\n",
    "\n",
    "plt.show()"
   ]
  },
  {
   "cell_type": "code",
   "execution_count": null,
   "metadata": {},
   "outputs": [],
   "source": []
  }
 ],
 "metadata": {
  "kernelspec": {
   "display_name": "base",
   "language": "python",
   "name": "python3"
  },
  "language_info": {
   "codemirror_mode": {
    "name": "ipython",
    "version": 3
   },
   "file_extension": ".py",
   "mimetype": "text/x-python",
   "name": "python",
   "nbconvert_exporter": "python",
   "pygments_lexer": "ipython3",
   "version": "3.11.5"
  }
 },
 "nbformat": 4,
 "nbformat_minor": 2
}
