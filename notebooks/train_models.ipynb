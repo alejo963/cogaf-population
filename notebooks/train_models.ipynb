{
 "cells": [
  {
   "cell_type": "markdown",
   "metadata": {},
   "source": [
    "# Model training"
   ]
  },
  {
   "cell_type": "code",
   "execution_count": 1,
   "metadata": {},
   "outputs": [],
   "source": [
    "import torch\n",
    "from torch import nn\n",
    "import pandas as pd"
   ]
  },
  {
   "cell_type": "code",
   "execution_count": 2,
   "metadata": {},
   "outputs": [
    {
     "data": {
      "text/plain": [
       "'cuda'"
      ]
     },
     "execution_count": 2,
     "metadata": {},
     "output_type": "execute_result"
    }
   ],
   "source": [
    "# Setup device agnostic code\n",
    "device = \"cuda\" if torch.cuda.is_available() else \"cpu\"\n",
    "device"
   ]
  },
  {
   "cell_type": "code",
   "execution_count": 3,
   "metadata": {},
   "outputs": [
    {
     "data": {
      "text/plain": [
       "((145, 2593), (145, 61))"
      ]
     },
     "execution_count": 3,
     "metadata": {},
     "output_type": "execute_result"
    }
   ],
   "source": [
    "# Load data\n",
    "\n",
    "X_train = pd.read_csv(\"./../data/features/in_features_train.csv\")\n",
    "X_train_pca = pd.read_csv(\"./../data/features/pca_in_features_train.csv\")\n",
    "\n",
    "X_train.shape, X_train_pca.shape"
   ]
  },
  {
   "cell_type": "code",
   "execution_count": 4,
   "metadata": {},
   "outputs": [
    {
     "data": {
      "text/plain": [
       "((145,), (145,))"
      ]
     },
     "execution_count": 4,
     "metadata": {},
     "output_type": "execute_result"
    }
   ],
   "source": [
    "y_train = pd.read_csv(\"./../data/features/out_features_train.csv\").label\n",
    "y_train_pca = pd.read_csv(\"./../data/features/pca_out_features_train.csv\").label\n",
    "\n",
    "y_train.shape, y_train_pca.shape"
   ]
  },
  {
   "cell_type": "code",
   "execution_count": 5,
   "metadata": {},
   "outputs": [
    {
     "data": {
      "text/plain": [
       "((16, 2593), (16, 61))"
      ]
     },
     "execution_count": 5,
     "metadata": {},
     "output_type": "execute_result"
    }
   ],
   "source": [
    "X_test = pd.read_csv(\"./../data/features/in_features_test.csv\")\n",
    "X_test_pca = pd.read_csv(\"./../data/features/pca_in_features_test.csv\")\n",
    "\n",
    "X_test.shape, X_test_pca.shape"
   ]
  },
  {
   "cell_type": "code",
   "execution_count": 6,
   "metadata": {},
   "outputs": [
    {
     "data": {
      "text/plain": [
       "(16,)"
      ]
     },
     "execution_count": 6,
     "metadata": {},
     "output_type": "execute_result"
    }
   ],
   "source": [
    "y_test = pd.read_csv(\"./../data/features/out_features_test.csv\").label\n",
    "\n",
    "y_test.shape"
   ]
  },
  {
   "cell_type": "markdown",
   "metadata": {},
   "source": [
    "## Support Vector Machine (SVM)"
   ]
  },
  {
   "cell_type": "markdown",
   "metadata": {},
   "source": [
    "### Non PCA features"
   ]
  },
  {
   "cell_type": "code",
   "execution_count": 7,
   "metadata": {},
   "outputs": [],
   "source": [
    "from sklearn.svm import SVC\n",
    "from sklearn.model_selection import GridSearchCV, KFold\n",
    "\n",
    "svm = SVC(kernel='rbf', C=10, gamma=0.01)\n",
    "# p_grid = {\"C\": [1, 10, 20, 50, 100], \"gamma\": [0.01, 0.1, 0.2, 0.4, 0.6, 0.8]}\n",
    "# cv = KFold(n_splits=5, shuffle=True)\n",
    "\n",
    "# clf = GridSearchCV(estimator=svm, param_grid=p_grid, cv=cv, scoring=\"f1_macro\")\n",
    "# clf.fit(X_train, y_train)\n",
    "\n",
    "clf = svm.fit(X_train, y_train)"
   ]
  },
  {
   "cell_type": "code",
   "execution_count": 8,
   "metadata": {},
   "outputs": [
    {
     "data": {
      "text/plain": [
       "array([0, 0, 0, 0, 2, 0, 0, 2, 1, 2, 0, 0, 1, 0, 0, 0], dtype=int64)"
      ]
     },
     "execution_count": 8,
     "metadata": {},
     "output_type": "execute_result"
    }
   ],
   "source": [
    "y_pred = clf.predict(X_test)\n",
    "y_pred"
   ]
  },
  {
   "cell_type": "code",
   "execution_count": 9,
   "metadata": {},
   "outputs": [
    {
     "data": {
      "text/plain": [
       "array([2, 2, 0, 0, 0, 2, 0, 1, 3, 1, 2, 0, 1, 0, 0, 0], dtype=int64)"
      ]
     },
     "execution_count": 9,
     "metadata": {},
     "output_type": "execute_result"
    }
   ],
   "source": [
    "y_test.to_numpy()"
   ]
  },
  {
   "cell_type": "code",
   "execution_count": 10,
   "metadata": {},
   "outputs": [
    {
     "name": "stdout",
     "output_type": "stream",
     "text": [
      "Accuracy:  0.8689655172413793  | F1-score:  0.8692980296196385  | Precision:  0.8928321678321678  | Recall:  0.8689655172413794\n"
     ]
    }
   ],
   "source": [
    "from modules.engine import get_metrics\n",
    "svm_train_metrics = get_metrics(y_train, clf.predict(X_train))"
   ]
  },
  {
   "cell_type": "code",
   "execution_count": 11,
   "metadata": {},
   "outputs": [
    {
     "name": "stdout",
     "output_type": "stream",
     "text": [
      "Accuracy:  0.5  | F1-score:  0.28421052631578947  | Precision:  0.28409090909090906  | Recall:  0.3020833333333333\n"
     ]
    }
   ],
   "source": [
    "# Evaluate\n",
    "svm_test_metrics = get_metrics(y_test, y_pred)"
   ]
  },
  {
   "cell_type": "code",
   "execution_count": 12,
   "metadata": {},
   "outputs": [
    {
     "data": {
      "text/plain": [
       "{'C': 10,\n",
       " 'break_ties': False,\n",
       " 'cache_size': 200,\n",
       " 'class_weight': None,\n",
       " 'coef0': 0.0,\n",
       " 'decision_function_shape': 'ovr',\n",
       " 'degree': 3,\n",
       " 'gamma': 0.01,\n",
       " 'kernel': 'rbf',\n",
       " 'max_iter': -1,\n",
       " 'probability': False,\n",
       " 'random_state': None,\n",
       " 'shrinking': True,\n",
       " 'tol': 0.001,\n",
       " 'verbose': False}"
      ]
     },
     "execution_count": 12,
     "metadata": {},
     "output_type": "execute_result"
    }
   ],
   "source": [
    "clf.get_params()"
   ]
  },
  {
   "cell_type": "code",
   "execution_count": 13,
   "metadata": {},
   "outputs": [
    {
     "data": {
      "text/plain": [
       "['models\\\\svm.pk']"
      ]
     },
     "execution_count": 13,
     "metadata": {},
     "output_type": "execute_result"
    }
   ],
   "source": [
    "import joblib\n",
    "from pathlib import Path\n",
    "\n",
    "\n",
    "# Create models directory (if it doesn't already exist), see: https://docs.python.org/3/library/pathlib.html#pathlib.Path.mkdir\n",
    "MODEL_PATH = Path(\"models\")\n",
    "MODEL_PATH.mkdir(parents=True, # create parent directories if needed\n",
    "                 exist_ok=True # if models directory already exists, don't error\n",
    ")\n",
    "\n",
    "# Create model save path\n",
    "MODEL_NAME = \"svm.pk\"\n",
    "MODEL_SAVE_PATH = MODEL_PATH / MODEL_NAME\n",
    "\n",
    "joblib.dump(clf, MODEL_SAVE_PATH)"
   ]
  },
  {
   "cell_type": "markdown",
   "metadata": {},
   "source": [
    "### PCA features\n"
   ]
  },
  {
   "cell_type": "code",
   "execution_count": 14,
   "metadata": {},
   "outputs": [],
   "source": [
    "svm = SVC(kernel='rbf', C=20, gamma=0.01)\n",
    "# p_grid = {\"C\": [1, 10, 100], \"gamma\": [0.01, 0.1]}\n",
    "# cv = KFold(n_splits=5, shuffle=True)\n",
    "\n",
    "# clf_pca = GridSearchCV(estimator=svm, param_grid=p_grid, cv=cv, scoring=\"f1_macro\")\n",
    "# clf_pca.fit(X_train_pca, y_train)\n",
    "\n",
    "clf_pca = svm.fit(X_train_pca, y_train_pca)"
   ]
  },
  {
   "cell_type": "code",
   "execution_count": 15,
   "metadata": {},
   "outputs": [],
   "source": [
    "y_pred = clf_pca.predict(X_test_pca)"
   ]
  },
  {
   "cell_type": "code",
   "execution_count": 16,
   "metadata": {},
   "outputs": [
    {
     "data": {
      "text/plain": [
       "array([2, 2, 0, 0, 0, 2, 0, 1, 3, 1, 2, 0, 1, 0, 0, 0], dtype=int64)"
      ]
     },
     "execution_count": 16,
     "metadata": {},
     "output_type": "execute_result"
    }
   ],
   "source": [
    "y_test.to_numpy()"
   ]
  },
  {
   "cell_type": "code",
   "execution_count": 17,
   "metadata": {},
   "outputs": [
    {
     "name": "stdout",
     "output_type": "stream",
     "text": [
      "Accuracy:  0.9793103448275862  | F1-score:  0.9791873019779139  | Precision:  0.9792939244663383  | Recall:  0.9793103448275862\n"
     ]
    }
   ],
   "source": [
    "svm_pca_train_metrics = get_metrics(y_train, clf_pca.predict(X_train_pca))"
   ]
  },
  {
   "cell_type": "code",
   "execution_count": 18,
   "metadata": {},
   "outputs": [
    {
     "name": "stdout",
     "output_type": "stream",
     "text": [
      "Accuracy:  0.5  | F1-score:  0.27777777777777773  | Precision:  0.2583333333333333  | Recall:  0.3020833333333333\n"
     ]
    }
   ],
   "source": [
    "# Evaluate\n",
    "svm_pca_test_metrics = get_metrics(y_test, y_pred)"
   ]
  },
  {
   "cell_type": "markdown",
   "metadata": {},
   "source": [
    "## Linear model"
   ]
  },
  {
   "cell_type": "markdown",
   "metadata": {},
   "source": [
    "## Non-PCA"
   ]
  },
  {
   "cell_type": "code",
   "execution_count": 19,
   "metadata": {},
   "outputs": [
    {
     "data": {
      "text/plain": [
       "(2593, 5)"
      ]
     },
     "execution_count": 19,
     "metadata": {},
     "output_type": "execute_result"
    }
   ],
   "source": [
    "X_train = torch.from_numpy(X_train.to_numpy()).type(torch.float)\n",
    "X_test = torch.from_numpy(X_test.to_numpy()).type(torch.float)\n",
    "\n",
    "classes = y_train.unique()\n",
    "\n",
    "y_train = torch.from_numpy(y_train.to_numpy()).type(torch.LongTensor)\n",
    "y_test = torch.from_numpy(y_test.to_numpy()).type(torch.LongTensor)\n",
    "\n",
    "in_features, out_features = X_train.shape[1], len(classes)\n",
    "in_features, out_features"
   ]
  },
  {
   "cell_type": "code",
   "execution_count": 20,
   "metadata": {},
   "outputs": [],
   "source": [
    "from modules.model_builder import BaseModel\n",
    "\n",
    "model_0 = BaseModel(in_features, 50, out_features).to(device)"
   ]
  },
  {
   "cell_type": "code",
   "execution_count": 21,
   "metadata": {},
   "outputs": [
    {
     "name": "stdout",
     "output_type": "stream",
     "text": [
      "Epoch: 0\n",
      "Accuracy:  0.0  | F1-score:  0.0  | Precision:  0.0  | Recall:  0.0\n",
      "Train Loss: 1.6107858419418335 | Test loss: 1.6422420740127563\n",
      "---------------------------------------------------------\n",
      "Epoch: 100\n",
      "Accuracy:  0.3125  | F1-score:  0.17230769230769233  | Precision:  0.20833333333333331  | Recall:  0.17714285714285713\n",
      "Train Loss: 1.5866611003875732 | Test loss: 1.6073089838027954\n",
      "---------------------------------------------------------\n",
      "Epoch: 200\n",
      "Accuracy:  0.1875  | F1-score:  0.2  | Precision:  0.14583333333333331  | Recall:  0.375\n",
      "Train Loss: 1.318030595779419 | Test loss: 1.542609691619873\n",
      "---------------------------------------------------------\n",
      "Epoch: 300\n",
      "Accuracy:  0.3125  | F1-score:  0.2602564102564103  | Precision:  0.2708333333333333  | Recall:  0.38888888888888884\n",
      "Train Loss: 0.9446457624435425 | Test loss: 1.3985153436660767\n",
      "---------------------------------------------------------\n",
      "Epoch: 400\n",
      "Accuracy:  0.4375  | F1-score:  0.3205128205128205  | Precision:  0.3333333333333333  | Recall:  0.3458333333333333\n",
      "Train Loss: 0.6263064742088318 | Test loss: 1.3493971824645996\n",
      "---------------------------------------------------------\n"
     ]
    }
   ],
   "source": [
    "from modules.engine import train, save_model\n",
    "\n",
    "loss_fn = nn.CrossEntropyLoss()\n",
    "optimizer_class = torch.optim.SGD\n",
    "\n",
    "train(model_0, X_train, X_test, y_train, y_test,\n",
    "      loss_fn, optimizer_class, epochs=500, lr=0.1, device=device, verbose=True)"
   ]
  },
  {
   "cell_type": "code",
   "execution_count": 22,
   "metadata": {},
   "outputs": [],
   "source": [
    "model_0.eval()\n",
    "with torch.inference_mode():\n",
    "    y_train_logits = model_0(X_train.to(device))\n",
    "    y_train_pred = y_train_logits.argmax(dim=1).to(\"cpu\")\n",
    "    y_test_logits = model_0(X_test.to(device))\n",
    "    y_test_pred = y_test_logits.argmax(dim=1).to(\"cpu\")"
   ]
  },
  {
   "cell_type": "code",
   "execution_count": 23,
   "metadata": {},
   "outputs": [
    {
     "name": "stdout",
     "output_type": "stream",
     "text": [
      "Accuracy:  0.9310344827586207  | F1-score:  0.9290653432588917  | Precision:  0.9333418334820859  | Recall:  0.9310344827586207\n"
     ]
    }
   ],
   "source": [
    "\n",
    "mpl_train_metrics = get_metrics(y_train, y_train_pred)"
   ]
  },
  {
   "cell_type": "code",
   "execution_count": 24,
   "metadata": {},
   "outputs": [
    {
     "name": "stdout",
     "output_type": "stream",
     "text": [
      "Accuracy:  0.4375  | F1-score:  0.30624999999999997  | Precision:  0.3229166666666667  | Recall:  0.3020833333333333\n"
     ]
    }
   ],
   "source": [
    "\n",
    "mpl_test_metrics = get_metrics(y_test, y_test_pred)"
   ]
  },
  {
   "cell_type": "code",
   "execution_count": 25,
   "metadata": {},
   "outputs": [
    {
     "name": "stdout",
     "output_type": "stream",
     "text": [
      "Saving model to: models\\mlp.pth\n"
     ]
    }
   ],
   "source": [
    "save_model(model_0, \"mlp.pth\")"
   ]
  },
  {
   "cell_type": "markdown",
   "metadata": {},
   "source": [
    "## PCA Model"
   ]
  },
  {
   "cell_type": "code",
   "execution_count": 26,
   "metadata": {},
   "outputs": [],
   "source": [
    "X_train_pca = torch.from_numpy(X_train_pca.to_numpy()).type(torch.float)\n",
    "X_test_pca = torch.from_numpy(X_test_pca.to_numpy()).type(torch.float)\n",
    "\n",
    "y_train_pca = torch.from_numpy(y_train_pca.to_numpy()).type(torch.LongTensor)\n",
    "\n"
   ]
  },
  {
   "cell_type": "code",
   "execution_count": 27,
   "metadata": {},
   "outputs": [
    {
     "data": {
      "text/plain": [
       "(61, 5)"
      ]
     },
     "execution_count": 27,
     "metadata": {},
     "output_type": "execute_result"
    }
   ],
   "source": [
    "in_features_pca = X_train_pca.shape[1]\n",
    "in_features_pca, out_features"
   ]
  },
  {
   "cell_type": "code",
   "execution_count": 28,
   "metadata": {},
   "outputs": [
    {
     "name": "stdout",
     "output_type": "stream",
     "text": [
      "Epoch: 0\n",
      "Accuracy:  0.0625  | F1-score:  0.041666666666666664  | Precision:  0.03125  | Recall:  0.0625\n",
      "Train Loss: 1.6101586818695068 | Test loss: 1.592514991760254\n",
      "---------------------------------------------------------\n",
      "Epoch: 100\n",
      "Accuracy:  0.1875  | F1-score:  0.08823529411764706  | Precision:  0.25  | Recall:  0.05357142857142857\n",
      "Train Loss: 1.5574438571929932 | Test loss: 1.6029856204986572\n",
      "---------------------------------------------------------\n",
      "Epoch: 200\n",
      "Accuracy:  0.1875  | F1-score:  0.09375  | Precision:  0.25  | Recall:  0.057692307692307696\n",
      "Train Loss: 1.1535381078720093 | Test loss: 1.456896424293518\n",
      "---------------------------------------------------------\n",
      "Epoch: 300\n",
      "Accuracy:  0.375  | F1-score:  0.2897727272727273  | Precision:  0.3020833333333333  | Recall:  0.37142857142857144\n",
      "Train Loss: 0.8715500235557556 | Test loss: 1.3796861171722412\n",
      "---------------------------------------------------------\n",
      "Epoch: 400\n",
      "Accuracy:  0.4375  | F1-score:  0.3242424242424242  | Precision:  0.3333333333333333  | Recall:  0.3392857142857143\n",
      "Train Loss: 0.4747590124607086 | Test loss: 1.349073886871338\n",
      "---------------------------------------------------------\n"
     ]
    }
   ],
   "source": [
    "model_0_pca = BaseModel(in_features_pca, 50, out_features).to(device)\n",
    "\n",
    "loss_fn = nn.CrossEntropyLoss()\n",
    "optimizer_class = torch.optim.SGD\n",
    "\n",
    "train(model_0_pca, X_train_pca, X_test_pca, y_train, y_test,\n",
    "      loss_fn, optimizer_class, 500, 0.1, device, verbose=True)"
   ]
  },
  {
   "cell_type": "code",
   "execution_count": 29,
   "metadata": {},
   "outputs": [],
   "source": [
    "model_0_pca.eval()\n",
    "with torch.inference_mode():\n",
    "    y_train_logits = model_0_pca(X_train_pca.to(device))\n",
    "    y_train_pred = y_train_logits.argmax(dim=1).to(\"cpu\")\n",
    "    y_test_logits = model_0_pca(X_test_pca.to(device))\n",
    "    y_test_pred = y_test_logits.argmax(dim=1).to(\"cpu\")"
   ]
  },
  {
   "cell_type": "code",
   "execution_count": 30,
   "metadata": {},
   "outputs": [
    {
     "name": "stdout",
     "output_type": "stream",
     "text": [
      "Accuracy:  0.9793103448275862  | F1-score:  0.9793041926851027  | Precision:  0.9795238095238096  | Recall:  0.9793103448275862\n"
     ]
    }
   ],
   "source": [
    "mpl_pca_train_metrics = get_metrics(y_train, y_train_pred)"
   ]
  },
  {
   "cell_type": "code",
   "execution_count": 31,
   "metadata": {},
   "outputs": [
    {
     "name": "stdout",
     "output_type": "stream",
     "text": [
      "Accuracy:  0.5625  | F1-score:  0.38758169934640524  | Precision:  0.3916666666666666  | Recall:  0.3958333333333333\n"
     ]
    }
   ],
   "source": [
    "mpl_pca_test_metrics = get_metrics(y_test, y_test_pred)"
   ]
  },
  {
   "cell_type": "code",
   "execution_count": 32,
   "metadata": {},
   "outputs": [
    {
     "name": "stdout",
     "output_type": "stream",
     "text": [
      "Saving model to: models\\mlp_pca.pth\n"
     ]
    }
   ],
   "source": [
    "save_model(model_0_pca, \"mlp_pca.pth\")"
   ]
  },
  {
   "cell_type": "markdown",
   "metadata": {},
   "source": [
    "## Convolution Model"
   ]
  },
  {
   "cell_type": "markdown",
   "metadata": {},
   "source": [
    "### Non-PCA"
   ]
  },
  {
   "cell_type": "code",
   "execution_count": 33,
   "metadata": {},
   "outputs": [],
   "source": [
    "X_train = X_train.unsqueeze(1)\n",
    "X_test = X_test.unsqueeze(1)"
   ]
  },
  {
   "cell_type": "code",
   "execution_count": 34,
   "metadata": {},
   "outputs": [
    {
     "data": {
      "text/plain": [
       "(1, 2593)"
      ]
     },
     "execution_count": 34,
     "metadata": {},
     "output_type": "execute_result"
    }
   ],
   "source": [
    "in_channels, in_length = X_train.shape[1:]\n",
    "in_channels, in_length"
   ]
  },
  {
   "cell_type": "code",
   "execution_count": 35,
   "metadata": {},
   "outputs": [],
   "source": [
    "from modules.model_builder import ConvModel\n",
    "\n",
    "model_1 = ConvModel(in_channels, in_length, 50, out_features).to(device)"
   ]
  },
  {
   "cell_type": "code",
   "execution_count": 36,
   "metadata": {},
   "outputs": [
    {
     "name": "stdout",
     "output_type": "stream",
     "text": [
      "Epoch: 0\n",
      "Accuracy:  0.125  | F1-score:  0.14166666666666666  | Precision:  0.11458333333333333  | Recall:  0.1875\n",
      "Train Loss: 1.6094942092895508 | Test loss: 1.6093770265579224\n",
      "---------------------------------------------------------\n"
     ]
    }
   ],
   "source": [
    "train(model_1, X_train, X_test, y_train, y_test,\n",
    "      loss_fn, optimizer_class, 100, 0.1, device, verbose=True)"
   ]
  },
  {
   "cell_type": "code",
   "execution_count": 37,
   "metadata": {},
   "outputs": [],
   "source": [
    "model_1.eval()\n",
    "with torch.inference_mode():\n",
    "    y_train_logits = model_1(X_train.to(device))\n",
    "    y_train_pred = y_train_logits.argmax(dim=1).to(\"cpu\")\n",
    "    y_test_logits = model_1(X_test.to(device))\n",
    "    y_test_pred = y_test_logits.argmax(dim=1).to(\"cpu\")"
   ]
  },
  {
   "cell_type": "code",
   "execution_count": 38,
   "metadata": {},
   "outputs": [
    {
     "name": "stdout",
     "output_type": "stream",
     "text": [
      "Accuracy:  0.9103448275862069  | F1-score:  0.908981485972997  | Precision:  0.9202953908836262  | Recall:  0.9103448275862067\n"
     ]
    }
   ],
   "source": [
    "cnn_train_metrics = get_metrics(y_train, y_train_pred)"
   ]
  },
  {
   "cell_type": "code",
   "execution_count": 39,
   "metadata": {},
   "outputs": [
    {
     "name": "stdout",
     "output_type": "stream",
     "text": [
      "Accuracy:  0.25  | F1-score:  0.17857142857142858  | Precision:  0.1875  | Recall:  0.17708333333333331\n"
     ]
    }
   ],
   "source": [
    "cnn_test_metrics = get_metrics(y_test, y_test_pred)"
   ]
  },
  {
   "cell_type": "code",
   "execution_count": 40,
   "metadata": {},
   "outputs": [
    {
     "name": "stdout",
     "output_type": "stream",
     "text": [
      "Saving model to: models\\cnn.pth\n"
     ]
    }
   ],
   "source": [
    "save_model(model_1, \"cnn.pth\")"
   ]
  },
  {
   "cell_type": "markdown",
   "metadata": {},
   "source": [
    "### PCA"
   ]
  },
  {
   "cell_type": "code",
   "execution_count": 41,
   "metadata": {},
   "outputs": [],
   "source": [
    "X_train_pca = X_train_pca.unsqueeze(1)\n",
    "X_test_pca = X_test_pca.unsqueeze(1)"
   ]
  },
  {
   "cell_type": "code",
   "execution_count": 42,
   "metadata": {},
   "outputs": [
    {
     "data": {
      "text/plain": [
       "(1, 61)"
      ]
     },
     "execution_count": 42,
     "metadata": {},
     "output_type": "execute_result"
    }
   ],
   "source": [
    "in_channels, in_length = X_train_pca.shape[1:]\n",
    "in_channels, in_length"
   ]
  },
  {
   "cell_type": "code",
   "execution_count": 43,
   "metadata": {},
   "outputs": [],
   "source": [
    "model_1_pca = ConvModel(in_channels, in_length, 70, out_features).to(device)"
   ]
  },
  {
   "cell_type": "code",
   "execution_count": 44,
   "metadata": {},
   "outputs": [
    {
     "name": "stdout",
     "output_type": "stream",
     "text": [
      "Epoch: 0\n",
      "Accuracy:  0.25  | F1-score:  0.1  | Precision:  0.25  | Recall:  0.0625\n",
      "Train Loss: 1.6102142333984375 | Test loss: 1.5997506380081177\n",
      "---------------------------------------------------------\n",
      "Epoch: 100\n",
      "Accuracy:  0.5  | F1-score:  0.2666666666666667  | Precision:  0.3020833333333333  | Recall:  0.2596153846153846\n",
      "Train Loss: 1.5971649885177612 | Test loss: 1.6066993474960327\n",
      "---------------------------------------------------------\n"
     ]
    }
   ],
   "source": [
    "train(model_1_pca, X_train_pca, X_test_pca, y_train_pca, y_test,\n",
    "      loss_fn, optimizer_class, 200, 0.1, device, verbose=True)"
   ]
  },
  {
   "cell_type": "code",
   "execution_count": 45,
   "metadata": {},
   "outputs": [],
   "source": [
    "model_1_pca.eval()\n",
    "with torch.inference_mode():\n",
    "    y_train_logits = model_1_pca(X_train_pca.to(device))\n",
    "    y_train_pred = y_train_logits.argmax(dim=1).to(\"cpu\")\n",
    "    y_test_logits = model_1_pca(X_test_pca.to(device))\n",
    "    y_test_pred = y_test_logits.argmax(dim=1).to(\"cpu\")"
   ]
  },
  {
   "cell_type": "code",
   "execution_count": 46,
   "metadata": {},
   "outputs": [
    {
     "name": "stdout",
     "output_type": "stream",
     "text": [
      "Accuracy:  0.7241379310344828  | F1-score:  0.7202254841899678  | Precision:  0.7579857397504457  | Recall:  0.7241379310344828\n"
     ]
    }
   ],
   "source": [
    "cnn_pca_train_metrics = get_metrics(y_train_pca, y_train_pred)"
   ]
  },
  {
   "cell_type": "code",
   "execution_count": 47,
   "metadata": {},
   "outputs": [
    {
     "name": "stdout",
     "output_type": "stream",
     "text": [
      "Accuracy:  0.5  | F1-score:  0.25833333333333336  | Precision:  0.22916666666666669  | Recall:  0.3020833333333333\n"
     ]
    }
   ],
   "source": [
    "cnn_pca_test_metrics = get_metrics(y_test, y_test_pred)"
   ]
  },
  {
   "cell_type": "code",
   "execution_count": 48,
   "metadata": {},
   "outputs": [
    {
     "name": "stdout",
     "output_type": "stream",
     "text": [
      "Saving model to: models\\cnn_pca.pth\n"
     ]
    }
   ],
   "source": [
    "save_model(model_1, \"cnn_pca.pth\")"
   ]
  },
  {
   "cell_type": "code",
   "execution_count": null,
   "metadata": {},
   "outputs": [],
   "source": []
  }
 ],
 "metadata": {
  "kernelspec": {
   "display_name": "base",
   "language": "python",
   "name": "python3"
  },
  "language_info": {
   "codemirror_mode": {
    "name": "ipython",
    "version": 3
   },
   "file_extension": ".py",
   "mimetype": "text/x-python",
   "name": "python",
   "nbconvert_exporter": "python",
   "pygments_lexer": "ipython3",
   "version": "3.11.5"
  }
 },
 "nbformat": 4,
 "nbformat_minor": 2
}
