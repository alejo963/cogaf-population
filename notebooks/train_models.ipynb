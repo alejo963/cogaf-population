{
 "cells": [
  {
   "cell_type": "markdown",
   "metadata": {},
   "source": [
    "# Model training"
   ]
  },
  {
   "cell_type": "code",
   "execution_count": 55,
   "metadata": {},
   "outputs": [],
   "source": [
    "import torch\n",
    "from torch import nn\n",
    "import pandas as pd"
   ]
  },
  {
   "cell_type": "code",
   "execution_count": 56,
   "metadata": {},
   "outputs": [
    {
     "data": {
      "text/plain": [
       "'cuda'"
      ]
     },
     "execution_count": 56,
     "metadata": {},
     "output_type": "execute_result"
    }
   ],
   "source": [
    "# Setup device agnostic code\n",
    "device = \"cuda\" if torch.cuda.is_available() else \"cpu\"\n",
    "device"
   ]
  },
  {
   "cell_type": "code",
   "execution_count": 57,
   "metadata": {},
   "outputs": [
    {
     "data": {
      "text/plain": [
       "((145, 2593), (145, 61))"
      ]
     },
     "execution_count": 57,
     "metadata": {},
     "output_type": "execute_result"
    }
   ],
   "source": [
    "# Load data\n",
    "\n",
    "X_train = pd.read_csv(\"./../data/features/in_features_train.csv\")\n",
    "X_train_pca = pd.read_csv(\"./../data/features/pca_in_features_train.csv\")\n",
    "\n",
    "X_train.shape, X_train_pca.shape"
   ]
  },
  {
   "cell_type": "code",
   "execution_count": 58,
   "metadata": {},
   "outputs": [
    {
     "data": {
      "text/plain": [
       "((145,), (145,))"
      ]
     },
     "execution_count": 58,
     "metadata": {},
     "output_type": "execute_result"
    }
   ],
   "source": [
    "y_train = pd.read_csv(\"./../data/features/out_features_train.csv\").label\n",
    "y_train_pca = pd.read_csv(\"./../data/features/pca_out_features_train.csv\").label\n",
    "\n",
    "y_train.shape, y_train_pca.shape"
   ]
  },
  {
   "cell_type": "code",
   "execution_count": 59,
   "metadata": {},
   "outputs": [
    {
     "data": {
      "text/plain": [
       "((16, 2593), (16, 61))"
      ]
     },
     "execution_count": 59,
     "metadata": {},
     "output_type": "execute_result"
    }
   ],
   "source": [
    "X_test = pd.read_csv(\"./../data/features/in_features_test.csv\")\n",
    "X_test_pca = pd.read_csv(\"./../data/features/pca_in_features_test.csv\")\n",
    "\n",
    "X_test.shape, X_test_pca.shape"
   ]
  },
  {
   "cell_type": "code",
   "execution_count": 60,
   "metadata": {},
   "outputs": [
    {
     "data": {
      "text/plain": [
       "(16,)"
      ]
     },
     "execution_count": 60,
     "metadata": {},
     "output_type": "execute_result"
    }
   ],
   "source": [
    "y_test = pd.read_csv(\"./../data/features/out_features_test.csv\").label\n",
    "\n",
    "y_test.shape"
   ]
  },
  {
   "cell_type": "markdown",
   "metadata": {},
   "source": [
    "## Support Vector Machine (SVM)"
   ]
  },
  {
   "cell_type": "markdown",
   "metadata": {},
   "source": [
    "### Non PCA features"
   ]
  },
  {
   "cell_type": "code",
   "execution_count": 61,
   "metadata": {},
   "outputs": [],
   "source": [
    "from sklearn.svm import SVC\n",
    "from sklearn.model_selection import GridSearchCV, KFold\n",
    "\n",
    "svm = SVC(kernel='rbf', C=10, gamma=0.01)\n",
    "# p_grid = {\"C\": [1, 10, 20, 50, 100], \"gamma\": [0.01, 0.1, 0.2, 0.4, 0.6, 0.8]}\n",
    "# cv = KFold(n_splits=5, shuffle=True)\n",
    "\n",
    "# clf = GridSearchCV(estimator=svm, param_grid=p_grid, cv=cv, scoring=\"f1_macro\")\n",
    "# clf.fit(X_train, y_train)\n",
    "\n",
    "clf = svm.fit(X_train, y_train)"
   ]
  },
  {
   "cell_type": "code",
   "execution_count": 62,
   "metadata": {},
   "outputs": [
    {
     "data": {
      "text/plain": [
       "array([0, 0, 0, 0, 2, 0, 0, 2, 1, 2, 0, 0, 1, 0, 0, 0], dtype=int64)"
      ]
     },
     "execution_count": 62,
     "metadata": {},
     "output_type": "execute_result"
    }
   ],
   "source": [
    "y_pred = clf.predict(X_test)\n",
    "y_pred"
   ]
  },
  {
   "cell_type": "code",
   "execution_count": 63,
   "metadata": {},
   "outputs": [
    {
     "data": {
      "text/plain": [
       "array([2, 2, 0, 0, 0, 2, 0, 1, 3, 1, 2, 0, 1, 0, 0, 0], dtype=int64)"
      ]
     },
     "execution_count": 63,
     "metadata": {},
     "output_type": "execute_result"
    }
   ],
   "source": [
    "y_test.to_numpy()"
   ]
  },
  {
   "cell_type": "code",
   "execution_count": 64,
   "metadata": {},
   "outputs": [
    {
     "name": "stdout",
     "output_type": "stream",
     "text": [
      "Accuracy:  0.8689655172413793  | F1-score:  0.8692980296196385  | Precision:  0.8928321678321678  | Recall:  0.8689655172413794\n"
     ]
    }
   ],
   "source": [
    "from modules.engine import get_metrics\n",
    "svm_train_metrics = get_metrics(y_train, clf.predict(X_train))"
   ]
  },
  {
   "cell_type": "code",
   "execution_count": 65,
   "metadata": {},
   "outputs": [
    {
     "name": "stdout",
     "output_type": "stream",
     "text": [
      "Accuracy:  0.5  | F1-score:  0.28421052631578947  | Precision:  0.28409090909090906  | Recall:  0.3020833333333333\n"
     ]
    }
   ],
   "source": [
    "# Evaluate\n",
    "svm_test_metrics = get_metrics(y_test, y_pred)"
   ]
  },
  {
   "cell_type": "code",
   "execution_count": 66,
   "metadata": {},
   "outputs": [
    {
     "data": {
      "text/plain": [
       "{'C': 10,\n",
       " 'break_ties': False,\n",
       " 'cache_size': 200,\n",
       " 'class_weight': None,\n",
       " 'coef0': 0.0,\n",
       " 'decision_function_shape': 'ovr',\n",
       " 'degree': 3,\n",
       " 'gamma': 0.01,\n",
       " 'kernel': 'rbf',\n",
       " 'max_iter': -1,\n",
       " 'probability': False,\n",
       " 'random_state': None,\n",
       " 'shrinking': True,\n",
       " 'tol': 0.001,\n",
       " 'verbose': False}"
      ]
     },
     "execution_count": 66,
     "metadata": {},
     "output_type": "execute_result"
    }
   ],
   "source": [
    "clf.get_params()"
   ]
  },
  {
   "cell_type": "code",
   "execution_count": 67,
   "metadata": {},
   "outputs": [
    {
     "data": {
      "text/plain": [
       "['models\\\\svm.pk']"
      ]
     },
     "execution_count": 67,
     "metadata": {},
     "output_type": "execute_result"
    }
   ],
   "source": [
    "import joblib\n",
    "from pathlib import Path\n",
    "\n",
    "\n",
    "# Create models directory (if it doesn't already exist), see: https://docs.python.org/3/library/pathlib.html#pathlib.Path.mkdir\n",
    "MODEL_PATH = Path(\"models\")\n",
    "MODEL_PATH.mkdir(parents=True, # create parent directories if needed\n",
    "                 exist_ok=True # if models directory already exists, don't error\n",
    ")\n",
    "\n",
    "# Create model save path\n",
    "MODEL_NAME = \"svm.pk\"\n",
    "MODEL_SAVE_PATH = MODEL_PATH / MODEL_NAME\n",
    "\n",
    "joblib.dump(clf, MODEL_SAVE_PATH)"
   ]
  },
  {
   "cell_type": "markdown",
   "metadata": {},
   "source": [
    "### PCA features\n"
   ]
  },
  {
   "cell_type": "code",
   "execution_count": 68,
   "metadata": {},
   "outputs": [],
   "source": [
    "svm = SVC(kernel='rbf', C=20, gamma=0.01)\n",
    "# p_grid = {\"C\": [1, 10, 100], \"gamma\": [0.01, 0.1]}\n",
    "# cv = KFold(n_splits=5, shuffle=True)\n",
    "\n",
    "# clf_pca = GridSearchCV(estimator=svm, param_grid=p_grid, cv=cv, scoring=\"f1_macro\")\n",
    "# clf_pca.fit(X_train_pca, y_train)\n",
    "\n",
    "clf_pca = svm.fit(X_train_pca, y_train_pca)"
   ]
  },
  {
   "cell_type": "code",
   "execution_count": 69,
   "metadata": {},
   "outputs": [],
   "source": [
    "y_pred = clf_pca.predict(X_test_pca)"
   ]
  },
  {
   "cell_type": "code",
   "execution_count": 70,
   "metadata": {},
   "outputs": [
    {
     "data": {
      "text/plain": [
       "array([2, 2, 0, 0, 0, 2, 0, 1, 3, 1, 2, 0, 1, 0, 0, 0], dtype=int64)"
      ]
     },
     "execution_count": 70,
     "metadata": {},
     "output_type": "execute_result"
    }
   ],
   "source": [
    "y_test.to_numpy()"
   ]
  },
  {
   "cell_type": "code",
   "execution_count": 71,
   "metadata": {},
   "outputs": [
    {
     "name": "stdout",
     "output_type": "stream",
     "text": [
      "Accuracy:  0.9793103448275862  | F1-score:  0.9791873019779139  | Precision:  0.9792939244663383  | Recall:  0.9793103448275862\n"
     ]
    }
   ],
   "source": [
    "svm_pca_train_metrics = get_metrics(y_train, clf_pca.predict(X_train_pca))"
   ]
  },
  {
   "cell_type": "code",
   "execution_count": 72,
   "metadata": {},
   "outputs": [
    {
     "name": "stdout",
     "output_type": "stream",
     "text": [
      "Accuracy:  0.5  | F1-score:  0.27777777777777773  | Precision:  0.2583333333333333  | Recall:  0.3020833333333333\n"
     ]
    }
   ],
   "source": [
    "# Evaluate\n",
    "svm_pca_test_metrics = get_metrics(y_test, y_pred)"
   ]
  },
  {
   "cell_type": "markdown",
   "metadata": {},
   "source": [
    "## Linear model"
   ]
  },
  {
   "cell_type": "markdown",
   "metadata": {},
   "source": [
    "## Non-PCA"
   ]
  },
  {
   "cell_type": "code",
   "execution_count": 73,
   "metadata": {},
   "outputs": [
    {
     "data": {
      "text/plain": [
       "(2593, 5)"
      ]
     },
     "execution_count": 73,
     "metadata": {},
     "output_type": "execute_result"
    }
   ],
   "source": [
    "X_train = torch.from_numpy(X_train.to_numpy()).type(torch.float)\n",
    "X_test = torch.from_numpy(X_test.to_numpy()).type(torch.float)\n",
    "\n",
    "classes = y_train.unique()\n",
    "\n",
    "y_train = torch.from_numpy(y_train.to_numpy()).type(torch.LongTensor)\n",
    "y_test = torch.from_numpy(y_test.to_numpy()).type(torch.LongTensor)\n",
    "\n",
    "in_features, out_features = X_train.shape[1], len(classes)\n",
    "in_features, out_features"
   ]
  },
  {
   "cell_type": "code",
   "execution_count": 74,
   "metadata": {},
   "outputs": [],
   "source": [
    "from modules.model_builder import BaseModel\n",
    "\n",
    "model_0 = BaseModel(in_features, 50, out_features).to(device)"
   ]
  },
  {
   "cell_type": "code",
   "execution_count": 75,
   "metadata": {},
   "outputs": [
    {
     "name": "stdout",
     "output_type": "stream",
     "text": [
      "Epoch: 0\n",
      "Accuracy:  0.5  | F1-score:  0.16666666666666666  | Precision:  0.25  | Recall:  0.125\n",
      "Train Loss: 1.6131213903427124 | Test loss: 1.5592514276504517\n",
      "---------------------------------------------------------\n",
      "Epoch: 100\n",
      "Accuracy:  0.3125  | F1-score:  0.18823529411764706  | Precision:  0.3125  | Recall:  0.30357142857142855\n",
      "Train Loss: 1.575860857963562 | Test loss: 1.5969140529632568\n",
      "---------------------------------------------------------\n",
      "Epoch: 200\n",
      "Accuracy:  0.1875  | F1-score:  0.07894736842105263  | Precision:  0.25  | Recall:  0.046875\n",
      "Train Loss: 1.2160621881484985 | Test loss: 1.488419532775879\n",
      "---------------------------------------------------------\n",
      "Epoch: 300\n",
      "Accuracy:  0.375  | F1-score:  0.225  | Precision:  0.34375  | Recall:  0.25\n",
      "Train Loss: 1.0679926872253418 | Test loss: 1.3843406438827515\n",
      "---------------------------------------------------------\n",
      "Epoch: 400\n",
      "Accuracy:  0.5625  | F1-score:  0.3492063492063492  | Precision:  0.3645833333333333  | Recall:  0.3416666666666666\n",
      "Train Loss: 0.8259223699569702 | Test loss: 1.264311671257019\n",
      "---------------------------------------------------------\n"
     ]
    }
   ],
   "source": [
    "from modules.engine import train, save_model\n",
    "\n",
    "loss_fn = nn.CrossEntropyLoss()\n",
    "optimizer_class = torch.optim.SGD\n",
    "\n",
    "train(model_0, X_train, X_test, y_train, y_test,\n",
    "      loss_fn, optimizer_class, epochs=500, lr=0.1, device=device, verbose=True)"
   ]
  },
  {
   "cell_type": "code",
   "execution_count": 76,
   "metadata": {},
   "outputs": [],
   "source": [
    "model_0.eval()\n",
    "with torch.inference_mode():\n",
    "    y_train_logits = model_0(X_train.to(device))\n",
    "    y_train_pred = y_train_logits.argmax(dim=1).to(\"cpu\")\n",
    "    y_test_logits = model_0(X_test.to(device))\n",
    "    y_test_pred = y_test_logits.argmax(dim=1).to(\"cpu\")"
   ]
  },
  {
   "cell_type": "code",
   "execution_count": 77,
   "metadata": {},
   "outputs": [
    {
     "name": "stdout",
     "output_type": "stream",
     "text": [
      "Accuracy:  0.9793103448275862  | F1-score:  0.9790344119157679  | Precision:  0.9804301075268818  | Recall:  0.9793103448275862\n"
     ]
    }
   ],
   "source": [
    "\n",
    "mlp_train_metrics = get_metrics(y_train, y_train_pred)"
   ]
  },
  {
   "cell_type": "code",
   "execution_count": 78,
   "metadata": {},
   "outputs": [
    {
     "name": "stdout",
     "output_type": "stream",
     "text": [
      "Accuracy:  0.625  | F1-score:  0.4194444444444444  | Precision:  0.425  | Recall:  0.4270833333333333\n"
     ]
    }
   ],
   "source": [
    "\n",
    "mlp_test_metrics = get_metrics(y_test, y_test_pred)"
   ]
  },
  {
   "cell_type": "code",
   "execution_count": 79,
   "metadata": {},
   "outputs": [
    {
     "name": "stdout",
     "output_type": "stream",
     "text": [
      "Saving model to: models\\mlp.pth\n"
     ]
    }
   ],
   "source": [
    "save_model(model_0, \"mlp.pth\")"
   ]
  },
  {
   "cell_type": "markdown",
   "metadata": {},
   "source": [
    "## PCA Model"
   ]
  },
  {
   "cell_type": "code",
   "execution_count": 80,
   "metadata": {},
   "outputs": [],
   "source": [
    "X_train_pca = torch.from_numpy(X_train_pca.to_numpy()).type(torch.float)\n",
    "X_test_pca = torch.from_numpy(X_test_pca.to_numpy()).type(torch.float)\n",
    "\n",
    "y_train_pca = torch.from_numpy(y_train_pca.to_numpy()).type(torch.LongTensor)\n",
    "\n"
   ]
  },
  {
   "cell_type": "code",
   "execution_count": 81,
   "metadata": {},
   "outputs": [
    {
     "data": {
      "text/plain": [
       "(61, 5)"
      ]
     },
     "execution_count": 81,
     "metadata": {},
     "output_type": "execute_result"
    }
   ],
   "source": [
    "in_features_pca = X_train_pca.shape[1]\n",
    "in_features_pca, out_features"
   ]
  },
  {
   "cell_type": "code",
   "execution_count": 82,
   "metadata": {},
   "outputs": [
    {
     "name": "stdout",
     "output_type": "stream",
     "text": [
      "Epoch: 0\n",
      "Accuracy:  0.0625  | F1-score:  0.029411764705882353  | Precision:  0.25  | Recall:  0.015625\n",
      "Train Loss: 1.6127872467041016 | Test loss: 1.612648367881775\n",
      "---------------------------------------------------------\n",
      "Epoch: 100\n",
      "Accuracy:  0.5  | F1-score:  0.3291666666666666  | Precision:  0.3333333333333333  | Recall:  0.3375\n",
      "Train Loss: 1.573319911956787 | Test loss: 1.5976684093475342\n",
      "---------------------------------------------------------\n",
      "Epoch: 200\n",
      "Accuracy:  0.3125  | F1-score:  0.2409090909090909  | Precision:  0.29166666666666663  | Recall:  0.27976190476190477\n",
      "Train Loss: 1.2192190885543823 | Test loss: 1.462967872619629\n",
      "---------------------------------------------------------\n",
      "Epoch: 300\n",
      "Accuracy:  0.3125  | F1-score:  0.23636363636363633  | Precision:  0.23958333333333331  | Recall:  0.3273809523809524\n",
      "Train Loss: 0.9993768334388733 | Test loss: 1.370811939239502\n",
      "---------------------------------------------------------\n",
      "Epoch: 400\n",
      "Accuracy:  0.4375  | F1-score:  0.30624999999999997  | Precision:  0.3020833333333333  | Recall:  0.3229166666666667\n",
      "Train Loss: 0.6036951541900635 | Test loss: 1.3068251609802246\n",
      "---------------------------------------------------------\n"
     ]
    }
   ],
   "source": [
    "model_0_pca = BaseModel(in_features_pca, 50, out_features).to(device)\n",
    "\n",
    "loss_fn = nn.CrossEntropyLoss()\n",
    "optimizer_class = torch.optim.SGD\n",
    "\n",
    "train(model_0_pca, X_train_pca, X_test_pca, y_train, y_test,\n",
    "      loss_fn, optimizer_class, 500, 0.1, device, verbose=True)"
   ]
  },
  {
   "cell_type": "code",
   "execution_count": 83,
   "metadata": {},
   "outputs": [],
   "source": [
    "model_0_pca.eval()\n",
    "with torch.inference_mode():\n",
    "    y_train_logits = model_0_pca(X_train_pca.to(device))\n",
    "    y_train_pred = y_train_logits.argmax(dim=1).to(\"cpu\")\n",
    "    y_test_logits = model_0_pca(X_test_pca.to(device))\n",
    "    y_test_pred = y_test_logits.argmax(dim=1).to(\"cpu\")"
   ]
  },
  {
   "cell_type": "code",
   "execution_count": 84,
   "metadata": {},
   "outputs": [
    {
     "name": "stdout",
     "output_type": "stream",
     "text": [
      "Accuracy:  0.9586206896551724  | F1-score:  0.9582324455205811  | Precision:  0.9585185185185185  | Recall:  0.9586206896551724\n"
     ]
    }
   ],
   "source": [
    "mlp_pca_train_metrics = get_metrics(y_train, y_train_pred)"
   ]
  },
  {
   "cell_type": "code",
   "execution_count": 85,
   "metadata": {},
   "outputs": [
    {
     "name": "stdout",
     "output_type": "stream",
     "text": [
      "Accuracy:  0.4375  | F1-score:  0.30624999999999997  | Precision:  0.3229166666666667  | Recall:  0.3020833333333333\n"
     ]
    }
   ],
   "source": [
    "mlp_pca_test_metrics = get_metrics(y_test, y_test_pred)"
   ]
  },
  {
   "cell_type": "code",
   "execution_count": 86,
   "metadata": {},
   "outputs": [
    {
     "name": "stdout",
     "output_type": "stream",
     "text": [
      "Saving model to: models\\mlp_pca.pth\n"
     ]
    }
   ],
   "source": [
    "save_model(model_0_pca, \"mlp_pca.pth\")"
   ]
  },
  {
   "cell_type": "markdown",
   "metadata": {},
   "source": [
    "## Convolution Model"
   ]
  },
  {
   "cell_type": "markdown",
   "metadata": {},
   "source": [
    "### Non-PCA"
   ]
  },
  {
   "cell_type": "code",
   "execution_count": 87,
   "metadata": {},
   "outputs": [],
   "source": [
    "X_train = X_train.unsqueeze(1)\n",
    "X_test = X_test.unsqueeze(1)"
   ]
  },
  {
   "cell_type": "code",
   "execution_count": 88,
   "metadata": {},
   "outputs": [
    {
     "data": {
      "text/plain": [
       "(1, 2593)"
      ]
     },
     "execution_count": 88,
     "metadata": {},
     "output_type": "execute_result"
    }
   ],
   "source": [
    "in_channels, in_length = X_train.shape[1:]\n",
    "in_channels, in_length"
   ]
  },
  {
   "cell_type": "code",
   "execution_count": 89,
   "metadata": {},
   "outputs": [],
   "source": [
    "from modules.model_builder import ConvModel\n",
    "\n",
    "model_1 = ConvModel(in_channels, in_length, 50, out_features).to(device)"
   ]
  },
  {
   "cell_type": "code",
   "execution_count": 90,
   "metadata": {},
   "outputs": [
    {
     "name": "stdout",
     "output_type": "stream",
     "text": [
      "Epoch: 0\n",
      "Accuracy:  0.0625  | F1-score:  0.03125  | Precision:  0.25  | Recall:  0.016666666666666666\n",
      "Train Loss: 1.6094534397125244 | Test loss: 1.609411358833313\n",
      "---------------------------------------------------------\n",
      "Epoch: 100\n",
      "Accuracy:  0.4375  | F1-score:  0.34469696969696967  | Precision:  0.3645833333333333  | Recall:  0.4270833333333333\n",
      "Train Loss: 1.6076202392578125 | Test loss: 1.6089274883270264\n",
      "---------------------------------------------------------\n",
      "Epoch: 200\n",
      "Accuracy:  0.375  | F1-score:  0.21764705882352942  | Precision:  0.3125  | Recall:  0.3269230769230769\n",
      "Train Loss: 1.5918798446655273 | Test loss: 1.5965713262557983\n",
      "---------------------------------------------------------\n",
      "Epoch: 300\n",
      "Accuracy:  0.1875  | F1-score:  0.0923076923076923  | Precision:  0.075  | Recall:  0.12\n",
      "Train Loss: 1.6082953214645386 | Test loss: 1.6093240976333618\n",
      "---------------------------------------------------------\n",
      "Epoch: 400\n",
      "Accuracy:  0.0  | F1-score:  0.0  | Precision:  0.0  | Recall:  0.0\n",
      "Train Loss: 1.6669358015060425 | Test loss: 1.6379015445709229\n",
      "---------------------------------------------------------\n"
     ]
    }
   ],
   "source": [
    "train(model_1, X_train, X_test, y_train, y_test,\n",
    "      loss_fn, optimizer_class, 500, 0.1, device, verbose=True)"
   ]
  },
  {
   "cell_type": "code",
   "execution_count": 91,
   "metadata": {},
   "outputs": [],
   "source": [
    "model_1.eval()\n",
    "with torch.inference_mode():\n",
    "    y_train_logits = model_1(X_train.to(device))\n",
    "    y_train_pred = y_train_logits.argmax(dim=1).to(\"cpu\")\n",
    "    y_test_logits = model_1(X_test.to(device))\n",
    "    y_test_pred = y_test_logits.argmax(dim=1).to(\"cpu\")"
   ]
  },
  {
   "cell_type": "code",
   "execution_count": 92,
   "metadata": {},
   "outputs": [
    {
     "name": "stdout",
     "output_type": "stream",
     "text": [
      "Accuracy:  0.4  | F1-score:  0.27999999999999997  | Precision:  0.25  | Recall:  0.4\n"
     ]
    }
   ],
   "source": [
    "cnn_train_metrics = get_metrics(y_train, y_train_pred)"
   ]
  },
  {
   "cell_type": "code",
   "execution_count": 93,
   "metadata": {},
   "outputs": [
    {
     "name": "stdout",
     "output_type": "stream",
     "text": [
      "Accuracy:  0.25  | F1-score:  0.1  | Precision:  0.0625  | Recall:  0.25\n"
     ]
    }
   ],
   "source": [
    "cnn_test_metrics = get_metrics(y_test, y_test_pred)"
   ]
  },
  {
   "cell_type": "code",
   "execution_count": 94,
   "metadata": {},
   "outputs": [
    {
     "name": "stdout",
     "output_type": "stream",
     "text": [
      "Saving model to: models\\cnn.pth\n"
     ]
    }
   ],
   "source": [
    "save_model(model_1, \"cnn.pth\")"
   ]
  },
  {
   "cell_type": "markdown",
   "metadata": {},
   "source": [
    "### PCA"
   ]
  },
  {
   "cell_type": "code",
   "execution_count": 95,
   "metadata": {},
   "outputs": [],
   "source": [
    "X_train_pca = X_train_pca.unsqueeze(1)\n",
    "X_test_pca = X_test_pca.unsqueeze(1)"
   ]
  },
  {
   "cell_type": "code",
   "execution_count": 96,
   "metadata": {},
   "outputs": [
    {
     "data": {
      "text/plain": [
       "(1, 61)"
      ]
     },
     "execution_count": 96,
     "metadata": {},
     "output_type": "execute_result"
    }
   ],
   "source": [
    "in_channels, in_length = X_train_pca.shape[1:]\n",
    "in_channels, in_length"
   ]
  },
  {
   "cell_type": "code",
   "execution_count": 97,
   "metadata": {},
   "outputs": [],
   "source": [
    "model_1_pca = ConvModel(in_channels, in_length, 70, out_features).to(device)"
   ]
  },
  {
   "cell_type": "code",
   "execution_count": 98,
   "metadata": {},
   "outputs": [
    {
     "name": "stdout",
     "output_type": "stream",
     "text": [
      "Epoch: 0\n",
      "Accuracy:  0.5  | F1-score:  0.16666666666666666  | Precision:  0.25  | Recall:  0.125\n",
      "Train Loss: 1.610012173652649 | Test loss: 1.596627116203308\n",
      "---------------------------------------------------------\n"
     ]
    },
    {
     "name": "stdout",
     "output_type": "stream",
     "text": [
      "Epoch: 100\n",
      "Accuracy:  0.25  | F1-score:  0.08421052631578949  | Precision:  0.1  | Recall:  0.07272727272727272\n",
      "Train Loss: 1.6032638549804688 | Test loss: 1.6082948446273804\n",
      "---------------------------------------------------------\n",
      "Epoch: 200\n",
      "Accuracy:  0.125  | F1-score:  0.11333333333333333  | Precision:  0.11666666666666665  | Recall:  0.125\n",
      "Train Loss: 1.5286507606506348 | Test loss: 1.5991601943969727\n",
      "---------------------------------------------------------\n",
      "Epoch: 300\n",
      "Accuracy:  0.5625  | F1-score:  0.27380952380952384  | Precision:  0.3333333333333333  | Recall:  0.23717948717948717\n",
      "Train Loss: 0.39275848865509033 | Test loss: 1.2600247859954834\n",
      "---------------------------------------------------------\n",
      "Epoch: 400\n",
      "Accuracy:  0.4375  | F1-score:  0.3119047619047619  | Precision:  0.3020833333333333  | Recall:  0.33333333333333337\n",
      "Train Loss: 0.05371187627315521 | Test loss: 1.9329261779785156\n",
      "---------------------------------------------------------\n"
     ]
    }
   ],
   "source": [
    "train(model_1_pca, X_train_pca, X_test_pca, y_train_pca, y_test,\n",
    "      loss_fn, optimizer_class, 500, 0.1, device, verbose=True)"
   ]
  },
  {
   "cell_type": "code",
   "execution_count": 99,
   "metadata": {},
   "outputs": [],
   "source": [
    "model_1_pca.eval()\n",
    "with torch.inference_mode():\n",
    "    y_train_logits = model_1_pca(X_train_pca.to(device))\n",
    "    y_train_pred = y_train_logits.argmax(dim=1).to(\"cpu\")\n",
    "    y_test_logits = model_1_pca(X_test_pca.to(device))\n",
    "    y_test_pred = y_test_logits.argmax(dim=1).to(\"cpu\")"
   ]
  },
  {
   "cell_type": "code",
   "execution_count": 100,
   "metadata": {},
   "outputs": [
    {
     "name": "stdout",
     "output_type": "stream",
     "text": [
      "Accuracy:  1.0  | F1-score:  1.0  | Precision:  1.0  | Recall:  1.0\n"
     ]
    }
   ],
   "source": [
    "cnn_pca_train_metrics = get_metrics(y_train_pca, y_train_pred)"
   ]
  },
  {
   "cell_type": "code",
   "execution_count": 101,
   "metadata": {},
   "outputs": [
    {
     "name": "stdout",
     "output_type": "stream",
     "text": [
      "Accuracy:  0.5  | F1-score:  0.3333333333333333  | Precision:  0.3333333333333333  | Recall:  0.3333333333333333\n"
     ]
    }
   ],
   "source": [
    "cnn_pca_test_metrics = get_metrics(y_test, y_test_pred)"
   ]
  },
  {
   "cell_type": "code",
   "execution_count": 102,
   "metadata": {},
   "outputs": [
    {
     "name": "stdout",
     "output_type": "stream",
     "text": [
      "Saving model to: models\\cnn_pca.pth\n"
     ]
    }
   ],
   "source": [
    "save_model(model_1, \"cnn_pca.pth\")"
   ]
  },
  {
   "cell_type": "markdown",
   "metadata": {},
   "source": [
    "## Summary"
   ]
  },
  {
   "cell_type": "code",
   "execution_count": 103,
   "metadata": {},
   "outputs": [],
   "source": [
    "models_test_perf = [(\"SVM\", *svm_train_metrics, *svm_test_metrics), \n",
    "                    (\"SVM+PCA\", *svm_pca_train_metrics, *svm_pca_test_metrics), \n",
    "                    (\"MLP\", *mlp_train_metrics, *mlp_test_metrics), \n",
    "                    (\"MLP+PCA\", *mlp_pca_train_metrics, *mlp_pca_test_metrics), \n",
    "                    (\"CNN\", *cnn_train_metrics, *cnn_test_metrics), \n",
    "                    (\"CNN+PCA\" ,*cnn_pca_train_metrics, *cnn_pca_test_metrics)]"
   ]
  },
  {
   "cell_type": "code",
   "execution_count": 104,
   "metadata": {},
   "outputs": [
    {
     "data": {
      "text/html": [
       "<div>\n",
       "<style scoped>\n",
       "    .dataframe tbody tr th:only-of-type {\n",
       "        vertical-align: middle;\n",
       "    }\n",
       "\n",
       "    .dataframe tbody tr th {\n",
       "        vertical-align: top;\n",
       "    }\n",
       "\n",
       "    .dataframe thead th {\n",
       "        text-align: right;\n",
       "    }\n",
       "</style>\n",
       "<table border=\"1\" class=\"dataframe\">\n",
       "  <thead>\n",
       "    <tr style=\"text-align: right;\">\n",
       "      <th></th>\n",
       "      <th>model</th>\n",
       "      <th>train_accuracy</th>\n",
       "      <th>train_f1_score</th>\n",
       "      <th>train_precision</th>\n",
       "      <th>train_recall</th>\n",
       "      <th>test_accuracy</th>\n",
       "      <th>test_f1_score</th>\n",
       "      <th>test_precision</th>\n",
       "      <th>test_recall</th>\n",
       "    </tr>\n",
       "  </thead>\n",
       "  <tbody>\n",
       "    <tr>\n",
       "      <th>0</th>\n",
       "      <td>SVM</td>\n",
       "      <td>0.868966</td>\n",
       "      <td>0.869298</td>\n",
       "      <td>0.892832</td>\n",
       "      <td>0.868966</td>\n",
       "      <td>0.5000</td>\n",
       "      <td>0.284211</td>\n",
       "      <td>0.284091</td>\n",
       "      <td>0.302083</td>\n",
       "    </tr>\n",
       "    <tr>\n",
       "      <th>1</th>\n",
       "      <td>SVM+PCA</td>\n",
       "      <td>0.979310</td>\n",
       "      <td>0.979187</td>\n",
       "      <td>0.979294</td>\n",
       "      <td>0.979310</td>\n",
       "      <td>0.5000</td>\n",
       "      <td>0.277778</td>\n",
       "      <td>0.258333</td>\n",
       "      <td>0.302083</td>\n",
       "    </tr>\n",
       "    <tr>\n",
       "      <th>2</th>\n",
       "      <td>MLP</td>\n",
       "      <td>0.979310</td>\n",
       "      <td>0.979034</td>\n",
       "      <td>0.980430</td>\n",
       "      <td>0.979310</td>\n",
       "      <td>0.6250</td>\n",
       "      <td>0.419444</td>\n",
       "      <td>0.425000</td>\n",
       "      <td>0.427083</td>\n",
       "    </tr>\n",
       "    <tr>\n",
       "      <th>3</th>\n",
       "      <td>MLP+PCA</td>\n",
       "      <td>0.958621</td>\n",
       "      <td>0.958232</td>\n",
       "      <td>0.958519</td>\n",
       "      <td>0.958621</td>\n",
       "      <td>0.4375</td>\n",
       "      <td>0.306250</td>\n",
       "      <td>0.322917</td>\n",
       "      <td>0.302083</td>\n",
       "    </tr>\n",
       "    <tr>\n",
       "      <th>4</th>\n",
       "      <td>CNN</td>\n",
       "      <td>0.400000</td>\n",
       "      <td>0.280000</td>\n",
       "      <td>0.250000</td>\n",
       "      <td>0.400000</td>\n",
       "      <td>0.2500</td>\n",
       "      <td>0.100000</td>\n",
       "      <td>0.062500</td>\n",
       "      <td>0.250000</td>\n",
       "    </tr>\n",
       "    <tr>\n",
       "      <th>5</th>\n",
       "      <td>CNN+PCA</td>\n",
       "      <td>1.000000</td>\n",
       "      <td>1.000000</td>\n",
       "      <td>1.000000</td>\n",
       "      <td>1.000000</td>\n",
       "      <td>0.5000</td>\n",
       "      <td>0.333333</td>\n",
       "      <td>0.333333</td>\n",
       "      <td>0.333333</td>\n",
       "    </tr>\n",
       "  </tbody>\n",
       "</table>\n",
       "</div>"
      ],
      "text/plain": [
       "     model  train_accuracy  train_f1_score  train_precision  train_recall  \\\n",
       "0      SVM        0.868966        0.869298         0.892832      0.868966   \n",
       "1  SVM+PCA        0.979310        0.979187         0.979294      0.979310   \n",
       "2      MLP        0.979310        0.979034         0.980430      0.979310   \n",
       "3  MLP+PCA        0.958621        0.958232         0.958519      0.958621   \n",
       "4      CNN        0.400000        0.280000         0.250000      0.400000   \n",
       "5  CNN+PCA        1.000000        1.000000         1.000000      1.000000   \n",
       "\n",
       "   test_accuracy  test_f1_score  test_precision  test_recall  \n",
       "0         0.5000       0.284211        0.284091     0.302083  \n",
       "1         0.5000       0.277778        0.258333     0.302083  \n",
       "2         0.6250       0.419444        0.425000     0.427083  \n",
       "3         0.4375       0.306250        0.322917     0.302083  \n",
       "4         0.2500       0.100000        0.062500     0.250000  \n",
       "5         0.5000       0.333333        0.333333     0.333333  "
      ]
     },
     "execution_count": 104,
     "metadata": {},
     "output_type": "execute_result"
    }
   ],
   "source": [
    "eval_df = pd.DataFrame(models_test_perf,\n",
    "                                columns=('model',\n",
    "                                         'train_accuracy',\n",
    "                                         'train_f1_score',\n",
    "                                         'train_precision',\n",
    "                                         'train_recall',\n",
    "                                         'test_accuracy',\n",
    "                                         'test_f1_score',\n",
    "                                         'test_precision',\n",
    "                                         'test_recall'))\n",
    "eval_df"
   ]
  },
  {
   "cell_type": "code",
   "execution_count": 105,
   "metadata": {},
   "outputs": [
    {
     "data": {
      "text/plain": [
       "[0.9793103448275862,\n",
       " 0.9791873019779139,\n",
       " 0.9792939244663383,\n",
       " 0.9793103448275862]"
      ]
     },
     "execution_count": 105,
     "metadata": {},
     "output_type": "execute_result"
    }
   ],
   "source": [
    "list(eval_df.loc[1].to_numpy()[1:5])"
   ]
  },
  {
   "cell_type": "code",
   "execution_count": 106,
   "metadata": {},
   "outputs": [
    {
     "data": {
      "text/plain": [
       "{'SVM': [0.8689655172413793,\n",
       "  0.8692980296196385,\n",
       "  0.8928321678321678,\n",
       "  0.8689655172413794],\n",
       " 'SVM+PCA': [0.9793103448275862,\n",
       "  0.9791873019779139,\n",
       "  0.9792939244663383,\n",
       "  0.9793103448275862],\n",
       " 'MLP': [0.9793103448275862,\n",
       "  0.9790344119157679,\n",
       "  0.9804301075268818,\n",
       "  0.9793103448275862],\n",
       " 'MLP+PCA': [0.9586206896551724,\n",
       "  0.9582324455205811,\n",
       "  0.9585185185185185,\n",
       "  0.9586206896551724],\n",
       " 'CNN': [0.4, 0.27999999999999997, 0.25, 0.4],\n",
       " 'CNN+PCA': [1.0, 1.0, 1.0, 1.0]}"
      ]
     },
     "execution_count": 106,
     "metadata": {},
     "output_type": "execute_result"
    }
   ],
   "source": [
    "{\n",
    "    eval_df.loc[0].to_numpy()[0]: list(eval_df.loc[0].to_numpy()[1:5]),\n",
    "    eval_df.loc[1].to_numpy()[0]: list(eval_df.loc[1].to_numpy()[1:5]),\n",
    "    eval_df.loc[2].to_numpy()[0]: list(eval_df.loc[2].to_numpy()[1:5]),\n",
    "    eval_df.loc[3].to_numpy()[0]: list(eval_df.loc[3].to_numpy()[1:5]),\n",
    "    eval_df.loc[4].to_numpy()[0]: list(eval_df.loc[4].to_numpy()[1:5]),\n",
    "    eval_df.loc[5].to_numpy()[0]: list(eval_df.loc[5].to_numpy()[1:5]),\n",
    "}\n"
   ]
  },
  {
   "cell_type": "code",
   "execution_count": 107,
   "metadata": {},
   "outputs": [
    {
     "data": {
      "image/png": "[encoded data removed]",
      "text/plain": [
       "<Figure size 640x480 with 1 Axes>"
      ]
     },
     "metadata": {},
     "output_type": "display_data"
    }
   ],
   "source": [
    "import matplotlib.pyplot as plt\n",
    "import numpy as np\n",
    "\n",
    "species = (\"Adelie\", \"Chinstrap\", \"Gentoo\")\n",
    "scores = {\n",
    "    'Accuracy': eval_df.test_accuracy,\n",
    "    'F1 Score': eval_df.test_f1_score,\n",
    "    'Precision': eval_df.test_precision,\n",
    "    'Recall': eval_df.test_recall,\n",
    "}\n",
    "\n",
    "models = eval_df.model\n",
    "\n",
    "x = np.arange(len(models))  # the label locations\n",
    "width = 0.2  # the width of the bars\n",
    "multiplier = 0\n",
    "\n",
    "fig, ax = plt.subplots(layout='constrained')\n",
    "\n",
    "for attribute, measurement in scores.items():\n",
    "    offset = width * multiplier\n",
    "    rects = ax.bar(x + offset, measurement, width, label=attribute)\n",
    "    multiplier += 1\n",
    "\n",
    "# Add some text for labels, title and custom x-axis tick labels, etc.\n",
    "ax.set_ylabel('value')\n",
    "ax.set_title('Scores grouped by model')\n",
    "ax.set_xticks(x + width + 0.1, models)\n",
    "ax.legend(loc='upper left', ncols=6)\n",
    "ax.set_ylim(0, 0.7)\n",
    "\n",
    "plt.show()"
   ]
  },
  {
   "cell_type": "code",
   "execution_count": 108,
   "metadata": {},
   "outputs": [
    {
     "data": {
      "image/png": "[encoded data removed]",
      "text/plain": [
       "<Figure size 640x480 with 1 Axes>"
      ]
     },
     "metadata": {},
     "output_type": "display_data"
    }
   ],
   "source": [
    "import matplotlib.pyplot as plt\n",
    "import numpy as np\n",
    "\n",
    "metrics = (\"Accuracy\", \"F1 Score\", \"Precision\", \"Recall\")\n",
    "scores = {\n",
    "    eval_df.loc[0].to_numpy()[0]: list(eval_df.loc[0].to_numpy()[5:]),\n",
    "    eval_df.loc[1].to_numpy()[0]: list(eval_df.loc[1].to_numpy()[5:]),\n",
    "    eval_df.loc[2].to_numpy()[0]: list(eval_df.loc[2].to_numpy()[5:]),\n",
    "    eval_df.loc[3].to_numpy()[0]: list(eval_df.loc[3].to_numpy()[5:]),\n",
    "    eval_df.loc[4].to_numpy()[0]: list(eval_df.loc[4].to_numpy()[5:]),\n",
    "    eval_df.loc[5].to_numpy()[0]: list(eval_df.loc[5].to_numpy()[5:]),\n",
    "}\n",
    "\n",
    "models = eval_df.model\n",
    "\n",
    "x = np.arange(len(metrics))  # the label locations\n",
    "width = 0.1  # the width of the bars\n",
    "multiplier = 0\n",
    "\n",
    "fig, ax = plt.subplots(layout='constrained')\n",
    "\n",
    "for attribute, measurement in scores.items():\n",
    "    offset = width * multiplier\n",
    "    rects = ax.bar(x + offset, measurement, width, label=attribute)\n",
    "    # ax.bar_label(rects, padding=3)\n",
    "    multiplier += 1\n",
    "\n",
    "# Add some text for labels, title and custom x-axis tick labels, etc.\n",
    "ax.set_ylabel('value')\n",
    "ax.set_title('Scores grouped by metric')\n",
    "ax.set_xticks(x + 0.1 + width, metrics)\n",
    "ax.legend(loc='upper left', ncols=4)\n",
    "ax.set_ylim(0, 0.7)\n",
    "\n",
    "plt.show()"
   ]
  },
  {
   "cell_type": "code",
   "execution_count": null,
   "metadata": {},
   "outputs": [],
   "source": []
  }
 ],
 "metadata": {
  "kernelspec": {
   "display_name": "base",
   "language": "python",
   "name": "python3"
  },
  "language_info": {
   "codemirror_mode": {
    "name": "ipython",
    "version": 3
   },
   "file_extension": ".py",
   "mimetype": "text/x-python",
   "name": "python",
   "nbconvert_exporter": "python",
   "pygments_lexer": "ipython3",
   "version": "3.11.5"
  }
 },
 "nbformat": 4,
 "nbformat_minor": 2
}
