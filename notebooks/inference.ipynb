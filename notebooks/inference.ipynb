{
 "cells": [
  {
   "cell_type": "markdown",
   "metadata": {},
   "source": [
    "# Inference Pipeline"
   ]
  },
  {
   "cell_type": "code",
   "execution_count": 2,
   "metadata": {},
   "outputs": [
    {
     "name": "stderr",
     "output_type": "stream",
     "text": [
      "\n",
      "Warning: SQLite3 version 3.40.0 and 3.41.2 have huge performance regressions; please install version 3.41.1 or 3.42!\n",
      "\n"
     ]
    }
   ],
   "source": [
    "import pandas as pd\n",
    "from modules.ontology_classes import CogafInstance\n",
    "from modules.emotion import get_emotion\n",
    "from modules.engine import COGN_FUNC\n",
    "from modules.text_processing import load_text_files\n",
    "from owlready2 import *"
   ]
  },
  {
   "cell_type": "markdown",
   "metadata": {},
   "source": [
    "## Load and process texts"
   ]
  },
  {
   "cell_type": "code",
   "execution_count": 3,
   "metadata": {},
   "outputs": [],
   "source": [
    "text_list = list(load_text_files('./../data/text/raw/').values())"
   ]
  },
  {
   "cell_type": "code",
   "execution_count": 5,
   "metadata": {},
   "outputs": [],
   "source": [
    "# Load preprocess model\n",
    "import joblib\n",
    "MODELS_PATH = \"./models/\"\n",
    "processor = joblib.load(MODELS_PATH + \"preprocessor.pk\")\n"
   ]
  },
  {
   "cell_type": "code",
   "execution_count": 6,
   "metadata": {},
   "outputs": [],
   "source": [
    "# First step of processor if pipeline is text cleaning. Clean text is needed for emotion recognition\n",
    "clean_texts = processor[0].transform(text_list)\n",
    "\n",
    "# Subsequent steps transforms the clean text into numerical representation\n",
    "X = pd.DataFrame(processor[1:].transform(clean_texts))"
   ]
  },
  {
   "cell_type": "code",
   "execution_count": 7,
   "metadata": {},
   "outputs": [
    {
     "data": {
      "text/html": [
       "<div>\n",
       "<style scoped>\n",
       "    .dataframe tbody tr th:only-of-type {\n",
       "        vertical-align: middle;\n",
       "    }\n",
       "\n",
       "    .dataframe tbody tr th {\n",
       "        vertical-align: top;\n",
       "    }\n",
       "\n",
       "    .dataframe thead th {\n",
       "        text-align: right;\n",
       "    }\n",
       "</style>\n",
       "<table border=\"1\" class=\"dataframe\">\n",
       "  <thead>\n",
       "    <tr style=\"text-align: right;\">\n",
       "      <th></th>\n",
       "      <th>0</th>\n",
       "      <th>1</th>\n",
       "      <th>2</th>\n",
       "      <th>3</th>\n",
       "      <th>4</th>\n",
       "      <th>5</th>\n",
       "      <th>6</th>\n",
       "      <th>7</th>\n",
       "      <th>8</th>\n",
       "      <th>9</th>\n",
       "      <th>...</th>\n",
       "      <th>60</th>\n",
       "      <th>61</th>\n",
       "      <th>62</th>\n",
       "      <th>63</th>\n",
       "      <th>64</th>\n",
       "      <th>65</th>\n",
       "      <th>66</th>\n",
       "      <th>67</th>\n",
       "      <th>68</th>\n",
       "      <th>69</th>\n",
       "    </tr>\n",
       "  </thead>\n",
       "  <tbody>\n",
       "    <tr>\n",
       "      <th>0</th>\n",
       "      <td>0.018390</td>\n",
       "      <td>0.153832</td>\n",
       "      <td>-0.036187</td>\n",
       "      <td>-0.096114</td>\n",
       "      <td>0.000189</td>\n",
       "      <td>0.008908</td>\n",
       "      <td>0.025292</td>\n",
       "      <td>-0.015457</td>\n",
       "      <td>-0.002550</td>\n",
       "      <td>0.051419</td>\n",
       "      <td>...</td>\n",
       "      <td>0.004520</td>\n",
       "      <td>-0.021593</td>\n",
       "      <td>0.034531</td>\n",
       "      <td>0.036302</td>\n",
       "      <td>0.009767</td>\n",
       "      <td>-0.002026</td>\n",
       "      <td>-0.014995</td>\n",
       "      <td>-0.014123</td>\n",
       "      <td>-0.044726</td>\n",
       "      <td>-0.007895</td>\n",
       "    </tr>\n",
       "    <tr>\n",
       "      <th>1</th>\n",
       "      <td>-0.026766</td>\n",
       "      <td>0.421393</td>\n",
       "      <td>-0.068882</td>\n",
       "      <td>0.105197</td>\n",
       "      <td>0.042154</td>\n",
       "      <td>0.029687</td>\n",
       "      <td>0.110361</td>\n",
       "      <td>-0.105812</td>\n",
       "      <td>-0.130303</td>\n",
       "      <td>0.160647</td>\n",
       "      <td>...</td>\n",
       "      <td>0.005570</td>\n",
       "      <td>-0.002325</td>\n",
       "      <td>-0.000482</td>\n",
       "      <td>-0.014414</td>\n",
       "      <td>-0.022651</td>\n",
       "      <td>-0.008666</td>\n",
       "      <td>-0.001102</td>\n",
       "      <td>0.011631</td>\n",
       "      <td>-0.002150</td>\n",
       "      <td>0.002202</td>\n",
       "    </tr>\n",
       "    <tr>\n",
       "      <th>2</th>\n",
       "      <td>0.011969</td>\n",
       "      <td>0.184345</td>\n",
       "      <td>-0.021444</td>\n",
       "      <td>-0.121609</td>\n",
       "      <td>-0.055329</td>\n",
       "      <td>-0.001112</td>\n",
       "      <td>0.375440</td>\n",
       "      <td>-0.127316</td>\n",
       "      <td>-0.151340</td>\n",
       "      <td>-0.158765</td>\n",
       "      <td>...</td>\n",
       "      <td>0.004352</td>\n",
       "      <td>0.011736</td>\n",
       "      <td>0.001587</td>\n",
       "      <td>0.005040</td>\n",
       "      <td>0.001057</td>\n",
       "      <td>0.003236</td>\n",
       "      <td>0.006027</td>\n",
       "      <td>-0.008859</td>\n",
       "      <td>-0.001709</td>\n",
       "      <td>0.000355</td>\n",
       "    </tr>\n",
       "    <tr>\n",
       "      <th>3</th>\n",
       "      <td>-0.081711</td>\n",
       "      <td>0.261403</td>\n",
       "      <td>-0.040354</td>\n",
       "      <td>-0.218305</td>\n",
       "      <td>0.017647</td>\n",
       "      <td>-0.012647</td>\n",
       "      <td>0.264102</td>\n",
       "      <td>0.090078</td>\n",
       "      <td>-0.115739</td>\n",
       "      <td>-0.180781</td>\n",
       "      <td>...</td>\n",
       "      <td>-0.002372</td>\n",
       "      <td>-0.005515</td>\n",
       "      <td>0.006456</td>\n",
       "      <td>0.006268</td>\n",
       "      <td>-0.002655</td>\n",
       "      <td>-0.004133</td>\n",
       "      <td>-0.000517</td>\n",
       "      <td>0.003722</td>\n",
       "      <td>0.007989</td>\n",
       "      <td>0.005342</td>\n",
       "    </tr>\n",
       "    <tr>\n",
       "      <th>4</th>\n",
       "      <td>-0.051404</td>\n",
       "      <td>0.201853</td>\n",
       "      <td>-0.044697</td>\n",
       "      <td>-0.084711</td>\n",
       "      <td>0.000786</td>\n",
       "      <td>0.010653</td>\n",
       "      <td>0.172421</td>\n",
       "      <td>-0.080946</td>\n",
       "      <td>-0.096627</td>\n",
       "      <td>0.077496</td>\n",
       "      <td>...</td>\n",
       "      <td>-0.011919</td>\n",
       "      <td>-0.002356</td>\n",
       "      <td>-0.002698</td>\n",
       "      <td>-0.006592</td>\n",
       "      <td>-0.002185</td>\n",
       "      <td>-0.009310</td>\n",
       "      <td>0.006778</td>\n",
       "      <td>-0.018198</td>\n",
       "      <td>-0.016595</td>\n",
       "      <td>0.014457</td>\n",
       "    </tr>\n",
       "  </tbody>\n",
       "</table>\n",
       "<p>5 rows × 70 columns</p>\n",
       "</div>"
      ],
      "text/plain": [
       "         0         1         2         3         4         5         6   \\\n",
       "0  0.018390  0.153832 -0.036187 -0.096114  0.000189  0.008908  0.025292   \n",
       "1 -0.026766  0.421393 -0.068882  0.105197  0.042154  0.029687  0.110361   \n",
       "2  0.011969  0.184345 -0.021444 -0.121609 -0.055329 -0.001112  0.375440   \n",
       "3 -0.081711  0.261403 -0.040354 -0.218305  0.017647 -0.012647  0.264102   \n",
       "4 -0.051404  0.201853 -0.044697 -0.084711  0.000786  0.010653  0.172421   \n",
       "\n",
       "         7         8         9   ...        60        61        62        63  \\\n",
       "0 -0.015457 -0.002550  0.051419  ...  0.004520 -0.021593  0.034531  0.036302   \n",
       "1 -0.105812 -0.130303  0.160647  ...  0.005570 -0.002325 -0.000482 -0.014414   \n",
       "2 -0.127316 -0.151340 -0.158765  ...  0.004352  0.011736  0.001587  0.005040   \n",
       "3  0.090078 -0.115739 -0.180781  ... -0.002372 -0.005515  0.006456  0.006268   \n",
       "4 -0.080946 -0.096627  0.077496  ... -0.011919 -0.002356 -0.002698 -0.006592   \n",
       "\n",
       "         64        65        66        67        68        69  \n",
       "0  0.009767 -0.002026 -0.014995 -0.014123 -0.044726 -0.007895  \n",
       "1 -0.022651 -0.008666 -0.001102  0.011631 -0.002150  0.002202  \n",
       "2  0.001057  0.003236  0.006027 -0.008859 -0.001709  0.000355  \n",
       "3 -0.002655 -0.004133 -0.000517  0.003722  0.007989  0.005342  \n",
       "4 -0.002185 -0.009310  0.006778 -0.018198 -0.016595  0.014457  \n",
       "\n",
       "[5 rows x 70 columns]"
      ]
     },
     "execution_count": 7,
     "metadata": {},
     "output_type": "execute_result"
    }
   ],
   "source": [
    "X.head()"
   ]
  },
  {
   "cell_type": "markdown",
   "metadata": {},
   "source": [
    "## Cognitive Function Inference"
   ]
  },
  {
   "cell_type": "code",
   "execution_count": 8,
   "metadata": {},
   "outputs": [
    {
     "data": {
      "text/plain": [
       "array([6, 6, 6, 6, 6, 6, 6, 6, 6, 6, 6, 6, 6, 6, 6, 6, 6, 6, 6, 6, 6, 6,\n",
       "       6, 6, 6, 6, 6, 6, 6, 6, 6, 6, 6, 6, 6, 6, 6, 6, 6, 6, 6, 6, 6, 6,\n",
       "       6, 6, 6, 6, 6, 6, 6, 6, 6, 6, 6, 6, 6, 6, 6, 6, 6, 6, 6, 6, 6, 6,\n",
       "       6, 6, 6, 6, 6, 6, 6, 6, 6, 6, 6, 6, 6, 6, 6, 6, 6, 6, 6, 6, 6, 6,\n",
       "       6], dtype=int64)"
      ]
     },
     "execution_count": 8,
     "metadata": {},
     "output_type": "execute_result"
    }
   ],
   "source": [
    "# Load model and predict cognitive function\n",
    "clf = joblib.load(MODELS_PATH + \"svm.pk\")\n",
    "y_pred = clf.predict(X)\n",
    "y_pred"
   ]
  },
  {
   "cell_type": "markdown",
   "metadata": {},
   "source": [
    "## Emotion Recognition"
   ]
  },
  {
   "cell_type": "code",
   "execution_count": null,
   "metadata": {},
   "outputs": [],
   "source": [
    "# TODO: Save hourglass model dimension values and map through G(x) (inverted bell curve)"
   ]
  },
  {
   "cell_type": "code",
   "execution_count": 13,
   "metadata": {},
   "outputs": [],
   "source": [
    "results = []\n",
    "for i in range(len(clean_texts)):\n",
    "    response = get_emotion(clean_texts[i])\n",
    "    result = {\n",
    "        \"cognitive_function\": COGN_FUNC[y_pred[i]],\n",
    "        \"status_code\": response.status_code,\n",
    "        \"content\": response.content.decode()\n",
    "    }\n",
    "    if response.status_code == 200:\n",
    "        \n",
    "        result.update({\"emotion\": re.search(r'[a-z]*', result[\"content\"]).group(0)})\n",
    "    results.append(result)"
   ]
  },
  {
   "cell_type": "code",
   "execution_count": 33,
   "metadata": {},
   "outputs": [
    {
     "data": {
      "text/plain": [
       "'ecstasy (89.3%) & serenity (-27.11%) [INTROSPECTION=95.47%,TEMPER=-8.95%,ATTITUDE=-18.4%,SENSITIVITY=-99.0%]\\n'"
      ]
     },
     "execution_count": 33,
     "metadata": {},
     "output_type": "execute_result"
    }
   ],
   "source": [
    "results[5][\"content\"]"
   ]
  },
  {
   "cell_type": "code",
   "execution_count": 34,
   "metadata": {},
   "outputs": [
    {
     "data": {
      "text/plain": [
       "'leccion aprendido caida altura montaje estructura caido altura paso estructura inicial faltar colocar peldano tramo numero analizar estructura accion colaborador anclado punto x retirar tornillo soporte peldano encajar reemplazando el punzon acero resistir peso viga soltar el tornillo maniobra paso 2 peso viga recaar soporte superior reventar soldadura generar caer viga halir colaborador tramo escalera recorrer 2.5 metro altura causar falencia proceso seleccion capacitacion definicion rol responsabilidad trabajador deficiencia analisis tarea tener identificado riesgo tarea izaje carga peso viga resistencia soldadura soltar el queda inestable peso recaar punto soldadura superior reventandolo identificado permiso altura analisis seguro tarea punto anclaje correcto utilizacion elemento compatible estructura montado evitar control ejecucion trabajo profundidad planeacion trabajo fortalecer conocimiento tecnico fortalecer aplicacion herramienta analisis riesgo claridad rol responsabilidad administracion contratista subcontratista coherencia consistencia competencia planificacion diligenciamiento permiso ats validar elemento calculo caida punto anclaje metodo restriccion retractil linea vida etc. potencial consecuencia potencial caida caida libre efecto pendulo golpe estructura objeto resistencia estructura material control ejecucion trabajo advertir cambio disposicion planificado riesgo asociado condicion definir control respectivo validar necesario diligenciar permiso ampliar informacion ats detener cancelar trabajo vulnerar condicion seguridad planificado'"
      ]
     },
     "execution_count": 34,
     "metadata": {},
     "output_type": "execute_result"
    }
   ],
   "source": [
    "clean_texts[5]"
   ]
  },
  {
   "cell_type": "code",
   "execution_count": 35,
   "metadata": {},
   "outputs": [
    {
     "data": {
      "text/plain": [
       "b'ecstasy (34.44%) & delight (26.78%) [INTROSPECTION=77.37%,TEMPER=36.53%,ATTITUDE=74.84%,SENSITIVITY=-59.0%]\\n'"
      ]
     },
     "execution_count": 35,
     "metadata": {},
     "output_type": "execute_result"
    }
   ],
   "source": [
    "get_emotion(\"\"\"leccion aprendido tipo accidente caida altura fatalidad actividad subir silo escalera vertical cargo despachador producto granel descripcion accidente trabajador recientemente incorporado empresa 9 subir escalera vertical silo disponer resguardo seguridad dispositivo anti caido ascenso perder equilibrio caer altura aproximado 8 metro producir el fallecimiento posterior trabajador accion preventivo proveer induccion personal riesgo expuesto lugar trabajo trabajo altura deber debidamente comunicar autorizado procedimiento trabajo seguro ej. permiso trabajo escalera servicio deber disponer proteccion colectivo resguardo seguridad tipo aro metalico protector linea vida trabajador usar ames cuerpo completo evaluar necesidad instalar mecanismo bloqueo impedir fisicamente acceso personal autorizado area riesgo normativa legal art 11 d.e.2393 obligacion empleadores.9 instruir riesgo puesto trabajo forma metodo prevenir el personal ingresar laborar empresa art 26 d.e.2393 escalera fijo servicio.3 emplear escalera fijo altura mayor 7 metro instalar plataforma descanso 7 metro fraccion estar provisto aro metalico protector separacion maximo 500 milimetro dispositivo anti caida distancia maximo caida libre metro art 187.- d.e.2393 prohibicion empleador h permitir trabajador realizar labor riesgo entrenar previamente\"\"\").content"
   ]
  },
  {
   "cell_type": "code",
   "execution_count": 25,
   "metadata": {},
   "outputs": [
    {
     "name": "stdout",
     "output_type": "stream",
     "text": [
      "pleasantness\n"
     ]
    }
   ],
   "source": [
    "import re\n",
    "\n",
    "result = re.search(r'[a-z]*', results[0][\"content\"].decode())\n",
    "print(result.group(0))"
   ]
  },
  {
   "cell_type": "markdown",
   "metadata": {},
   "source": [
    "## Ontology components inference"
   ]
  },
  {
   "cell_type": "code",
   "execution_count": null,
   "metadata": {},
   "outputs": [],
   "source": [
    "#TODO: Infere related components through ontology\n",
    "\n",
    "for result in results:\n",
    "    if result.status_code == 200:\n",
    "        result.update({\"cogaf_instance\": CogafInstance(result[\"cognitive_function\"], result[\"emotion\"])})"
   ]
  }
 ],
 "metadata": {
  "kernelspec": {
   "display_name": "base",
   "language": "python",
   "name": "python3"
  },
  "language_info": {
   "codemirror_mode": {
    "name": "ipython",
    "version": 3
   },
   "file_extension": ".py",
   "mimetype": "text/x-python",
   "name": "python",
   "nbconvert_exporter": "python",
   "pygments_lexer": "ipython3",
   "version": "3.11.5"
  }
 },
 "nbformat": 4,
 "nbformat_minor": 2
}
