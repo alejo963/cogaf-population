{
 "cells": [
  {
   "cell_type": "code",
   "execution_count": 1,
   "metadata": {},
   "outputs": [
    {
     "name": "stderr",
     "output_type": "stream",
     "text": [
      "\n",
      "Warning: SQLite3 version 3.40.0 and 3.41.2 have huge performance regressions; please install version 3.41.1 or 3.42!\n",
      "\n"
     ]
    }
   ],
   "source": [
    "import glob\n",
    "from modules.ontology_classes import CogafInstance\n",
    "from modules.emotion import getEmotion"
   ]
  },
  {
   "cell_type": "code",
   "execution_count": 2,
   "metadata": {},
   "outputs": [
    {
     "name": "stdout",
     "output_type": "stream",
     "text": [
      "84\n",
      "./../data/text/prep\\0000_000_999-accidentes-trabajo.txt\n"
     ]
    }
   ],
   "source": [
    "txt_files = glob.glob('./../data/text/prep/*.txt')\n",
    "print(len(txt_files))\n",
    "print(txt_files[0])\n",
    "\n",
    "text_list = []\n",
    "for file in txt_files:\n",
    "    with open(file, 'r', encoding='utf-8') as f:\n",
    "        text_list.append(f.read())"
   ]
  },
  {
   "cell_type": "code",
   "execution_count": 3,
   "metadata": {},
   "outputs": [],
   "source": [
    "response = getEmotion(text_list[1])"
   ]
  },
  {
   "cell_type": "code",
   "execution_count": 4,
   "metadata": {},
   "outputs": [
    {
     "data": {
      "text/plain": [
       "414"
      ]
     },
     "execution_count": 4,
     "metadata": {},
     "output_type": "execute_result"
    }
   ],
   "source": [
    "response.status_code"
   ]
  },
  {
   "cell_type": "code",
   "execution_count": 5,
   "metadata": {},
   "outputs": [
    {
     "data": {
      "text/plain": [
       "b'<!DOCTYPE HTML PUBLIC \"-//IETF//DTD HTML 2.0//EN\">\\n<html><head>\\n<title>414 Request-URI Too Long</title>\\n</head><body>\\n<h1>Request-URI Too Long</h1>\\n<p>The requested URL\\'s length exceeds the capacity\\nlimit for this server.<br />\\n</p>\\n</body></html>\\n'"
      ]
     },
     "execution_count": 5,
     "metadata": {},
     "output_type": "execute_result"
    }
   ],
   "source": [
    "response.content"
   ]
  },
  {
   "cell_type": "code",
   "execution_count": 12,
   "metadata": {},
   "outputs": [],
   "source": [
    "response = getEmotion(\"\"\"\n",
    "Aprendidas\n",
    "\n",
    "Auxiliar de tráfico (Paletero - Señalelo)\n",
    " aprisionado por un vehículo\n",
    "\n",
    "Tránsito\n",
    "\n",
    "¿Qué paso?\n",
    "\n",
    "El trabajador se encontraba coordinando el flujo vehicular en una obra y al momento de dar vía uno de los conductores no lo observa y es tropellado por este causándole la muerte instantánea al aprisionándolo contra otro vehículo.\n",
    "\n",
    "¿Qué lo causó?\n",
    "\n",
    "Fallas en los protocolos o estándares Falencias en el proceso de visualización\n",
    " de seguridad en la actividad. tanto de las señales como del señalero.\n",
    "\n",
    "Ubicación inadecuada del trabajador. Fallas en la comunicación entre conductores y señalero.\n",
    "\"\"\")"
   ]
  },
  {
   "cell_type": "code",
   "execution_count": 13,
   "metadata": {},
   "outputs": [
    {
     "data": {
      "text/plain": [
       "200"
      ]
     },
     "execution_count": 13,
     "metadata": {},
     "output_type": "execute_result"
    }
   ],
   "source": [
    "response.status_code"
   ]
  },
  {
   "cell_type": "code",
   "execution_count": 14,
   "metadata": {},
   "outputs": [
    {
     "data": {
      "text/plain": [
       "b'grief (75.34%) & loathing (3.27%) [INTROSPECTION=-90.86%,TEMPER=-53.6%,ATTITUDE=-67.08%,SENSITIVITY=-64.7%]\\n'"
      ]
     },
     "execution_count": 14,
     "metadata": {},
     "output_type": "execute_result"
    }
   ],
   "source": [
    "response.content"
   ]
  },
  {
   "cell_type": "code",
   "execution_count": null,
   "metadata": {},
   "outputs": [],
   "source": []
  }
 ],
 "metadata": {
  "kernelspec": {
   "display_name": "base",
   "language": "python",
   "name": "python3"
  },
  "language_info": {
   "codemirror_mode": {
    "name": "ipython",
    "version": 3
   },
   "file_extension": ".py",
   "mimetype": "text/x-python",
   "name": "python",
   "nbconvert_exporter": "python",
   "pygments_lexer": "ipython3",
   "version": "3.11.5"
  }
 },
 "nbformat": 4,
 "nbformat_minor": 2
}
