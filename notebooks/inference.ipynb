{
 "cells": [
  {
   "cell_type": "code",
   "execution_count": 1,
   "metadata": {},
   "outputs": [
    {
     "name": "stderr",
     "output_type": "stream",
     "text": [
      "\n",
      "Warning: SQLite3 version 3.40.0 and 3.41.2 have huge performance regressions; please install version 3.41.1 or 3.42!\n",
      "\n"
     ]
    }
   ],
   "source": [
    "import glob\n",
    "from modules.ontology_classes import CogafInstance\n",
    "from modules.emotion import get_emotion"
   ]
  },
  {
   "cell_type": "markdown",
   "metadata": {},
   "source": [
    "## Emotion Recogition"
   ]
  },
  {
   "cell_type": "code",
   "execution_count": 2,
   "metadata": {},
   "outputs": [
    {
     "name": "stdout",
     "output_type": "stream",
     "text": [
      "89\n",
      "./../data/text/clean\\0000_000_999-accidentes-trabajo.txt\n"
     ]
    }
   ],
   "source": [
    "txt_files = glob.glob('./../data/text/clean/*.txt')\n",
    "print(len(txt_files))\n",
    "print(txt_files[0])\n",
    "\n",
    "text_list = []\n",
    "for file in txt_files:\n",
    "    with open(file, 'r', encoding='utf-8') as f:\n",
    "        text_list.append(f.read())"
   ]
  },
  {
   "cell_type": "code",
   "execution_count": 3,
   "metadata": {},
   "outputs": [],
   "source": [
    "response = get_emotion(text_list[0])"
   ]
  },
  {
   "cell_type": "code",
   "execution_count": 4,
   "metadata": {},
   "outputs": [
    {
     "data": {
      "text/plain": [
       "200"
      ]
     },
     "execution_count": 4,
     "metadata": {},
     "output_type": "execute_result"
    }
   ],
   "source": [
    "response.status_code"
   ]
  },
  {
   "cell_type": "code",
   "execution_count": 5,
   "metadata": {},
   "outputs": [
    {
     "data": {
      "text/plain": [
       "b'ecstasy (32.25%) & pleasantness (42.7%) [INTROSPECTION=76.64%,TEMPER=-13.55%,ATTITUDE=47.09%,SENSITIVITY=-48.0%]\\n'"
      ]
     },
     "execution_count": 5,
     "metadata": {},
     "output_type": "execute_result"
    }
   ],
   "source": [
    "response.content"
   ]
  },
  {
   "cell_type": "code",
   "execution_count": 6,
   "metadata": {},
   "outputs": [
    {
     "name": "stdout",
     "output_type": "stream",
     "text": [
      "./../data/text/clean\\0000_000_999-accidentes-trabajo.txt\n",
      "b'ecstasy (32.25%) & pleasantness (42.7%) [INTROSPECTION=76.64%,TEMPER=-13.55%,ATTITUDE=47.09%,SENSITIVITY=-48.0%]\\n'\n",
      "./../data/text/clean\\31-5_Caida_desde_escalera_de_silo.txt\n",
      "b'ecstasy (34.44%) & delight (26.78%) [INTROSPECTION=77.37%,TEMPER=36.53%,ATTITUDE=74.84%,SENSITIVITY=-59.0%]\\n'\n",
      "./../data/text/clean\\012015-Lecciones-aprendidas.txt\n",
      "b'ecstasy (77.48%) & enthusiasm (52.24%) [INTROSPECTION=91.57%,TEMPER=72.39%,ATTITUDE=69.64%,SENSITIVITY=83.24%]\\n'\n",
      "./../data/text/clean\\auxiliar_trafico_aprisionado_vehiculo.txt\n",
      "b'enthusiasm (66.82%) & calmness (85.93%) [INTROSPECTION=-16.35%,TEMPER=61.36%,ATTITUDE=53.39%,SENSITIVITY=88.05%]\\n'\n",
      "./../data/text/clean\\caida_alturas.txt\n",
      "b'enthusiasm (50.27%) & ecstasy (49.0%) [INTROSPECTION=82.17%,TEMPER=57.65%,ATTITUDE=75.73%,SENSITIVITY=82.59%]\\n'\n",
      "./../data/text/clean\\caida_alturas_montaje_estructura.txt\n",
      "b'ecstasy (89.3%) & serenity (-27.11%) [INTROSPECTION=95.47%,TEMPER=-8.95%,ATTITUDE=-18.4%,SENSITIVITY=-99.0%]\\n'\n",
      "./../data/text/clean\\caida_trabajador_foso_ascensor.txt\n",
      "b'ecstasy (83.65%) & calmness (31.58%) [INTROSPECTION=93.61%,TEMPER=43.42%,ATTITUDE=-3.12%,SENSITIVITY=-23.61%]\\n'\n",
      "./../data/text/clean\\evento_explosion_samaca_boyaca_4_febrero_2022.txt\n",
      "b'enthusiasm (53.4%) & ecstasy (31.34%) [INTROSPECTION=76.34%,TEMPER=69.53%,ATTITUDE=-7.08%,SENSITIVITY=83.62%]\\n'\n",
      "./../data/text/clean\\infografia_evento_por_explosioin_tasco_Boyaca_26_02_2022.txt\n",
      "b'<!DOCTYPE HTML PUBLIC \"-//IETF//DTD HTML 2.0//EN\">\\n<html><head>\\n<title>414 Request-URI Too Long</title>\\n</head><body>\\n<h1>Request-URI Too Long</h1>\\n<p>The requested URL\\'s length exceeds the capacity\\nlimit for this server.<br />\\n</p>\\n</body></html>\\n'\n",
      "./../data/text/clean\\LA_Explosion_2021.txt\n",
      "b'<!DOCTYPE HTML PUBLIC \"-//IETF//DTD HTML 2.0//EN\">\\n<html><head>\\n<title>414 Request-URI Too Long</title>\\n</head><body>\\n<h1>Request-URI Too Long</h1>\\n<p>The requested URL\\'s length exceeds the capacity\\nlimit for this server.<br />\\n</p>\\n</body></html>\\n'\n",
      "./../data/text/clean\\leccion_aprendida_acci_inundacion_socota_boyaca_19_04_2017.txt\n",
      "b'ecstasy (80.56%) & enthusiasm (57.4%) [INTROSPECTION=92.58%,TEMPER=55.55%,ATTITUDE=50.91%,SENSITIVITY=84.94%]\\n'\n",
      "./../data/text/clean\\leccion_aprendida_acci_minero_electrico_barrancas_guajira_2017.txt\n",
      "b'enthusiasm (16.5%) & bliss (1.12%) [INTROSPECTION=-26.6%,TEMPER=66.37%,ATTITUDE=-2.05%,SENSITIVITY=71.45%]\\n'\n",
      "./../data/text/clean\\leccion_aprendida_acci_minero_electrico_socha_boyaca_2018.txt\n",
      "b'enthusiasm (33.52%) & calmness (59.42%) [INTROSPECTION=-1.94%,TEMPER=52.61%,ATTITUDE=-1.57%,SENSITIVITY=77.06%]\\n'\n",
      "./../data/text/clean\\leccion_aprendida_antioquia_amaga_2014.txt\n",
      "b'enthusiasm (59.12%) & serenity (81.54%) [INTROSPECTION=1.42%,TEMPER=26.91%,ATTITUDE=-25.36%,SENSITIVITY=85.51%]\\n'\n",
      "./../data/text/clean\\leccion_aprendida_chivata_boyaca_2020.txt\n",
      "b'ecstasy (57.52%) & enthusiasm (44.75%) [INTROSPECTION=84.98%,TEMPER=55.08%,ATTITUDE=79.71%,SENSITIVITY=80.77%]\\n'\n",
      "./../data/text/clean\\leccion_aprendida_derrumbe_lenguazaque_cundinamarca_13_12_2018.txt\n",
      "b'ecstasy (77.17%) & delight (42.1%) [INTROSPECTION=91.47%,TEMPER=43.76%,ATTITUDE=79.89%,SENSITIVITY=75.15%]\\n'\n",
      "./../data/text/clean\\leccion_aprendida_derrumbe_san_cayetano_nte_santander_24_02_2020.txt\n",
      "b'ecstasy (80.77%) & delight (41.09%) [INTROSPECTION=92.65%,TEMPER=71.04%,ATTITUDE=79.56%,SENSITIVITY=66.99%]\\n'\n",
      "./../data/text/clean\\leccion_aprendida_derrumbe_socha_boyaca_2020.txt\n",
      "b'ecstasy (58.41%) & delight (38.02%) [INTROSPECTION=85.27%,TEMPER=74.23%,ATTITUDE=78.55%,SENSITIVITY=49.36%]\\n'\n",
      "./../data/text/clean\\leccion_aprendida_derrumbe_sogamoso_boyaca_2019.txt\n",
      "b'rage (65.45%) & terror (42.15%) [INTROSPECTION=12.73%,TEMPER=-87.6%,ATTITUDE=0.6%,SENSITIVITY=-79.91%]\\n'\n",
      "./../data/text/clean\\leccion_aprendida_derrumbe_vetas_santander_2017.txt\n",
      "b'ecstasy (78.33%) & calmness (95.35%) [INTROSPECTION=91.85%,TEMPER=64.46%,ATTITUDE=-3.0%,SENSITIVITY=-7.1%]\\n'\n",
      "./../data/text/clean\\leccion_aprendida_derrumbre_cali_valle_cauca_2018.txt\n",
      "b'ecstasy (92.68%) & enthusiasm (70.99%) [INTROSPECTION=96.58%,TEMPER=63.26%,ATTITUDE=76.95%,SENSITIVITY=89.43%]\\n'\n",
      "./../data/text/clean\\leccion_aprendida_derrumbre_carmen_atrato_choco_07_07_2018.txt\n",
      "b'enthusiasm (54.43%) & calmness (77.33%) [INTROSPECTION=-4.76%,TEMPER=58.52%,ATTITUDE=-6.5%,SENSITIVITY=83.96%]\\n'\n",
      "./../data/text/clean\\leccion_aprendida_explo_sub_carbon_buenos_aires_cauca_2019.txt\n",
      "b'anger (74.45%) & dislike (-3.83%) [INTROSPECTION=14.37%,TEMPER=-57.57%,ATTITUDE=1.26%,SENSITIVITY=24.97%]\\n'\n",
      "./../data/text/clean\\leccion_aprendida_explo_sub_carbon_cucunuba_cundinamarca_2019.txt\n",
      "b'eagerness (99.55%) & calmness (6.36%) [INTROSPECTION=-3.13%,TEMPER=35.1%,ATTITUDE=-2.9%,SENSITIVITY=65.85%]\\n'\n",
      "./../data/text/clean\\leccion_aprendida_explo_sub_carbon_cucunuba_cundinamarca_2020.txt\n",
      "b'<!DOCTYPE HTML PUBLIC \"-//IETF//DTD HTML 2.0//EN\">\\n<html><head>\\n<title>414 Request-URI Too Long</title>\\n</head><body>\\n<h1>Request-URI Too Long</h1>\\n<p>The requested URL\\'s length exceeds the capacity\\nlimit for this server.<br />\\n</p>\\n</body></html>\\n'\n",
      "./../data/text/clean\\leccion_aprendida_explo_sub_carbon_el_zulia_nte_santander_2019.txt\n",
      "b'enthusiasm (49.21%) & delight (27.93%) [INTROSPECTION=-3.52%,TEMPER=35.16%,ATTITUDE=75.22%,SENSITIVITY=82.24%]\\n'\n",
      "./../data/text/clean\\leccion_aprendida_explo_sub_carbon_jerico_boyaca_2017.txt\n",
      "b'ecstasy (43.81%) & calmness (2.26%) [INTROSPECTION=80.46%,TEMPER=33.74%,ATTITUDE=-4.44%,SENSITIVITY=-3.53%]\\n'\n",
      "./../data/text/clean\\leccion_aprendida_explo_sub_carbon_samaca_boyaca_08_03_2018.txt\n",
      "b'calmness (92.04%) & responsiveness (-10.91%) [INTROSPECTION=-11.33%,TEMPER=63.37%,ATTITUDE=-7.59%,SENSITIVITY=-3.6%]\\n'\n",
      "./../data/text/clean\\leccion_aprendida_explo_sub_carbon_samaca_boyaca_2015.txt\n",
      "b'rage (66.36%) & grief (61.83%) [INTROSPECTION=-86.4%,TEMPER=-87.9%,ATTITUDE=-61.7%,SENSITIVITY=-50.51%]\\n'\n",
      "./../data/text/clean\\leccion_aprendida_explo_sub_carbon_samaca_boyaca_2018.txt\n",
      "b'ecstasy (24.5%) & bliss (10.58%) [INTROSPECTION=74.09%,TEMPER=69.49%,ATTITUDE=42.84%,SENSITIVITY=67.95%]\\n'\n",
      "./../data/text/clean\\leccion_aprendida_explo_sub_carbon_san_cayetano_nte_santander_2019.txt\n",
      "b'ecstasy (68.34%) & calmness (92.62%) [INTROSPECTION=88.55%,TEMPER=63.56%,ATTITUDE=50.19%,SENSITIVITY=57.42%]\\n'\n",
      "./../data/text/clean\\leccion_aprendida_explo_sub_carbon_sardinata_nte_santander_10_12_2019.txt\n",
      "b'enthusiasm (32.43%) & pleasantness (35.34%) [INTROSPECTION=-9.07%,TEMPER=27.92%,ATTITUDE=44.66%,SENSITIVITY=76.7%]\\n'\n",
      "./../data/text/clean\\leccion_aprendida_explo_sub_carbon_sardinata_nte_santander_11_12_2019.txt\n",
      "b'rage (30.94%) & loathing (29.48%) [INTROSPECTION=13.1%,TEMPER=-76.21%,ATTITUDE=-75.73%,SENSITIVITY=-52.22%]\\n'\n",
      "./../data/text/clean\\leccion_aprendida_explo_sub_carbon_sardinata_nte_santander_2018.txt\n",
      "b'enthusiasm (50.41%) & bliss (20.92%) [INTROSPECTION=-9.14%,TEMPER=72.9%,ATTITUDE=-18.22%,SENSITIVITY=82.63%]\\n'\n",
      "./../data/text/clean\\leccion_aprendida_explo_sub_carbon_sardinata_nte_santander_2019.txt\n",
      "b'ecstasy (78.01%) & delight (2.79%) [INTROSPECTION=91.74%,TEMPER=63.47%,ATTITUDE=66.92%,SENSITIVITY=52.38%]\\n'\n",
      "./../data/text/clean\\leccion_aprendida_explo_sub_carbon_socha_boyaca_06_12_2019.txt\n",
      "b'rage (68.33%) & fear (86.27%) [INTROSPECTION=12.73%,TEMPER=-88.55%,ATTITUDE=0.6%,SENSITIVITY=-61.47%]\\n'\n",
      "./../data/text/clean\\leccion_aprendida_explo_sub_carbon_socha_boyaca_26_07_2019.txt\n",
      "b'ecstasy (60.86%) & enthusiasm (53.07%) [INTROSPECTION=86.08%,TEMPER=55.5%,ATTITUDE=35.16%,SENSITIVITY=83.51%]\\n'\n",
      "./../data/text/clean\\leccion_aprendida_explo_sub_carbon_socha_boyaca_29_03_2020.txt\n",
      "b'loathing (36.56%) & melancholy (-18.94%) [INTROSPECTION=6.25%,TEMPER=42.0%,ATTITUDE=-78.07%,SENSITIVITY=12.06%]\\n'\n",
      "./../data/text/clean\\leccion_aprendida_explo_sub_carbon_socha_boyaca_2019.txt\n",
      "b'enthusiasm (58.58%) & ecstasy (40.71%) [INTROSPECTION=79.43%,TEMPER=58.62%,ATTITUDE=58.34%,SENSITIVITY=85.33%]\\n'\n",
      "./../data/text/clean\\leccion_aprendida_explo_sub_carbon_socha_boyaca_2020.txt\n",
      "b'enthusiasm (56.51%) & serenity (71.4%) [INTROSPECTION=-9.43%,TEMPER=23.56%,ATTITUDE=-4.0%,SENSITIVITY=84.65%]\\n'\n",
      "./../data/text/clean\\leccion_aprendida_explo_sub_carbon_socota_boyaca_2017.txt\n",
      "b'enthusiasm (60.91%) & bliss (4.46%) [INTROSPECTION=-3.93%,TEMPER=67.47%,ATTITUDE=-6.11%,SENSITIVITY=86.1%]\\n'\n",
      "./../data/text/clean\\leccion_aprendida_explo_sub_carbon_tasco_boyaca_24_04_2018.txt\n",
      "b'rage (48.9%) & fear (32.82%) [INTROSPECTION=18.9%,TEMPER=-82.14%,ATTITUDE=22.46%,SENSITIVITY=-43.83%]\\n'\n",
      "./../data/text/clean\\leccion_aprendida_explo_sub_carbon_tausa_cundinamrca_23_05_2018.txt\n",
      "b'enthusiasm (33.62%) & calmness (55.66%) [INTROSPECTION=-1.88%,TEMPER=51.37%,ATTITUDE=-14.26%,SENSITIVITY=77.1%]\\n'\n",
      "./../data/text/clean\\leccion_aprendida_explo_sub_carbon_toledo_nte_santander_07_02_2018.txt\n",
      "b'enthusiasm (24.42%) & calmness (67.88%) [INTROSPECTION=52.14%,TEMPER=55.4%,ATTITUDE=49.1%,SENSITIVITY=74.06%]\\n'\n",
      "./../data/text/clean\\leccion_aprendida_explo_sub_carbon_topaga_boyaca_2019.txt\n",
      "b'ecstasy (85.01%) & enthusiasm (58.5%) [INTROSPECTION=94.05%,TEMPER=75.89%,ATTITUDE=-5.44%,SENSITIVITY=85.31%]\\n'\n",
      "./../data/text/clean\\leccion_aprendida_explo_sub_carbon_ventaquemada_boyaca_2017.txt\n",
      "b'ecstasy (36.46%) & calmness (44.69%) [INTROSPECTION=78.03%,TEMPER=47.75%,ATTITUDE=-13.1%,SENSITIVITY=-2.57%]\\n'\n",
      "./../data/text/clean\\leccion_aprendida_explo_sub_oro_almaguer_cauca_2019.txt\n",
      "b'enthusiasm (60.91%) & ecstasy (36.68%) [INTROSPECTION=78.1%,TEMPER=55.77%,ATTITUDE=70.78%,SENSITIVITY=86.1%]\\n'\n",
      "./../data/text/clean\\leccion_aprendida_explo_sub_oro_el_tambo_cauca_2019.txt\n",
      "b'ecstasy (92.29%) & delight (8.69%) [INTROSPECTION=96.46%,TEMPER=56.65%,ATTITUDE=68.87%,SENSITIVITY=68.65%]\\n'\n",
      "./../data/text/clean\\leccion_aprendida_explo_subterranea_carbon_cucunuba_cundinamarca_2017.txt\n",
      "b'calmness (37.96%) & contentment (-0.92%) [INTROSPECTION=-0.3%,TEMPER=45.53%,ATTITUDE=-1.46%,SENSITIVITY=-12.7%]\\n'\n",
      "./../data/text/clean\\leccion_aprendida_marmato_caldas_2018.txt\n",
      "b'eagerness (62.31%) & calmness (44.18%) [INTROSPECTION=-0.95%,TEMPER=47.58%,ATTITUDE=-1.84%,SENSITIVITY=53.56%]\\n'\n",
      "./../data/text/clean\\LecciónAprendida_derrumbe_Boavita_21_04_2021.txt\n",
      "b'enthusiasm (67.49%) & ecstasy (40.18%) [INTROSPECTION=79.26%,TEMPER=71.68%,ATTITUDE=38.77%,SENSITIVITY=88.27%]\\n'\n",
      "./../data/text/clean\\Lecciónaprendida_derrumbe_Cúcuta_13_04_2021.txt\n",
      "b'ecstasy (74.7%) & calmness (77.22%) [INTROSPECTION=90.65%,TEMPER=58.48%,ATTITUDE=-30.16%,SENSITIVITY=-36.05%]\\n'\n",
      "./../data/text/clean\\Lecciónaprendida_explosion_San Miguel_23_10_2020.txt\n",
      "b'enthusiasm (55.23%) & calmness (46.69%) [INTROSPECTION=-1.45%,TEMPER=48.41%,ATTITUDE=-11.08%,SENSITIVITY=84.23%]\\n'\n",
      "./../data/text/clean\\LECCIONES APRENDIDAS  CUARTO SEMESTRE 2019.txt\n",
      "b'<!DOCTYPE HTML PUBLIC \"-//IETF//DTD HTML 2.0//EN\">\\n<html><head>\\n<title>414 Request-URI Too Long</title>\\n</head><body>\\n<h1>Request-URI Too Long</h1>\\n<p>The requested URL\\'s length exceeds the capacity\\nlimit for this server.<br />\\n</p>\\n</body></html>\\n'\n",
      "./../data/text/clean\\LECCIONES APRENDIDAS  TERCER SEMESTRE 2019.txt\n",
      "b'<!DOCTYPE HTML PUBLIC \"-//IETF//DTD HTML 2.0//EN\">\\n<html><head>\\n<title>414 Request-URI Too Long</title>\\n</head><body>\\n<h1>Request-URI Too Long</h1>\\n<p>The requested URL\\'s length exceeds the capacity\\nlimit for this server.<br />\\n</p>\\n</body></html>\\n'\n",
      "./../data/text/clean\\LECCIONES APRENDIDAS 1 SEMESTRE 2021.txt\n",
      "b'<html>\\r\\n<head><title>414 Request-URI Too Large</title></head>\\r\\n<body>\\r\\n<center><h1>414 Request-URI Too Large</h1></center>\\r\\n<hr><center>nginx</center>\\r\\n</body>\\r\\n</html>\\r\\n'\n",
      "./../data/text/clean\\LECCIONES APRENDIDAS 1 TRIMESTRE 2020 .txt\n",
      "b'<!DOCTYPE HTML PUBLIC \"-//IETF//DTD HTML 2.0//EN\">\\n<html><head>\\n<title>414 Request-URI Too Long</title>\\n</head><body>\\n<h1>Request-URI Too Long</h1>\\n<p>The requested URL\\'s length exceeds the capacity\\nlimit for this server.<br />\\n</p>\\n</body></html>\\n'\n",
      "./../data/text/clean\\LECCIONES APRENDIDAS 2 TRIMESTRE 2018.txt\n",
      "b'<!DOCTYPE HTML PUBLIC \"-//IETF//DTD HTML 2.0//EN\">\\n<html><head>\\n<title>414 Request-URI Too Long</title>\\n</head><body>\\n<h1>Request-URI Too Long</h1>\\n<p>The requested URL\\'s length exceeds the capacity\\nlimit for this server.<br />\\n</p>\\n</body></html>\\n'\n",
      "./../data/text/clean\\LECCIONES APRENDIDAS 2 TRIMESTRE 2020.txt\n",
      "b'<!DOCTYPE HTML PUBLIC \"-//IETF//DTD HTML 2.0//EN\">\\n<html><head>\\n<title>414 Request-URI Too Long</title>\\n</head><body>\\n<h1>Request-URI Too Long</h1>\\n<p>The requested URL\\'s length exceeds the capacity\\nlimit for this server.<br />\\n</p>\\n</body></html>\\n'\n",
      "./../data/text/clean\\LECCIONES APRENDIDAS 3 TRIMESTRE 2018.txt\n",
      "b'<!DOCTYPE HTML PUBLIC \"-//IETF//DTD HTML 2.0//EN\">\\n<html><head>\\n<title>414 Request-URI Too Long</title>\\n</head><body>\\n<h1>Request-URI Too Long</h1>\\n<p>The requested URL\\'s length exceeds the capacity\\nlimit for this server.<br />\\n</p>\\n</body></html>\\n'\n",
      "./../data/text/clean\\LECCIONES APRENDIDAS 4 TRIMESTRE 2018.txt\n",
      "b'<!DOCTYPE HTML PUBLIC \"-//IETF//DTD HTML 2.0//EN\">\\n<html><head>\\n<title>414 Request-URI Too Long</title>\\n</head><body>\\n<h1>Request-URI Too Long</h1>\\n<p>The requested URL\\'s length exceeds the capacity\\nlimit for this server.<br />\\n</p>\\n</body></html>\\n'\n",
      "./../data/text/clean\\Lecciones aprendidas 2017.txt\n",
      "b'enthusiasm (61.67%) & serenity (36.6%) [INTROSPECTION=-3.02%,TEMPER=12.08%,ATTITUDE=-6.83%,SENSITIVITY=86.35%]\\n'\n",
      "./../data/text/clean\\LECCIONES APRENDIDAS I PRIMER TRIMESTRE 2017.txt\n",
      "b'<html>\\r\\n<head><title>414 Request-URI Too Large</title></head>\\r\\n<body>\\r\\n<center><h1>414 Request-URI Too Large</h1></center>\\r\\n<hr><center>nginx</center>\\r\\n</body>\\r\\n</html>\\r\\n'\n",
      "./../data/text/clean\\LECCIONES APRENDIDAS I PRIMER TRIMESTRE 2018.txt\n",
      "b'<!DOCTYPE HTML PUBLIC \"-//IETF//DTD HTML 2.0//EN\">\\n<html><head>\\n<title>414 Request-URI Too Long</title>\\n</head><body>\\n<h1>Request-URI Too Long</h1>\\n<p>The requested URL\\'s length exceeds the capacity\\nlimit for this server.<br />\\n</p>\\n</body></html>\\n'\n",
      "./../data/text/clean\\LECCIONES APRENDIDAS I SEMESTRE DE 2019.txt\n",
      "b'<html>\\r\\n<head><title>414 Request-URI Too Large</title></head>\\r\\n<body>\\r\\n<center><h1>414 Request-URI Too Large</h1></center>\\r\\n<hr><center>nginx</center>\\r\\n</body>\\r\\n</html>\\r\\n'\n",
      "./../data/text/clean\\LECCIONES APRENDIDAS II TRIMESTRE 2017.txt\n",
      "b'<!DOCTYPE HTML PUBLIC \"-//IETF//DTD HTML 2.0//EN\">\\n<html><head>\\n<title>414 Request-URI Too Long</title>\\n</head><body>\\n<h1>Request-URI Too Long</h1>\\n<p>The requested URL\\'s length exceeds the capacity\\nlimit for this server.<br />\\n</p>\\n</body></html>\\n'\n",
      "./../data/text/clean\\LECCIONES APRENDIDAS III TRIMESTRE 2017 - copia.txt\n",
      "b'<!DOCTYPE HTML PUBLIC \"-//IETF//DTD HTML 2.0//EN\">\\n<html><head>\\n<title>414 Request-URI Too Long</title>\\n</head><body>\\n<h1>Request-URI Too Long</h1>\\n<p>The requested URL\\'s length exceeds the capacity\\nlimit for this server.<br />\\n</p>\\n</body></html>\\n'\n",
      "./../data/text/clean\\LECCIONES APRENDIDAS IV TRIMESTRE 2017.txt\n",
      "b'<!DOCTYPE HTML PUBLIC \"-//IETF//DTD HTML 2.0//EN\">\\n<html><head>\\n<title>414 Request-URI Too Long</title>\\n</head><body>\\n<h1>Request-URI Too Long</h1>\\n<p>The requested URL\\'s length exceeds the capacity\\nlimit for this server.<br />\\n</p>\\n</body></html>\\n'\n",
      "./../data/text/clean\\LECCIONES APRENDIDAS IV TRIMESTRE 2020.txt\n",
      "b'<!DOCTYPE HTML PUBLIC \"-//IETF//DTD HTML 2.0//EN\">\\n<html><head>\\n<title>414 Request-URI Too Long</title>\\n</head><body>\\n<h1>Request-URI Too Long</h1>\\n<p>The requested URL\\'s length exceeds the capacity\\nlimit for this server.<br />\\n</p>\\n</body></html>\\n'\n",
      "./../data/text/clean\\LECCIONES APRENDIDAS TERCER TRIMESTRE 2020.txt\n",
      "b'<!DOCTYPE HTML PUBLIC \"-//IETF//DTD HTML 2.0//EN\">\\n<html><head>\\n<title>414 Request-URI Too Long</title>\\n</head><body>\\n<h1>Request-URI Too Long</h1>\\n<p>The requested URL\\'s length exceeds the capacity\\nlimit for this server.<br />\\n</p>\\n</body></html>\\n'\n",
      "./../data/text/clean\\Lecciones Aprendidas_0.txt\n",
      "b'<html>\\r\\n<head><title>414 Request-URI Too Large</title></head>\\r\\n<body>\\r\\n<center><h1>414 Request-URI Too Large</h1></center>\\r\\n<hr><center>nginx</center>\\r\\n</body>\\r\\n</html>\\r\\n'\n",
      "./../data/text/clean\\Lecciones-aprendidas-Feb2016.txt\n",
      "b'ecstasy (80.1%) & calmness (30.61%) [INTROSPECTION=92.43%,TEMPER=43.1%,ATTITUDE=-4.89%,SENSITIVITY=-21.15%]\\n'\n",
      "./../data/text/clean\\Lecciones-Aprendidas-Julio-a-Septiembre-2023.txt\n",
      "b'<html>\\r\\n<head><title>414 Request-URI Too Large</title></head>\\r\\n<body>\\r\\n<center><h1>414 Request-URI Too Large</h1></center>\\r\\n<hr><center>nginx</center>\\r\\n</body>\\r\\n</html>\\r\\n'\n",
      "./../data/text/clean\\PRESENTACION-LECCIONES-APRENDIDAS-ABRIL-A-JUNIO-2022.txt\n",
      "b'<!DOCTYPE HTML PUBLIC \"-//IETF//DTD HTML 2.0//EN\">\\n<html><head>\\n<title>414 Request-URI Too Long</title>\\n</head><body>\\n<h1>Request-URI Too Long</h1>\\n<p>The requested URL\\'s length exceeds the capacity\\nlimit for this server.<br />\\n</p>\\n</body></html>\\n'\n",
      "./../data/text/clean\\PRESENTACION-LECCIONES-APRENDIDAS-ABRIL-A-JUNIO-2023.txt\n",
      "b'<!DOCTYPE HTML PUBLIC \"-//IETF//DTD HTML 2.0//EN\">\\n<html><head>\\n<title>414 Request-URI Too Long</title>\\n</head><body>\\n<h1>Request-URI Too Long</h1>\\n<p>The requested URL\\'s length exceeds the capacity\\nlimit for this server.<br />\\n</p>\\n</body></html>\\n'\n",
      "./../data/text/clean\\PRESENTACION-LECCIONES-APRENDIDAS-ENERO-A-MARZO-2023.txt\n",
      "b'<!DOCTYPE HTML PUBLIC \"-//IETF//DTD HTML 2.0//EN\">\\n<html><head>\\n<title>414 Request-URI Too Long</title>\\n</head><body>\\n<h1>Request-URI Too Long</h1>\\n<p>The requested URL\\'s length exceeds the capacity\\nlimit for this server.<br />\\n</p>\\n</body></html>\\n'\n",
      "./../data/text/clean\\PRESENTACION-LECCIONES-APRENDIDAS-JULIO-A-SEPTIEMBRE-2022.txt\n",
      "b'<!DOCTYPE HTML PUBLIC \"-//IETF//DTD HTML 2.0//EN\">\\n<html><head>\\n<title>414 Request-URI Too Long</title>\\n</head><body>\\n<h1>Request-URI Too Long</h1>\\n<p>The requested URL\\'s length exceeds the capacity\\nlimit for this server.<br />\\n</p>\\n</body></html>\\n'\n",
      "./../data/text/clean\\Cortes-1.txt\n",
      "b'grief (65.58%) & rage (47.96%) [INTROSPECTION=-87.64%,TEMPER=-81.83%,ATTITUDE=-73.83%,SENSITIVITY=19.1%]\\n'\n",
      "./../data/text/clean\\Cortes-2.txt\n",
      "b'enthusiasm (38.07%) & ecstasy (35.86%) [INTROSPECTION=77.84%,TEMPER=52.55%,ATTITUDE=25.49%,SENSITIVITY=78.56%]\\n'\n",
      "./../data/text/clean\\Cortes-3.txt\n",
      "b'grief (65.01%) & disgust (72.37%) [INTROSPECTION=-87.45%,TEMPER=0.0%,ATTITUDE=-56.88%,SENSITIVITY=16.4%]\\n'\n",
      "./../data/text/clean\\Cortes-4.txt\n",
      "b'rage (49.7%) & grief (0.04%) [INTROSPECTION=-66.01%,TEMPER=-82.4%,ATTITUDE=-54.34%,SENSITIVITY=19.1%]\\n'\n",
      "./../data/text/clean\\Cortes-5.txt\n",
      "b'ecstasy (37.25%) & enthusiasm (35.08%) [INTROSPECTION=78.29%,TEMPER=49.71%,ATTITUDE=26.3%,SENSITIVITY=77.58%]\\n'\n",
      "./../data/text/clean\\Cortes-6.txt\n",
      "b'ecstasy (40.66%) & calmness (66.66%) [INTROSPECTION=79.42%,TEMPER=55.0%,ATTITUDE=-14.75%,SENSITIVITY=-5.19%]\\n'\n",
      "./../data/text/clean\\Cortes-7.txt\n",
      "b'ecstasy (69.9%) & enthusiasm (69.82%) [INTROSPECTION=89.07%,TEMPER=34.89%,ATTITUDE=21.66%,SENSITIVITY=89.04%]\\n'\n",
      "./../data/text/clean\\leccion_aprendida_1-1.txt\n",
      "b'ecstasy (82.58%) & enthusiasm (55.93%) [INTROSPECTION=93.25%,TEMPER=75.66%,ATTITUDE=53.1%,SENSITIVITY=84.46%]\\n'\n",
      "./../data/text/clean\\leccion_aprendida_1-2.txt\n",
      "b'ecstasy (84.94%) & bliss (7.14%) [INTROSPECTION=94.03%,TEMPER=68.36%,ATTITUDE=-20.03%,SENSITIVITY=-3.68%]\\n'\n",
      "./../data/text/clean\\leccion_aprendida_1-3.txt\n",
      "b'rage (47.54%) & fear (61.4%) [INTROSPECTION=-45.39%,TEMPER=-81.69%,ATTITUDE=-45.64%,SENSITIVITY=-53.26%]\\n'\n",
      "./../data/text/clean\\leccion_aprendida_1-4.txt\n",
      "b'ecstasy (69.95%) & enthusiasm (52.09%) [INTROSPECTION=89.08%,TEMPER=53.36%,ATTITUDE=59.15%,SENSITIVITY=83.19%]\\n'\n",
      "./../data/text/clean\\leccion_aprendida_1-5.txt\n",
      "b'fear (40.61%) & annoyance (80.91%) [INTROSPECTION=13.3%,TEMPER=-26.7%,ATTITUDE=1.62%,SENSITIVITY=-46.4%]\\n'\n"
     ]
    }
   ],
   "source": [
    "for i in range(len(text_list)):\n",
    "    print(txt_files[i])\n",
    "    print(get_emotion(text_list[i]).content)"
   ]
  },
  {
   "cell_type": "code",
   "execution_count": 8,
   "metadata": {},
   "outputs": [
    {
     "data": {
      "text/plain": [
       "7028"
      ]
     },
     "execution_count": 8,
     "metadata": {},
     "output_type": "execute_result"
    }
   ],
   "source": [
    "len(text_list[9])"
   ]
  },
  {
   "cell_type": "code",
   "execution_count": 10,
   "metadata": {},
   "outputs": [
    {
     "data": {
      "text/plain": [
       "b'enthusiasm (44.81%) & calmness (76.8%) [INTROSPECTION=-2.78%,TEMPER=58.34%,ATTITUDE=51.0%,SENSITIVITY=80.79%]\\n'"
      ]
     },
     "execution_count": 10,
     "metadata": {},
     "output_type": "execute_result"
    }
   ],
   "source": [
    "get_emotion(text_list[8][:5000]).content"
   ]
  },
  {
   "cell_type": "code",
   "execution_count": null,
   "metadata": {},
   "outputs": [],
   "source": []
  }
 ],
 "metadata": {
  "kernelspec": {
   "display_name": "base",
   "language": "python",
   "name": "python3"
  },
  "language_info": {
   "codemirror_mode": {
    "name": "ipython",
    "version": 3
   },
   "file_extension": ".py",
   "mimetype": "text/x-python",
   "name": "python",
   "nbconvert_exporter": "python",
   "pygments_lexer": "ipython3",
   "version": "3.11.7"
  }
 },
 "nbformat": 4,
 "nbformat_minor": 2
}
