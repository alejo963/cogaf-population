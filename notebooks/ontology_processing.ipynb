{
 "cells": [
  {
   "cell_type": "code",
   "execution_count": 1,
   "metadata": {},
   "outputs": [
    {
     "name": "stderr",
     "output_type": "stream",
     "text": [
      "\n",
      "Warning: SQLite3 version 3.40.0 and 3.41.2 have huge performance regressions; please install version 3.41.1 or 3.42!\n",
      "\n"
     ]
    }
   ],
   "source": [
    "from owlready2 import *"
   ]
  },
  {
   "cell_type": "code",
   "execution_count": 2,
   "metadata": {},
   "outputs": [],
   "source": [
    "onto = get_ontology('./../ontology/COGAF_Ontology.rdf').load()"
   ]
  },
  {
   "cell_type": "code",
   "execution_count": 3,
   "metadata": {},
   "outputs": [
    {
     "data": {
      "text/plain": [
       "[COGAF_Ontology.Attention, COGAF_Ontology.Memory, COGAF_Ontology.Perception]"
      ]
     },
     "execution_count": 3,
     "metadata": {},
     "output_type": "execute_result"
    }
   ],
   "source": [
    "onto.BasicCognitiveFunction.instances()"
   ]
  },
  {
   "cell_type": "code",
   "execution_count": 4,
   "metadata": {},
   "outputs": [
    {
     "data": {
      "text/plain": [
       "[COGAF_Ontology.Anger,\n",
       " COGAF_Ontology.Disgust,\n",
       " COGAF_Ontology.Fear,\n",
       " COGAF_Ontology.Happiness,\n",
       " COGAF_Ontology.Sadness,\n",
       " COGAF_Ontology.Surprise]"
      ]
     },
     "execution_count": 4,
     "metadata": {},
     "output_type": "execute_result"
    }
   ],
   "source": [
    "onto.BasicEmotion.instances()"
   ]
  },
  {
   "cell_type": "code",
   "execution_count": 5,
   "metadata": {},
   "outputs": [
    {
     "data": {
      "text/plain": [
       "[COGAF_Ontology.Emotion & COGAF_Ontology.isBasicEmotion.value(True)]"
      ]
     },
     "execution_count": 5,
     "metadata": {},
     "output_type": "execute_result"
    }
   ],
   "source": [
    "onto.BasicEmotion.equivalent_to"
   ]
  },
  {
   "cell_type": "code",
   "execution_count": 6,
   "metadata": {},
   "outputs": [],
   "source": [
    "from modules.types import *"
   ]
  },
  {
   "cell_type": "code",
   "execution_count": 7,
   "metadata": {},
   "outputs": [],
   "source": [
    "instance = CogafInstance(\"Attention\", \"Fear\")"
   ]
  },
  {
   "cell_type": "code",
   "execution_count": 8,
   "metadata": {},
   "outputs": [
    {
     "data": {
      "text/plain": [
       "['INDIVIDUAL']"
      ]
     },
     "execution_count": 8,
     "metadata": {},
     "output_type": "execute_result"
    }
   ],
   "source": [
    "instance.cognitiveFunction.tasks[0].tests[0].applicationType"
   ]
  },
  {
   "cell_type": "code",
   "execution_count": 9,
   "metadata": {},
   "outputs": [
    {
     "data": {
      "text/plain": [
       "{'name': 'Attention',\n",
       " 'activities': [<modules.types.ComplementaryActivity at 0x1abe0e68fd0>,\n",
       "  <modules.types.ComplementaryActivity at 0x1abe0e70ad0>,\n",
       "  <modules.types.ComplementaryActivity at 0x1abe0e70350>],\n",
       " 'tasks': [<modules.types.PsychologicalTask at 0x1abe0e73c10>]}"
      ]
     },
     "execution_count": 9,
     "metadata": {},
     "output_type": "execute_result"
    }
   ],
   "source": [
    "instance.cognitiveFunction.__dict__"
   ]
  },
  {
   "cell_type": "code",
   "execution_count": 10,
   "metadata": {},
   "outputs": [
    {
     "data": {
      "text/plain": [
       "{'cognitiveFunction': {'name': 'Attention',\n",
       "  'activities': [{'name': 'Bomb', 'mechanics': ['Avoid', 'Write']},\n",
       "   {'name': 'Jackpot', 'mechanics': ['Match', 'Randomize']},\n",
       "   {'name': 'Killer', 'mechanics': ['Match', 'Shoot']}],\n",
       "  'tasks': [{'name': 'IgnoreDistractions',\n",
       "    'tests': [{'name': 'StroopTest',\n",
       "      'abbreviation': ['Test de Stroop'],\n",
       "      'description': ['Evalúa la capacidad de una persona para controlar la interferencia cognitiva, específicamente la capacidad de ignorar distracciones irrelevantes y mantener el enfoque en la información relevante.'],\n",
       "      'author': ['John Ridley Stroop'],\n",
       "      'testType': ['WRITTEN'],\n",
       "      'applicationType': ['INDIVIDUAL']}]}]},\n",
       " 'emotion': {'name': 'Fear', 'state': {'valence': [2.7], 'arousal': [-3.0]}}}"
      ]
     },
     "execution_count": 10,
     "metadata": {},
     "output_type": "execute_result"
    }
   ],
   "source": [
    "instance.toDict()"
   ]
  },
  {
   "cell_type": "code",
   "execution_count": 11,
   "metadata": {},
   "outputs": [
    {
     "data": {
      "text/plain": [
       "[2.7]"
      ]
     },
     "execution_count": 11,
     "metadata": {},
     "output_type": "execute_result"
    }
   ],
   "source": [
    "instance.emotion.state.valence"
   ]
  },
  {
   "cell_type": "code",
   "execution_count": null,
   "metadata": {},
   "outputs": [],
   "source": []
  }
 ],
 "metadata": {
  "kernelspec": {
   "display_name": "Python 3",
   "language": "python",
   "name": "python3"
  },
  "language_info": {
   "codemirror_mode": {
    "name": "ipython",
    "version": 3
   },
   "file_extension": ".py",
   "mimetype": "text/x-python",
   "name": "python",
   "nbconvert_exporter": "python",
   "pygments_lexer": "ipython3",
   "version": "3.11.5"
  }
 },
 "nbformat": 4,
 "nbformat_minor": 2
}
