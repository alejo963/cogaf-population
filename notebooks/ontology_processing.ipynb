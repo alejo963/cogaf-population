{
 "cells": [
  {
   "cell_type": "code",
   "execution_count": 1,
   "metadata": {},
   "outputs": [
    {
     "name": "stdout",
     "output_type": "stream",
     "text": [
      "Defaulting to user installation because normal site-packages is not writeable\n",
      "Collecting owlready2\n",
      "  Downloading owlready2-0.46.tar.gz (27.4 MB)\n",
      "     ---------------------------------------- 0.0/27.4 MB ? eta -:--:--\n",
      "     ---------------------------------------- 0.1/27.4 MB 3.3 MB/s eta 0:00:09\n",
      "      --------------------------------------- 0.6/27.4 MB 7.1 MB/s eta 0:00:04\n",
      "     - -------------------------------------- 1.0/27.4 MB 11.1 MB/s eta 0:00:03\n",
      "     - -------------------------------------- 1.0/27.4 MB 11.1 MB/s eta 0:00:03\n",
      "     -- ------------------------------------- 1.8/27.4 MB 8.4 MB/s eta 0:00:04\n",
      "     --- ------------------------------------ 2.1/27.4 MB 9.5 MB/s eta 0:00:03\n",
      "     ---- ----------------------------------- 3.4/27.4 MB 10.8 MB/s eta 0:00:03\n",
      "     ----- ---------------------------------- 4.0/27.4 MB 11.0 MB/s eta 0:00:03\n",
      "     ------- -------------------------------- 5.2/27.4 MB 12.8 MB/s eta 0:00:02\n",
      "     ------- -------------------------------- 5.2/27.4 MB 12.9 MB/s eta 0:00:02\n",
      "     ---------- ----------------------------- 6.9/27.4 MB 13.8 MB/s eta 0:00:02\n",
      "     ---------- ----------------------------- 7.3/27.4 MB 13.8 MB/s eta 0:00:02\n",
      "     ----------- ---------------------------- 7.6/27.4 MB 12.8 MB/s eta 0:00:02\n",
      "     ------------- -------------------------- 9.4/27.4 MB 14.7 MB/s eta 0:00:02\n",
      "     ------------- -------------------------- 9.4/27.4 MB 14.7 MB/s eta 0:00:02\n",
      "     ------------- -------------------------- 9.4/27.4 MB 14.7 MB/s eta 0:00:02\n",
      "     ------------- -------------------------- 9.4/27.4 MB 14.7 MB/s eta 0:00:02\n",
      "     -------------- ------------------------ 10.5/27.4 MB 13.4 MB/s eta 0:00:02\n",
      "     -------------- ------------------------ 10.5/27.4 MB 13.4 MB/s eta 0:00:02\n",
      "     -------------- ------------------------ 10.5/27.4 MB 13.4 MB/s eta 0:00:02\n",
      "     -------------- ------------------------ 10.5/27.4 MB 13.4 MB/s eta 0:00:02\n",
      "     -------------- ------------------------ 10.5/27.4 MB 13.4 MB/s eta 0:00:02\n",
      "     --------------- ----------------------- 11.2/27.4 MB 10.6 MB/s eta 0:00:02\n",
      "     ----------------- --------------------- 12.6/27.4 MB 12.6 MB/s eta 0:00:02\n",
      "     ----------------- --------------------- 12.6/27.4 MB 12.6 MB/s eta 0:00:02\n",
      "     ------------------ -------------------- 13.3/27.4 MB 11.3 MB/s eta 0:00:02\n",
      "     ------------------- ------------------- 13.6/27.4 MB 11.7 MB/s eta 0:00:02\n",
      "     ------------------- ------------------- 13.6/27.4 MB 11.7 MB/s eta 0:00:02\n",
      "     ------------------- ------------------- 13.6/27.4 MB 11.7 MB/s eta 0:00:02\n",
      "     ------------------- ------------------- 13.6/27.4 MB 11.7 MB/s eta 0:00:02\n",
      "     ------------------- ------------------- 13.6/27.4 MB 11.7 MB/s eta 0:00:02\n",
      "     ------------------- ------------------- 13.6/27.4 MB 11.7 MB/s eta 0:00:02\n",
      "     ---------------------- ----------------- 15.1/27.4 MB 9.0 MB/s eta 0:00:02\n",
      "     ---------------------- ----------------- 15.7/27.4 MB 9.4 MB/s eta 0:00:02\n",
      "     ---------------------- ----------------- 15.7/27.4 MB 9.4 MB/s eta 0:00:02\n",
      "     ---------------------- ----------------- 15.7/27.4 MB 9.4 MB/s eta 0:00:02\n",
      "     ---------------------- ----------------- 15.7/27.4 MB 9.4 MB/s eta 0:00:02\n",
      "     ---------------------- ----------------- 15.7/27.4 MB 9.4 MB/s eta 0:00:02\n",
      "     ---------------------- ----------------- 15.7/27.4 MB 9.4 MB/s eta 0:00:02\n",
      "     ---------------------- ----------------- 15.7/27.4 MB 9.4 MB/s eta 0:00:02\n",
      "     ---------------------- ----------------- 15.7/27.4 MB 9.4 MB/s eta 0:00:02\n",
      "     ---------------------- ----------------- 15.7/27.4 MB 9.4 MB/s eta 0:00:02\n",
      "     ------------------------ --------------- 17.0/27.4 MB 6.8 MB/s eta 0:00:02\n",
      "     --------------------------- ------------ 19.0/27.4 MB 7.3 MB/s eta 0:00:02\n",
      "     ----------------------------- ---------- 19.9/27.4 MB 8.1 MB/s eta 0:00:01\n",
      "     ----------------------------- ---------- 19.9/27.4 MB 8.1 MB/s eta 0:00:01\n",
      "     ----------------------------- ---------- 19.9/27.4 MB 8.1 MB/s eta 0:00:01\n",
      "     ----------------------------- ---------- 19.9/27.4 MB 8.1 MB/s eta 0:00:01\n",
      "     ----------------------------- ---------- 19.9/27.4 MB 8.1 MB/s eta 0:00:01\n",
      "     ----------------------------- ---------- 20.4/27.4 MB 6.7 MB/s eta 0:00:02\n",
      "     -------------------------------- ------- 22.5/27.4 MB 8.0 MB/s eta 0:00:01\n",
      "     ---------------------------------- ----- 23.3/27.4 MB 8.3 MB/s eta 0:00:01\n",
      "     ------------------------------------ -- 25.3/27.4 MB 10.9 MB/s eta 0:00:01\n",
      "     --------------------------------------  27.4/27.4 MB 19.9 MB/s eta 0:00:01\n",
      "     --------------------------------------  27.4/27.4 MB 19.9 MB/s eta 0:00:01\n",
      "     --------------------------------------  27.4/27.4 MB 19.9 MB/s eta 0:00:01\n",
      "     --------------------------------------  27.4/27.4 MB 19.9 MB/s eta 0:00:01\n",
      "     --------------------------------------- 27.4/27.4 MB 15.6 MB/s eta 0:00:00\n",
      "  Installing build dependencies: started\n",
      "  Installing build dependencies: finished with status 'done'\n",
      "  Getting requirements to build wheel: started\n",
      "  Getting requirements to build wheel: finished with status 'done'\n",
      "  Preparing metadata (pyproject.toml): started\n",
      "  Preparing metadata (pyproject.toml): finished with status 'done'\n",
      "Building wheels for collected packages: owlready2\n",
      "  Building wheel for owlready2 (pyproject.toml): started\n",
      "  Building wheel for owlready2 (pyproject.toml): finished with status 'done'\n",
      "  Created wheel for owlready2: filename=owlready2-0.46-py3-none-any.whl size=23349142 sha256=331d9438dfa25841bb0125c9ce57dbd265f2de9bf59d83ca84717521241341f1\n",
      "  Stored in directory: c:\\users\\alejo\\appdata\\local\\pip\\cache\\wheels\\bf\\6f\\ef\\35df148baa59fc6b243aca4f101e17aed14b67dc1166b73fe0\n",
      "Successfully built owlready2\n",
      "Installing collected packages: owlready2\n",
      "Successfully installed owlready2-0.46\n"
     ]
    }
   ],
   "source": [
    "!pip install owlready2"
   ]
  },
  {
   "cell_type": "code",
   "execution_count": 1,
   "metadata": {},
   "outputs": [],
   "source": [
    "from owlready2 import *"
   ]
  },
  {
   "cell_type": "code",
   "execution_count": 2,
   "metadata": {},
   "outputs": [],
   "source": [
    "onto = get_ontology('./../ontology/COGAF_ontology.rdf').load()"
   ]
  },
  {
   "cell_type": "code",
   "execution_count": 3,
   "metadata": {},
   "outputs": [
    {
     "data": {
      "text/plain": [
       "[COGAF_ontology.CognitiveFunction, COGAF_ontology.BasicCognitiveFunction, COGAF_ontology.ComplexCognitiveFunction]"
      ]
     },
     "execution_count": 3,
     "metadata": {},
     "output_type": "execute_result"
    }
   ],
   "source": [
    "onto.search(subclass_of=onto.CognitiveFunction)"
   ]
  },
  {
   "cell_type": "code",
   "execution_count": 4,
   "metadata": {},
   "outputs": [
    {
     "data": {
      "text/plain": [
       "[]"
      ]
     },
     "execution_count": 4,
     "metadata": {},
     "output_type": "execute_result"
    }
   ],
   "source": [
    "list(onto.general_class_axioms())"
   ]
  },
  {
   "cell_type": "code",
   "execution_count": 7,
   "metadata": {},
   "outputs": [
    {
     "data": {
      "text/plain": [
       "[COGAF_ontology.CognitiveFunction & COGAF_ontology.basicCogFunctionType.some(OneOf(['ATTENTION', 'MEMORY', 'PERCEPTION']))]"
      ]
     },
     "execution_count": 7,
     "metadata": {},
     "output_type": "execute_result"
    }
   ],
   "source": [
    "onto.BasicCognitiveFunction.equivalent_to"
   ]
  }
 ],
 "metadata": {
  "kernelspec": {
   "display_name": "Python 3",
   "language": "python",
   "name": "python3"
  },
  "language_info": {
   "codemirror_mode": {
    "name": "ipython",
    "version": 3
   },
   "file_extension": ".py",
   "mimetype": "text/x-python",
   "name": "python",
   "nbconvert_exporter": "python",
   "pygments_lexer": "ipython3",
   "version": "3.10.6"
  }
 },
 "nbformat": 4,
 "nbformat_minor": 2
}
