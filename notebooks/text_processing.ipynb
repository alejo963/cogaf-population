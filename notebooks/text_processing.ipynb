{
 "cells": [
  {
   "cell_type": "markdown",
   "metadata": {},
   "source": [
    "# Procesamiento de PDF"
   ]
  },
  {
   "cell_type": "code",
   "execution_count": 2,
   "metadata": {},
   "outputs": [],
   "source": [
    "import pandas as pd\n",
    "import numpy as np\n",
    "from PyPDF2 import PdfReader"
   ]
  },
  {
   "cell_type": "code",
   "execution_count": 6,
   "metadata": {},
   "outputs": [],
   "source": [
    "reader = PdfReader('./../data/ANM/leccion_aprendida_acci_inundacion_socota_boyaca_19_04_2017.pdf')"
   ]
  },
  {
   "cell_type": "code",
   "execution_count": 7,
   "metadata": {},
   "outputs": [
    {
     "name": "stdout",
     "output_type": "stream",
     "text": [
      "2\n"
     ]
    }
   ],
   "source": [
    "print(len(reader.pages))"
   ]
  },
  {
   "cell_type": "code",
   "execution_count": 8,
   "metadata": {},
   "outputs": [
    {
     "name": "stdout",
     "output_type": "stream",
     "text": [
      "¿QUÉ PASÓ?\n",
      "Fecha de ocurrencia:\n",
      "ABRIL 19 DE 2017INUNDACIÓN\n",
      "BOYAC ÁACCIDENTE MINERO POR\n",
      "EXPLOTACIÓN \n",
      "SUBTERRÁNEA \n",
      "DE CARBÓN\n",
      "Socotá\n",
      "1 TRABAJADOR\n",
      "FALLECIDOAHOGAMIENTO\n",
      "AGUALECCIÓN APRENDIDA\n",
      "B Á S I C A S\n",
      "(Líquidos)\n",
      "CAUSAS\n",
      "I N M E D I A T A SCONSECUENCIA\n",
      "Muerte por ahogamiento de un trabajador minero.\n",
      "Factores Personales:\n",
      "* Inadecuada supervisión\n",
      "* Existencia de labores mineras \n",
      "antiguas inundadas y desconocidas \n",
      "aledañas a la mina.\n",
      "* Filtraciones de agua por aumento de \n",
      "precipitación en la zona.* Desconocimiento del estado de las \n",
      "labores mineras antiguas aledañas a la \n",
      "mina, tipo de labores y estado actual.\n",
      "* Valoración no adecuada al riesgo que \n",
      "se enfrentaba\n",
      "Factores Laborales:\n",
      "* Instrucción inicial insu/f_iciente\n",
      "*Exceso de con/f_ianza del trabajador* Percepción de/f_iciente del riesgoActos Inseguros:Falta de atención a pisos y vecindades.\n",
      "Condiciones inseguras:\n",
      "No contar con planos actualizados de las minas que permitan localizar los trabajos antiguos donde \n",
      "presuntamente hay \n",
      "acumulación de aguas subterráneas que puedan afectar la integridad física de los trabajadores que \n",
      "laboran en las minas.\n",
      "Fecha de la alerta: \n",
      "MAYO 3 DE 2017El accidente mortal se presentó al generarse la comunicación de los \n",
      "trabajos actuales de la mina con labores antiguas de otras minas que ya se encontraban, abandonadas, selladas por un deslizamiento e inundadas y que eran desconocidas en ese momento, lo cual generó \n",
      "una irrupción súbita de agua inundando las labores mineras de \n",
      "desarrollo y preparación de la mina y que originó el ahogamiento de un trabajador minero. El rescate fue realizado por la Agencia Nacional de Minería, Estación de Seguridad y salvamento minero de Nobsa – Boyacá.\n"
     ]
    }
   ],
   "source": [
    "page = reader.pages[0]\n",
    "\n",
    "text = page.extract_text()\n",
    "\n",
    "print(text)"
   ]
  }
 ],
 "metadata": {
  "kernelspec": {
   "display_name": "base",
   "language": "python",
   "name": "python3"
  },
  "language_info": {
   "codemirror_mode": {
    "name": "ipython",
    "version": 3
   },
   "file_extension": ".py",
   "mimetype": "text/x-python",
   "name": "python",
   "nbconvert_exporter": "python",
   "pygments_lexer": "ipython3",
   "version": "3.11.5"
  },
  "orig_nbformat": 4
 },
 "nbformat": 4,
 "nbformat_minor": 2
}
