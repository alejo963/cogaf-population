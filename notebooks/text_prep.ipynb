{
 "cells": [
  {
   "cell_type": "markdown",
   "metadata": {},
   "source": [
    "# Text preparation"
   ]
  },
  {
   "cell_type": "markdown",
   "metadata": {},
   "source": [
    "This notebook takes the .txt files generated in the pdf2image notebook and cleans and prepares the text to later be processed"
   ]
  },
  {
   "cell_type": "code",
   "execution_count": 1,
   "metadata": {},
   "outputs": [],
   "source": [
    "import glob"
   ]
  },
  {
   "cell_type": "code",
   "execution_count": 2,
   "metadata": {},
   "outputs": [
    {
     "name": "stdout",
     "output_type": "stream",
     "text": [
      "84\n",
      "./../data/text/raw\\0000_000_999-accidentes-trabajo.txt\n"
     ]
    }
   ],
   "source": [
    "txt_files = glob.glob('./../data/text/raw/*.txt')\n",
    "print(len(txt_files))\n",
    "print(txt_files[0])"
   ]
  },
  {
   "cell_type": "code",
   "execution_count": 3,
   "metadata": {},
   "outputs": [],
   "source": [
    "text_list = []\n",
    "for file in txt_files:\n",
    "    with open(file, 'r', encoding='utf-8') as f:\n",
    "        text_list.append(f.read())"
   ]
  },
  {
   "cell_type": "code",
   "execution_count": 4,
   "metadata": {},
   "outputs": [],
   "source": [
    "import re\n",
    "text = text_list[0]\n",
    "pattern =  r'\\n[a-z]'\n",
    "for match in re.finditer(pattern, text_list[0]):\n",
    "\n",
    "    text = text[:match.span()[0]] + \" \" + text[match.span()[0] + 1:]"
   ]
  },
  {
   "cell_type": "code",
   "execution_count": 5,
   "metadata": {},
   "outputs": [],
   "source": [
    "pattern =  r'\\n[a-z]'\n",
    "prep_text_list = []\n",
    "for text in text_list:\n",
    "    temp_text = text\n",
    "    for match in re.finditer(pattern, text):\n",
    "        ## Replace line breaks inside of unfinished sentences with blank spaces\n",
    "        temp_text = temp_text[:match.span()[0]] + \" \" + text[match.span()[0] + 1:]\n",
    "\n",
    "    prep_text_list.append(temp_text)"
   ]
  },
  {
   "cell_type": "code",
   "execution_count": 6,
   "metadata": {},
   "outputs": [
    {
     "name": "stdout",
     "output_type": "stream",
     "text": [
      "Lecciones Aprendidas\n",
      "\n",
      "Accidente de trabajo\n",
      "Caída piso mojado\n",
      "\n",
      "¿Qué pasó?\n",
      "\n",
      "Un funcionario de la UGC y su compañero de trabajo se encontraban realizando la limpieza de un piso de madera en las instalaciones de la Universidad.\n",
      "\n",
      "Mientras Uno de ellos bajaba al primer piso por un trapero limpio, su compañero de trabajo vertió removedor en los guarda- escobas, ocasionando que el desplazamiento del líquido generara un peligro de caída al momento en que este regresara para continuar la actividad de limpieza.\n",
      "\n",
      "Consecuencias:\n",
      "\n",
      "Golpe en la espalda, codos, antebrazos y cabeza\n",
      "¿Qué lo causo?\n",
      "\n",
      "» Falta de comunicación entre compañeros de trabajo (No comunicar la advertencia del peligro evidenciado).\n",
      "\n",
      "» Ausencia de señalización durante el desarrollo de la labor.\n",
      "\n",
      "+ No usar los elementos de trabajo que se encuentran a su alcance.\n",
      "\n",
      "» No verificar las condiciones del piso.\n",
      "\n",
      "¿Cómo evitar que ocurra nuevamente?\n",
      "\n",
      "1. Cuando las actividades se realicen con uno o más compañeros de trabajo, debes mantener una comunicación asertiva y fluida, ya que contribuye al cumplimiento de los objetivos y metas organizacionales y evita accidentes de trabajo.\n",
      "\n",
      "2. Cuando camines, siempre mira en dirección a tus pasos y reporta cualquier condición insegura que veas para evitar la ocurrencia de los accidentes.\n",
      "\n",
      "3. Presta atención a la señalización ubicada en el piso mojado, cuando lo están limpiando, para evitar caídas.\n",
      "\n",
      "4. Utiliza todos los elementos de protección personal adecuados para la realización\n",
      " de la labor.\n",
      "\n",
      "En lo posible, utiliza calzado con suela antideslizante.\n",
      " a\n",
      "\n",
      "\n"
     ]
    }
   ],
   "source": [
    "print(prep_text_list[0])"
   ]
  },
  {
   "cell_type": "code",
   "execution_count": 72,
   "metadata": {},
   "outputs": [],
   "source": [
    "for i, text in enumerate(prep_text_list):\n",
    "    filename = f'./../data/text/prep/{txt_files[i][19:]}'\n",
    "    with open(filename, 'w', encoding='utf-8') as f:\n",
    "        f.write(text)"
   ]
  }
 ],
 "metadata": {
  "kernelspec": {
   "display_name": "Python 3",
   "language": "python",
   "name": "python3"
  },
  "language_info": {
   "codemirror_mode": {
    "name": "ipython",
    "version": 3
   },
   "file_extension": ".py",
   "mimetype": "text/x-python",
   "name": "python",
   "nbconvert_exporter": "python",
   "pygments_lexer": "ipython3",
   "version": "3.10.6"
  }
 },
 "nbformat": 4,
 "nbformat_minor": 2
}
